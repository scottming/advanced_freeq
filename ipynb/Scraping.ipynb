{
 "cells": [
  {
   "cell_type": "code",
   "execution_count": 25,
   "metadata": {
    "collapsed": true
   },
   "outputs": [],
   "source": [
    "from bs4 import BeautifulSoup"
   ]
  },
  {
   "cell_type": "code",
   "execution_count": 26,
   "metadata": {
    "collapsed": true
   },
   "outputs": [],
   "source": [
    "from urllib.request import urlopen"
   ]
  },
  {
   "cell_type": "code",
   "execution_count": null,
   "metadata": {
    "collapsed": false
   },
   "outputs": [],
   "source": [
    "html = '''abroad\\t<link rel=\"stylesheet\" type=\"text/css\" href=\"ldoceAZ.css\"/>\\\\n<a name=\"u2fc098491a42200a.6e2b450a.114ee8912f5.-25ad\"></a><a name=\"u2fc098491a42200a.6e2b450a.114ee8912f5.-25ad\" ><span class=\"SE_EntryAssets\" ><span class=\"EAHead\" ><span class=\"hwd\" >abroad</span><span class=\"pos\" >adverb</span></span><span class=\"EntryAssets\" ><span class=\"EntryAsset\" ><a href=\"bword://_collocation_000087\" ><span class=\"COLCATION\" >Collocations from this entry</span></a></span><span class=\"EntryAsset\" ><a href=\"bword://_collocation_100123\" ><span class=\"COLCATION\" >Collocations from other entries</span></a></span><span class=\"EntryAsset\" ><a href=\"bword://_collocation_200036\" ><span class=\"COLCATION\" >Collocations from the corpus</span></a></span></span><span class=\"EntryAssets\" ><span class=\"EntryAsset\" ><span class=\"Refs\" ><span class=\"ACTVC\">Activator</span><a href=\"bword://_thesaurus_p030-000055838\"><span class=\"ACTV\"> 1</span></a></><a href=\"bword://_thesaurus_p030-000055762\"><span class=\"THESR\"> 2</span></a></><a href=\"bword://_thesaurus_p030-000292815\"><span class=\"THESR\"> 3</span></a></></span></span></span><span class=\"EntryAssets\" ><span class=\"EntryAsset\" ><a href=\"bword://_phrases_00034\" ><span class=\"PHR\" >Phrases from other entries</span></a></span></span><span class=\"EntryAssets\" ><span class=\"EntryAsset\" ><a href=\"bword://_examples_000039\" ><span class=\"EXAMP\" >Other dictionary examples</span></a></span><span class=\"EntryAsset\" ><a href=\"bword://_examples_016848\" ><span class=\"EXAMP\" >Corpus examples</span></a></span></span><span class=\"EntryAssets\" ><span class=\"EntryAsset\" ><span class=\"Refs\" ></></span></span></span><span class=\"EntryAssets\" ><span class=\"EntryAsset\" ></span><span class=\"EntryAsset\" ></span></span><span class=\"EntryAssets\" ><span class=\"EntryAsset\" ><span class=\"Refs\" ></></span></span></span></span><span class=\"Head\" ><span class=\"HWD\" ><span class=\"BASE\" >abroad</span><span class=\"INFLX\" >abroad</span></span><span class=\"HYPHENATION\"><span class=\"HYPHENATION_keyword\" >a‧broad</span></span><span class=\"FREQ\" ><span > </span>S2</span><span class=\"FREQ\" ><span > </span>W3</span><span class=\"PronCodes\" ><span > /</span><span class=\"PRON\" >əˈbrɔːd</span><span class=\"AMEVARPRON\" ><span > $ </span>əˈbrɒːd</span><span >/</span></span><a href=\"sound://GB_abroad0205.spx\" ><img src=\"snd_uk.png\" border=\"0\" ></img></a><a href=\"sound://US_abroad.spx\" ><img src=\"snd_us.png\" border=\"0\" ></img></a><span class=\"POS\" ><span > </span>adverb</span><span class=\"SE_EntryAssets\" ><span class=\"EntryAssets\" ><span class=\"EntryAsset\" ><span class=\"Refs\" ><span class=\"etymology\" ><span class=\"SENSE\" ><span class=\"lead\" >Date: </span><span class=\"CENTURY\" >1500-1600</span><br/><span class=\"lead\" >Origin: </span><span class=\"ORIGIN\" >abroad</span><span class=\"Z\" > </span><span class=\"TRAN\" ><span class=\"normal\" >‘</span>over a wide area<span class=\"normal\" >’</span></span><span class=\"Z\" > </span><span class=\"CENTURY\" ><span ></span>(13-21 centuries)</span><span class=\"Z\" >, from </span><span class=\"ORIGIN\" ><span ></span>broad</span></span>\\\\n</span></span></span></span></span></span><a name=\"u2fc098491a42200a.6e2b450a.114ee8912f5.-25a3\"></a><span class=\"Sense\"><span class=\"Sense_newline\" ><span class=\"sensenum\" >1</span><span class=\"ACTIV\" >FOREIGN</span><span class=\"ACTIV\" >TRAVEL</span><span class=\"DEF\" >in or to a foreign country</span><span >: </span><a name=\"u2fc098491a42200a.6e2b450a.114ee8912f5.-259f\"></a><span class=\"EXAMPLE\" ><a href=\"sound://p008__000964447.spx\" ><img src=\"snd_sfx.png\" border=\"0\" ></img></a><span class=\"BASE\" >I’ve never <span class=\"COLLOINEXA\" >lived abroad</span> before.</span><span class=\"INFLX\" >live</span></span><a name=\"u2fc098491a42200a.6e2b450a.114ee8912f5.-259d\"></a><span class=\"EXAMPLE\" ><a href=\"sound://p008__000964450.spx\" ><img src=\"snd_sfx.png\" border=\"0\" ></img></a><span class=\"BASE\" >She often <span class=\"COLLOINEXA\" >goes abroad</span> on business.</span><span class=\"INFLX\" >go</span></span><a name=\"u2fc098491a42200a.6e2b450a.114ee8912f5.-259b\"></a><span class=\"EXAMPLE\" ><a href=\"sound://p008__001619131.spx\" ><img src=\"snd_sfx.png\" border=\"0\" ></img></a><span class=\"BASE\" >We never <span class=\"COLLOINEXA\" >travelled abroad</span> when we were kids.</span><span class=\"INFLX\" >travel</span><span class=\"INFLX\" >be</span><span class=\"INFLX\" >kid</span></span><a name=\"u2fc098491a42200a.6e2b450a.114ee8912f5.-2599\"></a><span class=\"EXAMPLE\" ><a href=\"sound://p008__001619135.spx\" ><img src=\"snd_sfx.png\" border=\"0\" ></img></a><span class=\"BASE\" >goods imported <span class=\"COLLOINEXA\" >from abroad</span></span><span class=\"INFLX\" >good</span><span class=\"INFLX\" >import</span></span><a name=\"u2fc098491a42200a.6e2b450a.114ee8912f5.-2597\"></a><span class=\"EXAMPLE\" ><a href=\"sound://ldoce5_exa020004.spx\" ><img src=\"snd_sfx.png\" border=\"0\" ></img></a><span class=\"BASE\" >The books about Harry Potter have been very popular, both <span class=\"COLLOINEXA\" >at home and abroad</span>.</span><span class=\"INFLX\" >book</span><span class=\"INFLX\" >be</span></span></span></span><a name=\"u2fc098491a42200a.6e2b450a.114ee8912f5.-2595\"></a><span class=\"Sense\"><span class=\"Sense_newline\" ><span class=\"sensenum\" >2</span><span class=\"REGISTERLAB\" >formal</span><span class=\"DEF\" ><span > </span>if a feeling, piece of news etc is abroad, a lot of people feel it or know about it</span><span >: </span><a name=\"u2fc098491a42200a.6e2b450a.114ee8912f5.-2592\"></a><span class=\"EXAMPLE\" ><a href=\"sound://p008__000964456.spx\" ><img src=\"snd_sfx.png\" border=\"0\" ></img></a><span class=\"BASE\" >commercial secrets which we did not want to be spread abroad</span><span class=\"INFLX\" >secret</span><span class=\"INFLX\" >do</span></span></span></span></a>\\\\n'''"
   ]
  },
  {
   "cell_type": "code",
   "execution_count": null,
   "metadata": {
    "collapsed": false
   },
   "outputs": [],
   "source": [
    "html[:1000]"
   ]
  },
  {
   "cell_type": "code",
   "execution_count": 23,
   "metadata": {
    "collapsed": true
   },
   "outputs": [],
   "source": [
    "html = 'word ,noun\\t<link rel=\"stylesheet\" type=\"text/css\" href=\"ldoceAZ.css\"/>\\\\n<a name=\"u2fc098491a42200a.6e2b450a.115045a11b6.-4b30\"></a><a name=\"u2fc098491a42200a.6e2b450a.115045a11b6.-4b30\" ><span class=\"SE_EntryAssets\" ><span class=\"EAHead\" ><span class=\"hwd\" >word</span><span class=\"pos\" >noun</span></span><span class=\"EntryAssets\" ><span class=\"EntryAsset\" ><a href=\"bword://_collocation_008129\" ><span class=\"COLCATION\" >Collocations from this entry</span></a></span><span class=\"EntryAsset\" ><a href=\"bword://_collocation_111991\" ><span class=\"COLCATION\" >Collocations from other entries</span></a></span><span class=\"EntryAsset\" ><a href=\"bword://_collocation_214190\" ><span class=\"COLCATION\" >Collocations from the corpus</span></a></span></span><span class=\"EntryAssets\" ><span class=\"EntryAsset\" ><span class=\"Refs\" ><span class=\"THESRC\">Thesaurus</span><a href=\"bword://_thesaurus_u2fc098491a42200a.262cc60a.117ee7c0f66.-367\"><span class=\"THESR\"> 1</span></a></></span></span><span class=\"EntryAsset\" ><span class=\"Refs\" ><span class=\"ACTVC\">Activator</span><a href=\"bword://_thesaurus_p030-000184401\"><span class=\"ACTV\"> 1</span></a></><a href=\"bword://_thesaurus_p030-000184495\"><span class=\"THESR\"> 2</span></a></><a href=\"bword://_thesaurus_p030-000184532\"><span class=\"THESR\"> 3</span></a></><a href=\"bword://_thesaurus_p030-000184653\"><span class=\"THESR\"> 4</span></a></></span></span></span><span class=\"EntryAssets\" ><span class=\"EntryAsset\" ><a href=\"bword://_phrases_11828\" ><span class=\"PHR\" >Phrases from this entry</span></a></span><span class=\"EntryAsset\" ><a href=\"bword://_phrases_11829\" ><span class=\"PHR\" >Phrases from other entries</span></a></span></span><span class=\"EntryAssets\" ><span class=\"EntryAsset\" ><a href=\"bword://_examples_016614\" ><span class=\"EXAMP\" >Other dictionary examples</span></a></span><span class=\"EntryAsset\" ><a href=\"bword://_examples_050383\" ><span class=\"EXAMP\" >Corpus examples</span></a></span></span><span class=\"EntryAssets\" ><span class=\"EntryAsset\" ><span class=\"Refs\" ></></span></span></span><span class=\"EntryAssets\" ><span class=\"EntryAsset\" ></span><span class=\"EntryAsset\" ></span></span></span><span class=\"Head\" ><span class=\"HWD\" ><span class=\"BASE\" >word</span><span class=\"INFLX\" >words</span><span class=\"INFLX\" >word</span></span><span class=\"HYPHENATION\"><span class=\"HYPHENATION_keyword\" >word</span></span><span class=\"HOMNUM\"><span class=\"HOMNUM_keyword\" >1</span></span><span class=\"FREQ\" ><span > </span>S1</span><span class=\"FREQ\" ><span > </span>W1</span><span class=\"PronCodes\" ><span > /</span><span class=\"PRON\" >wɜːd</span><span class=\"AMEVARPRON\" ><span > $ </span>wɜːrd</span><span >/</span></span><a href=\"sound://GB_word_las2_br.spx\" ><img src=\"snd_uk.png\" border=\"0\" ></img></a><a href=\"sound://US_word1.spx\" ><img src=\"snd_us.png\" border=\"0\" ></img></a><span class=\"POS\" ><span > </span>noun</span><span class=\"SE_EntryAssets\" ><span class=\"EntryAssets\" ><span class=\"EntryAsset\" ><span class=\"Refs\" ><a name=\"1357\"></a><span class=\"Menu\" ><span class=\"menu-head\" ><span class=\"hwd\" >word</span><span class=\"hom\" >1</span><span class=\"pos\" >noun</span></span><span class=\"menu-body\" ><span class=\"Link\" ><span class=\"sensenum\" >1. </span><a href=\"bword://#u2fc098491a42200a.6e2b450a.115045a11b6.-4b25\"><span class=\"Ref\" ><span class=\"SIGNPOST\" >group of letters</span></span></a></span>\\\\n<span class=\"Link\" ><span class=\"sensenum\" >2. </span><a href=\"bword://#u2fc098491a42200a.6e2b450a.115045a11b6.-4b0e\"><span class=\"Ref\" ><span class=\"LEXUNIT\" >sb’s words</span></span></a></span>\\\\n<span class=\"Link\" ><span class=\"sensenum\" >3. </span><a href=\"bword://#u2fc098491a42200a.-68b49d38.11be7425eae.-1869\"><span class=\"Ref\" ><span class=\"LEXUNIT\" >the words</span></span></a></span>\\\\n<span class=\"Link\" ><span class=\"sensenum\" >4. </span><a href=\"bword://#u2fc098491a42200a.6e2b450a.115045a11b6.-4b05\"><span class=\"Ref\" ><span class=\"LEXUNIT\" >have a word</span></span></a></span>\\\\n<span class=\"Link\" ><span class=\"sensenum\" >5. </span><a href=\"bword://#u2fc098491a42200a.6e2b450a.115045a11b6.-4af6\"><span class=\"Ref\" ><span class=\"LEXUNIT\" >want a word</span></span></a></span>\\\\n<span class=\"Link\" ><span class=\"sensenum\" >6. </span><a href=\"bword://#u2fc098491a42200a.6e2b450a.115045a11b6.-4aee\"><span class=\"Ref\" ><span class=\"LEXUNIT\" >not hear/understand/believe a word</span></span></a></span>\\\\n<span class=\"Link\" ><span class=\"sensenum\" >7. </span><a href=\"bword://#u2fc098491a42200a.6e2b450a.115045a11b6.-4ae6\"><span class=\"Ref\" ><span class=\"LEXUNIT\" >without (saying) a word</span></span></a></span>\\\\n<span class=\"Link\" ><span class=\"sensenum\" >8. </span><a href=\"bword://#u2fc098491a42200a.6e2b450a.115045a11b6.-4ae2\"><span class=\"Ref\" ><span class=\"LEXUNIT\" >say a word/say a few words</span></span></a></span>\\\\n<span class=\"Link\" ><span class=\"sensenum\" >9. </span><a href=\"bword://#u2fc098491a42200a.6e2b450a.115045a11b6.-4add\"><span class=\"Ref\" ><span class=\"LEXUNIT\" >a word of warning/caution/advice/thanks etc</span></span></a></span>\\\\n<span class=\"Link\" ><span class=\"sensenum\" >10. </span><a href=\"bword://#u2fc098491a42200a.6e2b450a.115045a11b6.-4ad8\"><span class=\"Ref\" ><span class=\"LEXUNIT\" >not say a word</span></span></a></span>\\\\n<span class=\"Link\" ><span class=\"sensenum\" >11. </span><a href=\"bword://#u2fc098491a42200a.6e2b450a.115045a11b6.-4acd\"><span class=\"Ref\" ><span class=\"LEXUNIT\" >put your feelings/thoughts etc into words</span></span></a></span>\\\\n<span class=\"Link\" ><span class=\"sensenum\" >12. </span><a href=\"bword://#u2fc098491a42200a.6e2b450a.115045a11b6.-4ac8\"><span class=\"Ref\" ><span class=\"LEXUNIT\" >have/exchange words (with sb)</span></span></a></span>\\\\n<span class=\"Link\" ><span class=\"sensenum\" >13. </span><a href=\"bword://#u2fc098491a42200a.6e2b450a.115045a11b6.-4ac3\"><span class=\"Ref\" ><span class=\"LEXUNIT\" >a harsh/a cross/an angry etc word</span></span></a></span>\\\\n<span class=\"Link\" ><span class=\"sensenum\" >14. </span><a href=\"bword://#u2fc098491a42200a.6e2b450a.115045a11b6.-4abe\"><span class=\"Ref\" ><span class=\"SIGNPOST\" >news/information</span></span></a></span>\\\\n<span class=\"Link\" ><span class=\"sensenum\" >15. </span><a href=\"bword://#u2fc098491a42200a.6e2b450a.115045a11b6.-4a9d\"><span class=\"Ref\" ><span class=\"LEXUNIT\" >the last/final word</span></span></a></span>\\\\n<span class=\"Link\" ><span class=\"sensenum\" >16. </span><a href=\"bword://#u2fc098491a42200a.6e2b450a.115045a11b6.-4a89\"><span class=\"Ref\" ><span class=\"LEXUNIT\" >my/his/your etc word</span></span></a></span>\\\\n<span class=\"Link\" ><span class=\"sensenum\" >17. </span><a href=\"bword://#u2fc098491a42200a.6e2b450a.115045a11b6.-4a66\"><span class=\"Ref\" ><span class=\"LEXUNIT\" >word for word</span></span></a></span>\\\\n<span class=\"Link\" ><span class=\"sensenum\" >18. </span><a href=\"bword://#u2fc098491a42200a.6e2b450a.115045a11b6.-4a59\"><span class=\"Ref\" ><span class=\"LEXUNIT\" >in a word</span></span></a></span>\\\\n<span class=\"Link\" ><span class=\"sensenum\" >19. </span><a href=\"bword://#u2fc098491a42200a.6e2b450a.115045a11b6.-4a54\"><span class=\"Ref\" ><span class=\"LEXUNIT\" >in words of one syllable</span></span></a></span>\\\\n<span class=\"Link\" ><span class=\"sensenum\" >20. </span><a href=\"bword://#u2fc098491a42200a.6e2b450a.115045a11b6.-4a50\"><span class=\"Ref\" ><span class=\"LEXUNIT\" >in so many words</span></span></a></span>\\\\n<span class=\"Link\" ><span class=\"sensenum\" >21. </span><a href=\"bword://#u2fc098491a42200a.6e2b450a.115045a11b6.-4a47\"><span class=\"Ref\" ><span class=\"LEXUNIT\" >take the words (right) out of sb’s mouth</span></span></a></span>\\\\n<span class=\"Link\" ><span class=\"sensenum\" >22. </span><a href=\"bword://#u2fc098491a42200a.6e2b450a.115045a11b6.-4a42\"><span class=\"Ref\" ><span class=\"LEXUNIT\" >put words into sb’s mouth</span></span></a></span>\\\\n<span class=\"Link\" ><span class=\"sensenum\" >23. </span><a href=\"bword://#u2fc098491a42200a.6e2b450a.115045a11b6.-4a3c\"><span class=\"Ref\" ><span class=\"SIGNPOST\" >an order</span></span></a></span>\\\\n<span class=\"Link\" ><span class=\"sensenum\" >24. </span><a href=\"bword://#u2fc098491a42200a.6e2b450a.115045a11b6.-4a33\"><span class=\"Ref\" ><span class=\"LEXUNIT\" >(right) from the word go</span></span></a></span>\\\\n<span class=\"Link\" ><span class=\"sensenum\" >25. </span><a href=\"bword://#u2fc098491a42200a.6e2b450a.115045a11b6.-4a2d\"><span class=\"Ref\" ><span class=\"LEXUNIT\" >too silly/complicated/ridiculous etc for words</span></span></a></span>\\\\n<span class=\"Link\" ><span class=\"sensenum\" >26. </span><a href=\"bword://#u2fc098491a42200a.6e2b450a.115045a11b6.-4a27\"><span class=\"Ref\" ><span class=\"LEXUNIT\" >(have/drop) a word in sb’s ear</span></span></a></span>\\\\n<span class=\"Link\" ><span class=\"sensenum\" >27. </span><a href=\"bword://#u2fc098491a42200a.6e2b450a.115045a11b6.-4a22\"><span class=\"Ref\" ><span class=\"LEXUNIT\" >get a word in (edgeways)</span></span></a></span>\\\\n<span class=\"Link\" ><span class=\"sensenum\" >28. </span><a href=\"bword://#u2fc098491a42200a.6e2b450a.115045a11b6.-4a1d\"><span class=\"Ref\" ><span class=\"LEXUNIT\" >put in a (good) word for sb</span></span></a></span>\\\\n<span class=\"Link\" ><span class=\"sensenum\" >29. </span><a href=\"bword://#u2fc098491a42200a.6e2b450a.115045a11b6.-4a18\"><span class=\"Ref\" ><span class=\"LEXUNIT\" >words fail me</span></span></a></span>\\\\n<span class=\"Link\" ><span class=\"sensenum\" >30. </span><a href=\"bword://#u2fc098491a42200a.6e2b450a.115045a11b6.-4a12\"><span class=\"Ref\" ><span class=\"LEXUNIT\" >word!</span></span></a></span>\\\\n<span class=\"Link\" ><span class=\"sensenum\" >31. </span><a href=\"bword://#u2fc098491a42200a.6e2b450a.115045a11b6.-4a0d\"><span class=\"Ref\" ><span class=\"LEXUNIT\" >(Upon) my word!</span></span></a></span>\\\\n<span class=\"Link\" ><span class=\"sensenum\" >32. </span><a href=\"bword://#u2fc098491a42200a.6e2b450a.115045a11b6.-4a06\"><span class=\"Ref\" ><span class=\"LEXUNIT\" >surprised/angry/pleased etc isn’t the word for it</span></span></a></span>\\\\n<span class=\"Link\" ><span class=\"sensenum\" >33. </span><a href=\"bword://#u2fc098491a42200a.6e2b450a.115045a11b6.-4a01\"><span class=\"Ref\" ><span class=\"LEXUNIT\" >a man/woman etc of few words</span></span></a></span>\\\\n<span class=\"Link\" ><span class=\"sensenum\" >34. </span><a href=\"bword://#u2fc098491a42200a.6e2b450a.115045a11b6.-49fd\"><span class=\"Ref\" ><span class=\"LEXUNIT\" >the Word (of God)</span></span></a></span>\\\\n</span></span>\\\\n</span></span></span><span class=\"EntryAssets\" ><span class=\"EntryAsset\" ><span class=\"Refs\" ><a href=\"bword://_wordfamily_0658\"><span class=\"WFAM\">Word family</span></a></></span></span></span><span class=\"EntryAssets\" ><span class=\"EntryAsset\" ><span class=\"Refs\" ><span class=\"etymology\" ><span class=\"SENSE\" ><span class=\"lead\" >Language: </span><span class=\"LANG\" >Old English</span></span>\\\\n</span></span></span></span></span></span><a name=\"u2fc098491a42200a.6e2b450a.115045a11b6.-4b25\"></a><span class=\"Sense\"><span class=\"Sense_newline\" ><span class=\"sensenum\" >1</span><span class=\"SIGNPOST\" >group of letters</span><span class=\"GRAM\" ><span > [</span>countable<span >]</span></span><span class=\"ACTIV\" >WORD, PHRASE, OR SENTENCE</span><span class=\"DEF\" ><span > </span>a single group of letters that are used together with a particular meaning</span><span >: </span><a name=\"u2fc098491a42200a.6e2b450a.115045a11b6.-4b20\"></a><span class=\"EXAMPLE\" ><a href=\"sound://p008__000496312.spx\" ><img src=\"snd_sfx.png\" border=\"0\" ></img></a><span class=\"BASE\" >Write an essay of about five hundred words.</span><span class=\"INFLX\" >word</span></span><a name=\"u2fc098491a42200a.-5a72f42d.118c6f3dec0.-7f59\"></a><span class=\"EXAMPLE\" ><a href=\"sound://ldoce5_exa001758.spx\" ><img src=\"snd_sfx.png\" border=\"0\" ></img></a><span class=\"BASE\" >What does that word mean?</span><span class=\"INFLX\" >do</span></span><a name=\"u2fc098491a42200a.6e2b450a.115045a11b6.-4b1f\"></a><span class=\"EXAMPLE\" ><a href=\"sound://ldoce5_exa040312.spx\" ><img src=\"snd_sfx.png\" border=\"0\" ></img></a><span class=\"BASE\" >\\'Vater\\' is the German <span class=\"COLLOINEXA\" >word for</span> <span class=\"GLOSS\" ><span > (=</span>that means<span >)</span></span> \\'father\\'.</span><span class=\"INFLX\" >be</span></span><a name=\"u2fc098491a42200a.-68b49d38.11be7425eae.-186b\"></a><span class=\"EXAMPLE\" ><a href=\"sound://ldoce5_exa040313.spx\" ><img src=\"snd_sfx.png\" border=\"0\" ></img></a><span class=\"BASE\" >Perhaps \\'lucky\\' is not exactly <span class=\"COLLOINEXA\" >the right word</span>.</span><span class=\"INFLX\" >be</span></span><span class=\"Crossref\" ><span > →</span><a href=\"bword://buzzword\"><span class=\"Ref\" ><span > </span><span class=\"REFHWD\" >buzzword</span></span></a><a href=\"bword://four-letter word\"><span class=\"Ref\" ><span >, </span><span class=\"REFHWD\" >four-letter word</span></span></a><a href=\"bword://swear word\"><span class=\"Ref\" ><span >, </span><span class=\"REFHWD\" >swear word</span></span></a></span></span></span><a name=\"u2fc098491a42200a.6e2b450a.115045a11b6.-4b0e\"></a><span class=\"Sense\"><span class=\"Sense_newline\" ><span class=\"sensenum\" >2</span><a name=\"u2fc098491a42200a.6e2b450a.115045a11b6.-4b0d\"></a><span class=\"LEXUNIT\" >sb’s words</span><span class=\"DEF\" ><span > </span>the things that someone says or writes</span><span >: </span><a name=\"u2fc098491a42200a.6e2b450a.115045a11b6.-4b0b\"></a><span class=\"EXAMPLE\" ><a href=\"sound://p008__001792594.spx\" ><img src=\"snd_sfx.png\" border=\"0\" ></img></a><span class=\"BASE\" >Those are his words, not mine.</span><span class=\"INFLX\" >be</span><span class=\"INFLX\" >word</span></span><span class=\"GramExa\" ><a name=\"u2fc098491a42200a.6e2b450a.115045a11b6.-4b09\"></a><span class=\"PROPFORM\" >in sb’s words</span><a name=\"u2fc098491a42200a.6e2b450a.115045a11b6.-4b08\"></a><span class=\"EXAMPLE\" ><a href=\"sound://p008__001792597.spx\" ><img src=\"snd_sfx.png\" border=\"0\" ></img></a><span class=\"BASE\" >Jones was, in the judge’s words, ‘an evil man’.</span><span class=\"INFLX\" >be</span><span class=\"INFLX\" >word</span></span><a name=\"u2fc098491a42200a.6e2b450a.115045a11b6.-4b07\"></a><span class=\"EXAMPLE\" ><a href=\"sound://p008__001792598.spx\" ><img src=\"snd_sfx.png\" border=\"0\" ></img></a><span class=\"BASE\" ><span class=\"COLLOINEXA\" >In your own words</span>, explain the term ‘personal service’.</span><span class=\"INFLX\" >word</span></span></span></span></span><a name=\"u2fc098491a42200a.-68b49d38.11be7425eae.-1869\"></a><span class=\"Sense\"><span class=\"Sense_newline\" ><span class=\"sensenum\" >3</span><a name=\"u2fc098491a42200a.-68b49d38.11be7425eae.-1868\"></a><span class=\"LEXUNIT\" >the words </span><span class=\"DEF\" ><span > </span>the words that are sung as part of a song</span><span >: </span><a name=\"u2fc098491a42200a.-68b49d38.11be7425eae.-1866\"></a><span class=\"EXAMPLE\" ><a href=\"sound://ldoce5_exa040314.spx\" ><img src=\"snd_sfx.png\" border=\"0\" ></img></a><span class=\"BASE\" >I know the tune, but I\\'ve forgotten the words.</span><span class=\"INFLX\" >forget</span><span class=\"INFLX\" >word</span></span><span class=\"GramExa\" ><a name=\"u2fc098491a42200a.-68b49d38.11be7425eae.-1864\"></a><span class=\"PROPFORMPREP\" >the words  to</span><a name=\"u2fc098491a42200a.-68b49d38.11be7425eae.-1863\"></a><span class=\"EXAMPLE\" ><a href=\"sound://ldoce5_exa040315.spx\" ><img src=\"snd_sfx.png\" border=\"0\" ></img></a><span class=\"BASE\" >Many people don\\'t know the words to the country\\'s national anthem.</span><span class=\"INFLX\" >word</span></span></span></span></span><a name=\"u2fc098491a42200a.6e2b450a.115045a11b6.-4b05\"></a><span class=\"Sense\"><span class=\"Sense_newline\" ><span class=\"sensenum\" >4</span><a name=\"u2fc098491a42200a.6e2b450a.115045a11b6.-4b04\"></a><span class=\"LEXUNIT\" >have a word</span><span class=\"REGISTERLAB\" ><span > </span>especially spoken</span><span class=\"ACTIV\" >TALK TO SB</span><span class=\"DEF\" ><span > </span>to talk to someone quickly, especially because you need their advice about something or you want to tell them to do something</span><span >: </span><a name=\"u2fc098491a42200a.6e2b450a.115045a11b6.-4b00\"></a><span class=\"EXAMPLE\" ><a href=\"sound://p008__000496350.spx\" ><img src=\"snd_sfx.png\" border=\"0\" ></img></a><span class=\"BASE\" >Could I have a word?</span><span class=\"INFLX\" >can</span></span><span class=\"GramExa\" ><a name=\"u2fc098491a42200a.6e2b450a.115045a11b6.-4afe\"></a><span class=\"PROPFORMPREP\" >have a word with</span><a name=\"u2fc098491a42200a.6e2b450a.115045a11b6.-4afd\"></a><span class=\"EXAMPLE\" ><a href=\"sound://p008__001792603.spx\" ><img src=\"snd_sfx.png\" border=\"0\" ></img></a><span class=\"BASE\" >I’ll have a word with him and see if he’ll help.</span></span></span><span class=\"ColloExa\" ><a name=\"u2fc098491a42200a.6e2b450a.115045a11b6.-4afb\"></a><span class=\"COLLO\" >have a quick/brief word</span><a name=\"u2fc098491a42200a.6e2b450a.115045a11b6.-4afa\"></a><span class=\"EXAMPLE\" ><a href=\"sound://p008__001792606.spx\" ><img src=\"snd_sfx.png\" border=\"0\" ></img></a><span class=\"BASE\" >I was hoping to have a quick word with you.</span><span class=\"INFLX\" >be</span><span class=\"INFLX\" >hope</span></span></span><span class=\"ColloExa\" ><a name=\"u2fc098491a42200a.6e2b450a.115045a11b6.-4af8\"></a><span class=\"COLLO\" >have/exchange a few words</span><a name=\"u2fc098491a42200a.6e2b450a.115045a11b6.-4af7\"></a><span class=\"EXAMPLE\" ><a href=\"sound://p008__001792607.spx\" ><img src=\"snd_sfx.png\" border=\"0\" ></img></a><span class=\"BASE\" >Could I have a few words with you?</span><span class=\"INFLX\" >can</span><span class=\"INFLX\" >word</span></span></span></span></span><a name=\"u2fc098491a42200a.6e2b450a.115045a11b6.-4af6\"></a><span class=\"Sense\"><span class=\"Sense_newline\" ><span class=\"sensenum\" >5</span><a name=\"u2fc098491a42200a.6e2b450a.115045a11b6.-4af5\"></a><span class=\"LEXUNIT\" >want a word</span><span class=\"REGISTERLAB\" ><span > </span>spoken</span><span class=\"ACTIV\" >TALK TO SB</span><span class=\"DEF\" ><span > </span>to want to talk to someone, especially in order to criticize them</span><span class=\"GramExa\" ><a name=\"u2fc098491a42200a.6e2b450a.115045a11b6.-4af0\"></a><span class=\"PROPFORMPREP\" >want a word with</span><a name=\"u2fc098491a42200a.6e2b450a.115045a11b6.-4aef\"></a><span class=\"EXAMPLE\" ><a href=\"sound://p008__000496363.spx\" ><img src=\"snd_sfx.png\" border=\"0\" ></img></a><span class=\"BASE\" >Wait a minute! I want a word with you!</span></span></span></span></span><a name=\"u2fc098491a42200a.6e2b450a.115045a11b6.-4aee\"></a><span class=\"Sense\"><span class=\"Sense_newline\" ><span class=\"sensenum\" >6</span><a name=\"u2fc098491a42200a.6e2b450a.115045a11b6.-4aed\"></a><span class=\"LEXUNIT\" >not hear/understand/believe a word</span><span class=\"ACTIV\" >NONE/NOTHING</span><span class=\"DEF\" ><span > </span>used to emphasize that you cannot hear, understand etc what someone says or writes</span><span >: </span><a name=\"u2fc098491a42200a.6e2b450a.115045a11b6.-4aea\"></a><span class=\"EXAMPLE\" ><a href=\"sound://p008__000496332.spx\" ><img src=\"snd_sfx.png\" border=\"0\" ></img></a><span class=\"BASE\" >No one could hear a word because someone had cut the amplifier cable.</span><span class=\"INFLX\" >can</span><span class=\"INFLX\" >have</span></span><span class=\"GramExa\" ><a name=\"u2fc098491a42200a.6e2b450a.115045a11b6.-4ae8\"></a><span class=\"PROPFORMPREP\" >not hear/understand/believe a word of</span><a name=\"u2fc098491a42200a.6e2b450a.115045a11b6.-4ae7\"></a><span class=\"EXAMPLE\" ><a href=\"sound://p008__001792612.spx\" ><img src=\"snd_sfx.png\" border=\"0\" ></img></a><span class=\"BASE\" >I can’t understand a word of Russian.</span></span></span></span></span><a name=\"u2fc098491a42200a.6e2b450a.115045a11b6.-4ae6\"></a><span class=\"Sense\"><span class=\"Sense_newline\" ><span class=\"sensenum\" >7</span><a name=\"u2fc098491a42200a.6e2b450a.115045a11b6.-4ae5\"></a><span class=\"LEXUNIT\" >without (saying) a word</span><span class=\"DEF\" ><span > </span>if you do something without a word, you do not say anything while you do it</span><span >: </span><a name=\"u2fc098491a42200a.6e2b450a.115045a11b6.-4ae3\"></a><span class=\"EXAMPLE\" ><a href=\"sound://p008__001792617.spx\" ><img src=\"snd_sfx.png\" border=\"0\" ></img></a><span class=\"BASE\" >He left without a word.</span><span class=\"INFLX\" >leave</span></span></span></span><a name=\"u2fc098491a42200a.6e2b450a.115045a11b6.-4ae2\"></a><span class=\"Sense\"><span class=\"Sense_newline\" ><span class=\"sensenum\" >8</span><a name=\"u2fc098491a42200a.6e2b450a.115045a11b6.-4ae1\"></a><span class=\"LEXUNIT\" >say a word/say a few words</span><span class=\"ACTIV\" >TALK TO SB</span><span class=\"DEF\" ><span > </span>to make a short speech about something</span><span >: </span><a name=\"u2fc098491a42200a.6e2b450a.115045a11b6.-4ade\"></a><span class=\"EXAMPLE\" ><a href=\"sound://p008__001792618.spx\" ><img src=\"snd_sfx.png\" border=\"0\" ></img></a><span class=\"BASE\" >I’d like to say a few words about the plans.</span><span class=\"INFLX\" >word</span><span class=\"INFLX\" >plan</span></span></span></span><a name=\"u2fc098491a42200a.6e2b450a.115045a11b6.-4add\"></a><span class=\"Sense\"><span class=\"Sense_newline\" ><span class=\"sensenum\" >9</span><a name=\"u2fc098491a42200a.6e2b450a.115045a11b6.-4adc\"></a><span class=\"LEXUNIT\" >a word of warning/caution/advice/thanks etc</span><span class=\"DEF\" ><span > </span>something you say that warns someone, thanks them etc</span><span >: </span><a name=\"u2fc098491a42200a.6e2b450a.115045a11b6.-4ada\"></a><span class=\"EXAMPLE\" ><a href=\"sound://p008__001792622.spx\" ><img src=\"snd_sfx.png\" border=\"0\" ></img></a><span class=\"BASE\" >It’s a beautiful city, but a word of warning: street robberies are very common.</span><span class=\"INFLX\" >warn</span><span class=\"INFLX\" >robbery</span><span class=\"INFLX\" >be</span></span><a name=\"u2fc098491a42200a.6e2b450a.115045a11b6.-4ad9\"></a><span class=\"EXAMPLE\" ><a href=\"sound://p008__001792623.spx\" ><img src=\"snd_sfx.png\" border=\"0\" ></img></a><span class=\"BASE\" >He left without a word of apology.</span><span class=\"INFLX\" >leave</span></span></span></span><a name=\"u2fc098491a42200a.6e2b450a.115045a11b6.-4ad8\"></a><span class=\"Sense\"><span class=\"Sense_newline\" ><span class=\"sensenum\" >10</span><a name=\"u2fc098491a42200a.6e2b450a.115045a11b6.-4ad7\"></a><span class=\"LEXUNIT\" >not say a word</span><span class=\"Subsense\" ><span > </span><span class=\"sensenum\" >a)</span><span class=\"Variant\" ><span >(</span><span class=\"LINKWORD\" >also</span><a name=\"u2fc098491a42200a.-68b49d38.11be7425eae.-3af5\"></a><span class=\"LEXVAR\" ><span > </span>not breathe a word</span><span >)</span></span><span class=\"DEF\" ><span > </span>to not say anything about something because it is a secret</span><span >: </span><a name=\"u2fc098491a42200a.6e2b450a.115045a11b6.-4ad1\"></a><span class=\"EXAMPLE\" ><a href=\"sound://p008__001792631.spx\" ><img src=\"snd_sfx.png\" border=\"0\" ></img></a><span class=\"BASE\" >Promise you won’t say a word to anyone?</span><span class=\"INFLX\" >win</span></span></span><span class=\"Subsense\" ><span > </span><span class=\"sensenum\" >b)</span><span class=\"DEF\" >to not say anything</span><span >: </span><a name=\"u2fc098491a42200a.6e2b450a.115045a11b6.-4ace\"></a><span class=\"EXAMPLE\" ><a href=\"sound://ldoce5_exa020337.spx\" ><img src=\"snd_sfx.png\" border=\"0\" ></img></a><span class=\"BASE\" >What’s wrong? You haven’t said a word since you got here.</span><span class=\"INFLX\" >say</span><span class=\"INFLX\" >get</span></span></span></span></span><a name=\"u2fc098491a42200a.6e2b450a.115045a11b6.-4acd\"></a><span class=\"Sense\"><span class=\"Sense_newline\" ><span class=\"sensenum\" >11</span><a name=\"u2fc098491a42200a.6e2b450a.115045a11b6.-4acc\"></a><span class=\"LEXUNIT\" >put your feelings/thoughts etc into words</span><span class=\"ACTIV\" >EXPRESS</span><span class=\"DEF\" ><span > </span>to express what you want to say clearly</span><span >: </span><a name=\"u2fc098491a42200a.6e2b450a.115045a11b6.-4ac9\"></a><span class=\"EXAMPLE\" ><a href=\"sound://p008__001792635.spx\" ><img src=\"snd_sfx.png\" border=\"0\" ></img></a><span class=\"BASE\" >He found it difficult to put ideas into words.</span><span class=\"INFLX\" >find</span><span class=\"INFLX\" >idea</span><span class=\"INFLX\" >word</span></span></span></span><a name=\"u2fc098491a42200a.6e2b450a.115045a11b6.-4ac8\"></a><span class=\"Sense\"><span class=\"Sense_newline\" ><span class=\"sensenum\" >12</span><span class=\"ACTIV\" >ARGUE</span><a name=\"u2fc098491a42200a.6e2b450a.115045a11b6.-4ac6\"></a><span class=\"LEXUNIT\" >have/exchange words (with somebody)</span><span class=\"DEF\" ><span > </span>to argue – use this when you do not want to make the argument seem serious</span><span >: </span><a name=\"u2fc098491a42200a.6e2b450a.115045a11b6.-4ac4\"></a><span class=\"EXAMPLE\" ><a href=\"sound://p008__000496385.spx\" ><img src=\"snd_sfx.png\" border=\"0\" ></img></a><span class=\"BASE\" >I was in a bad mood and he kept pestering me, so we had words.</span><span class=\"INFLX\" >be</span><span class=\"INFLX\" >keep</span><span class=\"INFLX\" >pester</span><span class=\"INFLX\" >have</span><span class=\"INFLX\" >word</span></span></span></span><a name=\"u2fc098491a42200a.6e2b450a.115045a11b6.-4ac3\"></a><span class=\"Sense\"><span class=\"Sense_newline\" ><span class=\"sensenum\" >13</span><a name=\"u2fc098491a42200a.6e2b450a.115045a11b6.-4ac2\"></a><span class=\"LEXUNIT\" >a harsh/a cross/an angry etc word</span><span class=\"DEF\" ><span > </span>something you say that shows you are angry or want to criticize someone</span><span >: </span><a name=\"u2fc098491a42200a.6e2b450a.115045a11b6.-4ac0\"></a><span class=\"EXAMPLE\" ><a href=\"sound://p008__001792640.spx\" ><img src=\"snd_sfx.png\" border=\"0\" ></img></a><span class=\"BASE\" >Mountain rescue teams have harsh words to say to people who climb without proper equipment.</span><span class=\"INFLX\" >team</span><span class=\"INFLX\" >word</span></span><a name=\"u2fc098491a42200a.6e2b450a.115045a11b6.-4abf\"></a><span class=\"EXAMPLE\" ><a href=\"sound://p008__001792641.spx\" ><img src=\"snd_sfx.png\" border=\"0\" ></img></a><span class=\"BASE\" >They were married for 50 years and she says there was never an angry word between them.</span><span class=\"INFLX\" >be</span><span class=\"INFLX\" >marry</span><span class=\"INFLX\" >year</span><span class=\"INFLX\" >say</span><span class=\"INFLX\" >be</span></span></span></span><a name=\"u2fc098491a42200a.6e2b450a.115045a11b6.-4abe\"></a><span class=\"Sense\"><span class=\"Sense_newline\" ><span class=\"sensenum\" >14</span><span class=\"SIGNPOST\" >news/information</span><span class=\"GRAM\" ><span > [</span>singular, uncountable<span >]</span></span><span class=\"ACTIV\" >NEWS</span><span class=\"DEF\" ><span > </span>a piece of news or a message</span><span >: </span><a name=\"u2fc098491a42200a.6e2b450a.115045a11b6.-4ab9\"></a><span class=\"EXAMPLE\" ><a href=\"sound://p008__001792643.spx\" ><img src=\"snd_sfx.png\" border=\"0\" ></img></a><span class=\"BASE\" >Word came that our duties would be changed.</span><span class=\"INFLX\" >come</span><span class=\"INFLX\" >duty</span><span class=\"INFLX\" >will</span><span class=\"INFLX\" >change</span></span><a name=\"u2fc098491a42200a.6e2b450a.115045a11b6.-4ab8\"></a><span class=\"EXAMPLE\" ><a href=\"sound://p008__001792644.spx\" ><img src=\"snd_sfx.png\" border=\"0\" ></img></a><span class=\"BASE\" >‘Have you heard from Ann?’ ‘No, not a word.’</span><span class=\"INFLX\" >hear</span></span><a name=\"u2fc098491a42200a.6e2b450a.115045a11b6.-4ab7\"></a><span class=\"EXAMPLE\" ><a href=\"sound://p008__001792645.spx\" ><img src=\"snd_sfx.png\" border=\"0\" ></img></a><span class=\"BASE\" >There was still <span class=\"COLLOINEXA\" >no word from</span> John.</span><span class=\"INFLX\" >be</span></span><span class=\"ColloExa\" ><a name=\"u2fc098491a42200a.6e2b450a.115045a11b6.-4ab4\"></a><span class=\"COLLO\" >word gets out/around</span><span class=\"GLOSS\" ><span > (=</span>people hear about something<span >)</span></span><a name=\"u2fc098491a42200a.6e2b450a.115045a11b6.-4ab2\"></a><span class=\"EXAMPLE\" ><a href=\"sound://p008__000496394.spx\" ><img src=\"snd_sfx.png\" border=\"0\" ></img></a><span class=\"BASE\" >It’s a very small town and if you do something bad, word gets around.</span><span class=\"INFLX\" >get</span></span></span><span class=\"ColloExa\" ><a name=\"u2fc098491a42200a.6e2b450a.115045a11b6.-4ab0\"></a><span class=\"COLLO\" >the word is (that)/word has it (that)</span><span class=\"GLOSS\" ><span > (=</span>people are saying that<span >)</span></span><a name=\"u2fc098491a42200a.6e2b450a.115045a11b6.-4aae\"></a><span class=\"EXAMPLE\" ><a href=\"sound://p008__000496398.spx\" ><img src=\"snd_sfx.png\" border=\"0\" ></img></a><span class=\"BASE\" >The word is that the two companies are planning a merger.</span><span class=\"INFLX\" >be</span><span class=\"INFLX\" >company</span><span class=\"INFLX\" >be</span><span class=\"INFLX\" >plan</span></span></span><span class=\"ColloExa\" ><a name=\"u2fc098491a42200a.6e2b450a.115045a11b6.-4aac\"></a><span class=\"COLLO\" >spread/pass the word</span><span class=\"GLOSS\" ><span > (=</span>tell other people some information or news<span >)</span></span><a name=\"u2fc098491a42200a.6e2b450a.115045a11b6.-4aaa\"></a><span class=\"EXAMPLE\" ><a href=\"sound://p008__001792649.spx\" ><img src=\"snd_sfx.png\" border=\"0\" ></img></a><span class=\"BASE\" >Health officials are encouraging people to spread the word about the benefits of exercise.</span><span class=\"INFLX\" >official</span><span class=\"INFLX\" >be</span><span class=\"INFLX\" >encourage</span><span class=\"INFLX\" >benefit</span></span></span><span class=\"ColloExa\" ><a name=\"u2fc098491a42200a.6e2b450a.115045a11b6.-4aa8\"></a><span class=\"COLLO\" >send/bring word</span><span class=\"REGISTERLAB\" ><span > </span>old-fashioned</span><span class=\"REGISTERLAB\" ><span > </span>formal</span><span class=\"GLOSS\" ><span > (=</span>send or bring a message<span >)</span></span><a name=\"u2fc098491a42200a.6e2b450a.115045a11b6.-4aa4\"></a><span class=\"EXAMPLE\" ><a href=\"sound://p008__000496405.spx\" ><img src=\"snd_sfx.png\" border=\"0\" ></img></a><span class=\"BASE\" >The mayor sent word he’d be late.</span><span class=\"INFLX\" >send</span></span></span><a name=\"u2fc098491a42200a.6e2b450a.115045a11b6.-4aa3\"></a><span class=\"EXAMPLE\" ><a href=\"sound://p008__001792652.spx\" ><img src=\"snd_sfx.png\" border=\"0\" ></img></a><span class=\"BASE\" ><span class=\"COLLOINEXA\" >Word of mouth</span><span class=\"GLOSS\" ><span > (=</span>information you get by someone telling you<span >)</span></span> is one of the best ways of getting business.</span><span class=\"INFLX\" >be</span><span class=\"INFLX\" >well</span><span class=\"INFLX\" >way</span><span class=\"INFLX\" >get</span></span><span class=\"GramExa\" ><a name=\"u2fc098491a42200a.6e2b450a.115045a11b6.-4a9f\"></a><span class=\"PROPFORM\" >by word of mouth</span><a name=\"u2fc098491a42200a.6e2b450a.115045a11b6.-4a9e\"></a><span class=\"EXAMPLE\" ><a href=\"sound://p008__001792658.spx\" ><img src=\"snd_sfx.png\" border=\"0\" ></img></a><span class=\"BASE\" >Much of this information is picked up by word of mouth from previous students.</span><span class=\"INFLX\" >be</span><span class=\"INFLX\" >pick</span><span class=\"INFLX\" >student</span></span></span></span></span><a name=\"u2fc098491a42200a.6e2b450a.115045a11b6.-4a9d\"></a><span class=\"Sense\"><span class=\"Sense_newline\" ><span class=\"sensenum\" >15</span><a name=\"u2fc098491a42200a.6e2b450a.115045a11b6.-4a9c\"></a><span class=\"LEXUNIT\" >the last/final word</span><span class=\"Subsense\" ><span > </span><span class=\"sensenum\" >a)</span><span class=\"ACTIV\" >DECIDE</span><span class=\"DEF\" >the power to decide whether or how to do something</span><span class=\"GramExa\" ><a name=\"u2fc098491a42200a.6e2b450a.115045a11b6.-4a97\"></a><span class=\"PROPFORMPREP\" >the last/final word on</span><a name=\"u2fc098491a42200a.6e2b450a.115045a11b6.-4a96\"></a><span class=\"EXAMPLE\" ><a href=\"sound://p008__001792661.spx\" ><img src=\"snd_sfx.png\" border=\"0\" ></img></a><span class=\"BASE\" >The final word on policy determination belongs to the committee.</span><span class=\"INFLX\" >belong</span></span></span><a name=\"u2fc098491a42200a.6e2b450a.115045a11b6.-4a95\"></a><span class=\"EXAMPLE\" ><a href=\"sound://p008__001792662.spx\" ><img src=\"snd_sfx.png\" border=\"0\" ></img></a><span class=\"BASE\" >She <span class=\"COLLOINEXA\" >has the final word</span> on whether policies are put into action or not.</span><span class=\"INFLX\" >have</span><span class=\"INFLX\" >policy</span><span class=\"INFLX\" >be</span></span></span><span class=\"Subsense\" ><span > </span><span class=\"sensenum\" >b)</span><span class=\"ACTIV\" >SAY/STATE</span><span class=\"DEF\" >the last statement or speech in a discussion or argument</span><span >: </span><a name=\"u2fc098491a42200a.6e2b450a.115045a11b6.-4a90\"></a><span class=\"EXAMPLE\" ><a href=\"sound://p008__001792666.spx\" ><img src=\"snd_sfx.png\" border=\"0\" ></img></a><span class=\"BASE\" >The last word must go to Nick, who has organized the whole project.</span><span class=\"INFLX\" >have</span><span class=\"INFLX\" >organize</span></span><a name=\"u2fc098491a42200a.6e2b450a.115045a11b6.-4a8f\"></a><span class=\"EXAMPLE\" ><a href=\"sound://p008__000496424.spx\" ><img src=\"snd_sfx.png\" border=\"0\" ></img></a><span class=\"BASE\" >Why must you always <span class=\"COLLOINEXA\" >have the last word</span> in any argument?</span></span></span><span class=\"Subsense\" ><span > </span><span class=\"sensenum\" >c)</span><span class=\"DEF\" >in sports, the last hit or kick in a game, especially when it is successful</span><span >: </span><a name=\"u2fc098491a42200a.6e2b450a.115045a11b6.-4a8b\"></a><span class=\"EXAMPLE\" ><a href=\"sound://p008__001792672.spx\" ><img src=\"snd_sfx.png\" border=\"0\" ></img></a><span class=\"BASE\" >Adams <span class=\"COLLOINEXA\" >had the final word</span> with a last-minute goal.</span><span class=\"INFLX\" >have</span></span></span></span></span><a name=\"u2fc098491a42200a.6e2b450a.115045a11b6.-4a89\"></a><span class=\"Sense\"><span class=\"Sense_newline\" ><span class=\"sensenum\" >16</span><a name=\"u2fc098491a42200a.6e2b450a.115045a11b6.-4a88\"></a><span class=\"LEXUNIT\" >my/his/your etc word</span><span class=\"ACTIV\" >PROMISE</span><span class=\"DEF\" ><span > </span>a sincere promise to do something, or a promise that what you say is true</span><span >: </span><a name=\"u2fc098491a42200a.6e2b450a.115045a11b6.-4a85\"></a><span class=\"EXAMPLE\" ><a href=\"sound://p008__001792676.spx\" ><img src=\"snd_sfx.png\" border=\"0\" ></img></a><span class=\"BASE\" >I trust him to <span class=\"COLLOINEXA\" >keep</span> his <span class=\"COLLOINEXA\" >word</span>.</span></span><a name=\"u2fc098491a42200a.6e2b450a.115045a11b6.-4a82\"></a><span class=\"EXAMPLE\" ><a href=\"sound://p008__001792682.spx\" ><img src=\"snd_sfx.png\" border=\"0\" ></img></a><span class=\"BASE\" >I <span class=\"COLLOINEXA\" >give</span> you <span class=\"COLLOINEXA\" >my word</span><span class=\"GLOSS\" ><span > (=</span>I promise<span >)</span></span> that it won’t happen again.</span><span class=\"INFLX\" >win</span></span><a name=\"u2fc098491a42200a.-2c371bee.11a8d8e2f61.-4f5a\"></a><span class=\"EXAMPLE\" ><a href=\"sound://ldoce5_exa020338.spx\" ><img src=\"snd_sfx.png\" border=\"0\" ></img></a><span class=\"BASE\" >They had <span class=\"COLLOINEXA\" >given </span>their <span class=\"COLLOINEXA\" >word of honour</span> that they would not attempt to escape.</span><span class=\"INFLX\" >have</span><span class=\"INFLX\" >give</span><span class=\"INFLX\" >will</span></span><a name=\"u2fc098491a42200a.6e2b450a.115045a11b6.-4a7e\"></a><span class=\"EXAMPLE\" ><a href=\"sound://p008__001792689.spx\" ><img src=\"snd_sfx.png\" border=\"0\" ></img></a><span class=\"BASE\" >We only <span class=\"COLLOINEXA\" >have</span> his <span class=\"COLLOINEXA\" >word</span> for it that he has already paid.</span><span class=\"INFLX\" >have</span><span class=\"INFLX\" >pay</span></span><a name=\"u2fc098491a42200a.6e2b450a.115045a11b6.-4a7b\"></a><span class=\"EXAMPLE\" ><a href=\"sound://p008__001792695.spx\" ><img src=\"snd_sfx.png\" border=\"0\" ></img></a><span class=\"BASE\" >Delors claimed that Johnson had <span class=\"COLLOINEXA\" >gone back on</span> his <span class=\"COLLOINEXA\" >word</span><span class=\"GLOSS\" ><span > (=</span>not done what he had promised to do<span >)</span></span>.</span><span class=\"INFLX\" >claim</span><span class=\"INFLX\" >have</span><span class=\"INFLX\" >go</span></span><a name=\"u2fc098491a42200a.6e2b450a.115045a11b6.-4a77\"></a><span class=\"EXAMPLE\" ><a href=\"sound://p008__000496460.spx\" ><img src=\"snd_sfx.png\" border=\"0\" ></img></a><span class=\"BASE\" >The business is doing very well. You can <span class=\"COLLOINEXA\" >take my word for it</span><span class=\"GLOSS\" ><span > (=</span>accept that what I say is true<span >)</span></span>.</span><span class=\"INFLX\" >be</span><span class=\"INFLX\" >do</span></span><a name=\"u2fc098491a42200a.6e2b450a.115045a11b6.-4a74\"></a><span class=\"EXAMPLE\" ><a href=\"sound://p008__000496454.spx\" ><img src=\"snd_sfx.png\" border=\"0\" ></img></a><span class=\"BASE\" >I never know whether to <span class=\"COLLOINEXA\" >take</span> him <span class=\"COLLOINEXA\" >at his word</span><span class=\"GLOSS\" ><span > (=</span>believe what he says<span >)</span></span>.</span></span><a name=\"u2fc098491a42200a.6e2b450a.115045a11b6.-4a70\"></a><span class=\"EXAMPLE\" ><a href=\"sound://p008__001792712.spx\" ><img src=\"snd_sfx.png\" border=\"0\" ></img></a><span class=\"BASE\" >His <span class=\"COLLOINEXA\" >word is</span> his <span class=\"COLLOINEXA\" >bond</span><span class=\"GLOSS\" ><span > (=</span>he always does what he promises to do<span >)</span></span>.</span><span class=\"INFLX\" >be</span></span><span class=\"ColloExa\" ><a name=\"u2fc098491a42200a.6e2b450a.115045a11b6.-4a6b\"></a><span class=\"COLLO\" >be true to your word/be as good as your word</span><span class=\"GLOSS\" ><span > (=</span>do what you promise to do<span >)</span></span></span><span class=\"ColloExa\" ><a name=\"u2fc098491a42200a.6e2b450a.115045a11b6.-4a68\"></a><span class=\"COLLO\" >a man of his word/a woman of her word</span><span class=\"GLOSS\" ><span > (=</span>a man or woman who does what they have promised to do<span >)</span></span></span></span></span><a name=\"u2fc098491a42200a.6e2b450a.115045a11b6.-4a66\"></a><span class=\"Sense\"><span class=\"Sense_newline\" ><span class=\"sensenum\" >17</span><a name=\"u2fc098491a42200a.6e2b450a.115045a11b6.-4a65\"></a><span class=\"LEXUNIT\" >word for word</span><span class=\"Subsense\" ><span > </span><span class=\"sensenum\" >a)</span><span class=\"ACTIV\" >EXACT</span><span class=\"ACTIV\" >SAME</span><span class=\"DEF\" >in exactly the same words</span><span >: </span><a name=\"u2fc098491a42200a.6e2b450a.115045a11b6.-4a60\"></a><span class=\"EXAMPLE\" ><a href=\"sound://p008__000496485.spx\" ><img src=\"snd_sfx.png\" border=\"0\" ></img></a><span class=\"BASE\" >The newspaper printed his speech more or less word for word.</span><span class=\"INFLX\" >print</span><span class=\"INFLX\" >little</span></span></span><span class=\"Subsense\" ><span > </span><span class=\"sensenum\" >b)</span><span class=\"Variant\" ><span >(</span><span class=\"LINKWORD\" >also</span><a name=\"u2fc098491a42200a.6e2b450a.115045a11b6.-4a5c\"></a><span class=\"LEXVAR\" ><span > </span>word by word</span><span >)</span></span><span class=\"ACTIV\" >SAME</span><span class=\"DEF\" ><span > </span>if you translate a piece of writing word for word, you translate the meaning of each single word rather than the meaning of a whole phrase or sentence</span></span></span></span><a name=\"u2fc098491a42200a.6e2b450a.115045a11b6.-4a59\"></a><span class=\"Sense\"><span class=\"Sense_newline\" ><span class=\"sensenum\" >18</span><a name=\"u2fc098491a42200a.6e2b450a.115045a11b6.-4a58\"></a><span class=\"LEXUNIT\" >in a word</span><span class=\"ACTIV\" >CLEAR/EASY TO UNDERSTAND</span><span class=\"DEF\" ><span > </span>used before giving a very simple answer or explanation</span><span >: </span><a name=\"u2fc098491a42200a.6e2b450a.115045a11b6.-4a55\"></a><span class=\"EXAMPLE\" ><a href=\"sound://p008__001792722.spx\" ><img src=\"snd_sfx.png\" border=\"0\" ></img></a><span class=\"BASE\" >We are, in a word, busy. Ridiculously busy.</span><span class=\"INFLX\" >be</span></span></span></span><a name=\"u2fc098491a42200a.6e2b450a.115045a11b6.-4a54\"></a><span class=\"Sense\"><span class=\"Sense_newline\" ><span class=\"sensenum\" >19</span><a name=\"u2fc098491a42200a.6e2b450a.115045a11b6.-4a53\"></a><span class=\"LEXUNIT\" >in words of one syllable</span><span class=\"DEF\" ><span > </span>saying something in a way that is very easy to understand, especially because the person you are talking to is stupid</span><span >: </span><a name=\"u2fc098491a42200a.6e2b450a.115045a11b6.-4a51\"></a><span class=\"EXAMPLE\" ><a href=\"sound://p008__001792727.spx\" ><img src=\"snd_sfx.png\" border=\"0\" ></img></a><span class=\"BASE\" >You have to put everything in words of one syllable for her.</span><span class=\"INFLX\" >word</span></span></span></span><a name=\"u2fc098491a42200a.6e2b450a.115045a11b6.-4a50\"></a><span class=\"Sense\"><span class=\"Sense_newline\" ><span class=\"sensenum\" >20</span><a name=\"u2fc098491a42200a.6e2b450a.115045a11b6.-4a4f\"></a><span class=\"LEXUNIT\" >in so many words</span><span class=\"Variant\" ><span > (</span><span class=\"LINKWORD\" >also</span><a name=\"u2fc098491a42200a.6e2b450a.115045a11b6.-4a4c\"></a><span class=\"LEXVAR\" ><span > </span>in as many words</span><span >)</span></span><span class=\"GRAM\" ><span > [</span>usually negative<span >]</span></span><span class=\"ACTIV\" >CLEAR/EASY TO UNDERSTAND</span><span class=\"DEF\" ><span > </span>in a direct way, or in a way that makes it very clear what you mean</span><span >: </span><a name=\"u2fc098491a42200a.6e2b450a.115045a11b6.-4a48\"></a><span class=\"EXAMPLE\" ><a href=\"sound://ldoce5_exa020339.spx\" ><img src=\"snd_sfx.png\" border=\"0\" ></img></a><span class=\"BASE\" >Aunt Fay wasn’t happy and said so in as many words.</span><span class=\"INFLX\" >say</span><span class=\"INFLX\" >word</span></span></span></span><a name=\"u2fc098491a42200a.6e2b450a.115045a11b6.-4a47\"></a><span class=\"Sense\"><span class=\"Sense_newline\" ><span class=\"sensenum\" >21</span><a name=\"u2fc098491a42200a.6e2b450a.115045a11b6.-4a46\"></a><span class=\"LEXUNIT\" >take the words (right) out of sb’s mouth</span><span class=\"REGISTERLAB\" ><span > </span>spoken</span><span class=\"ACTIV\" >SAME</span><span class=\"DEF\" ><span > </span>if someone takes the words out of your mouth, they have just said what you were going to say</span></span></span><a name=\"u2fc098491a42200a.6e2b450a.115045a11b6.-4a42\"></a><span class=\"Sense\"><span class=\"Sense_newline\" ><span class=\"sensenum\" >22</span><a name=\"u2fc098491a42200a.6e2b450a.115045a11b6.-4a41\"></a><span class=\"LEXUNIT\" >put words into sb’s mouth</span><span class=\"REGISTERLAB\" ><span > </span>spoken</span><span class=\"ACTIV\" >CHANGE/MAKE STH DIFFERENT</span><span class=\"DEF\" ><span > </span>to tell someone what you think they are trying to say, in a way that annoys them</span><span >: </span><a name=\"u2fc098491a42200a.6e2b450a.115045a11b6.-4a3d\"></a><span class=\"EXAMPLE\" ><a href=\"sound://p008__000496502.spx\" ><img src=\"snd_sfx.png\" border=\"0\" ></img></a><span class=\"BASE\" >Will you stop putting words into my mouth – I never said I disliked the job.</span><span class=\"INFLX\" >put</span><span class=\"INFLX\" >word</span><span class=\"INFLX\" >say</span><span class=\"INFLX\" >dislike</span></span></span></span><a name=\"u2fc098491a42200a.6e2b450a.115045a11b6.-4a3c\"></a><span class=\"Sense\"><span class=\"Sense_newline\" ><span class=\"sensenum\" >23</span><span class=\"SIGNPOST\" >an order</span><span class=\"GRAM\" ><span > [</span>singular<span >]</span></span><span class=\"ACTIV\" >TELL/ORDER SB TO DO STH</span><span class=\"DEF\" ><span > </span>an order to do something</span><span >: </span><a name=\"u2fc098491a42200a.6e2b450a.115045a11b6.-4a37\"></a><span class=\"EXAMPLE\" ><a href=\"sound://p008__001792733.spx\" ><img src=\"snd_sfx.png\" border=\"0\" ></img></a><span class=\"BASE\" ><span class=\"COLLOINEXA\" >On the word</span> ‘go’ everyone has to run to the end of the room and back.</span><span class=\"INFLX\" >have</span></span><a name=\"u2fc098491a42200a.6e2b450a.115045a11b6.-4a35\"></a><span class=\"EXAMPLE\" ><a href=\"sound://p008__001792736.spx\" ><img src=\"snd_sfx.png\" border=\"0\" ></img></a><span class=\"BASE\" >When I <span class=\"COLLOINEXA\" >give the word,</span> grab him.</span></span></span></span><a name=\"u2fc098491a42200a.6e2b450a.115045a11b6.-4a33\"></a><span class=\"Sense\"><span class=\"Sense_newline\" ><span class=\"sensenum\" >24</span><a name=\"u2fc098491a42200a.6e2b450a.115045a11b6.-4a32\"></a><span class=\"LEXUNIT\" >(right) from the word go</span><span class=\"REGISTERLAB\" ><span > </span>spoken</span><span class=\"ACTIV\" >BEGINNING</span><span class=\"DEF\" ><span > </span>from the beginning of something</span><span >: </span><a name=\"u2fc098491a42200a.6e2b450a.115045a11b6.-4a2e\"></a><span class=\"EXAMPLE\" ><a href=\"sound://p008__000496561.spx\" ><img src=\"snd_sfx.png\" border=\"0\" ></img></a><span class=\"BASE\" >The marriage was a disaster from the word go.</span><span class=\"INFLX\" >be</span></span></span></span><a name=\"u2fc098491a42200a.6e2b450a.115045a11b6.-4a2d\"></a><span class=\"Sense\"><span class=\"Sense_newline\" ><span class=\"sensenum\" >25</span><a name=\"u2fc098491a42200a.6e2b450a.115045a11b6.-4a2c\"></a><span class=\"LEXUNIT\" >too silly/complicated/ridiculous etc for words</span><span class=\"REGISTERLAB\" ><span > </span>spoken</span><span class=\"ACTIV\" >STUPID/NOT SENSIBLE</span><span class=\"DEF\" ><span > </span>extremely silly, complicated etc</span><span >: </span><a name=\"u2fc098491a42200a.6e2b450a.115045a11b6.-4a28\"></a><span class=\"EXAMPLE\" ><a href=\"sound://p008__001792740.spx\" ><img src=\"snd_sfx.png\" border=\"0\" ></img></a><span class=\"BASE\" >His behaviour has been too pathetic for words.</span><span class=\"INFLX\" >have</span><span class=\"INFLX\" >be</span><span class=\"INFLX\" >word</span></span></span></span><a name=\"u2fc098491a42200a.6e2b450a.115045a11b6.-4a27\"></a><span class=\"Sense\"><span class=\"Sense_newline\" ><span class=\"sensenum\" >26</span><span class=\"ACTIV\" >TALK TO SB</span><a name=\"u2fc098491a42200a.6e2b450a.115045a11b6.-4a25\"></a><span class=\"LEXUNIT\" >(have/drop) a word in sb’s ear</span><span class=\"DEF\" ><span > </span>to say something to someone privately, especially to give them advice or a warning</span><span >: </span><a name=\"u2fc098491a42200a.6e2b450a.115045a11b6.-4a23\"></a><span class=\"EXAMPLE\" ><a href=\"sound://p008__000496380.spx\" ><img src=\"snd_sfx.png\" border=\"0\" ></img></a><span class=\"BASE\" >If I were you, I’d have a word in his ear before it’s too late.</span><span class=\"INFLX\" >be</span></span></span></span><a name=\"u2fc098491a42200a.6e2b450a.115045a11b6.-4a22\"></a><span class=\"Sense\"><span class=\"Sense_newline\" ><span class=\"sensenum\" >27</span><a name=\"u2fc098491a42200a.6e2b450a.115045a11b6.-4a21\"></a><span class=\"LEXUNIT\" >get a word in (edgeways)</span><span class=\"ACTIV\" >INTERRUPT</span><span class=\"DEF\" ><span > </span>to get a chance to say something</span><span >: </span><a name=\"u2fc098491a42200a.6e2b450a.115045a11b6.-4a1e\"></a><span class=\"EXAMPLE\" ><a href=\"sound://p008__000496551.spx\" ><img src=\"snd_sfx.png\" border=\"0\" ></img></a><span class=\"BASE\" >Once George starts talking it’s difficult to get a word in edgeways.</span><span class=\"INFLX\" >start</span><span class=\"INFLX\" >talk</span></span></span></span><a name=\"u2fc098491a42200a.6e2b450a.115045a11b6.-4a1d\"></a><span class=\"Sense\"><span class=\"Sense_newline\" ><span class=\"sensenum\" >28</span><a name=\"u2fc098491a42200a.6e2b450a.115045a11b6.-4a1c\"></a><span class=\"LEXUNIT\" >put in a (good) word for somebody</span><span class=\"ACTIV\" >PRAISE</span><span class=\"DEF\" ><span > </span>to try to help someone get or achieve something by saying good things about them to someone else</span><span >: </span><a name=\"u2fc098491a42200a.6e2b450a.115045a11b6.-4a19\"></a><span class=\"EXAMPLE\" ><a href=\"sound://p008__000496512.spx\" ><img src=\"snd_sfx.png\" border=\"0\" ></img></a><span class=\"BASE\" >I got the job because Paul put in a good word for me.</span><span class=\"INFLX\" >get</span></span></span></span><a name=\"u2fc098491a42200a.6e2b450a.115045a11b6.-4a18\"></a><span class=\"Sense\"><span class=\"Sense_newline\" ><span class=\"sensenum\" >29</span><a name=\"u2fc098491a42200a.6e2b450a.115045a11b6.-4a17\"></a><span class=\"LEXUNIT\" >words fail me</span><span class=\"REGISTERLAB\" ><span > </span>spoken</span><span class=\"ACTIV\" >SAY</span><span class=\"DEF\" ><span > </span>used to say that you are so surprised, angry, or shocked that you do not know what to say</span><span >: </span><a name=\"u2fc098491a42200a.6e2b450a.115045a11b6.-4a13\"></a><span class=\"EXAMPLE\" ><a href=\"sound://p008__000496518.spx\" ><img src=\"snd_sfx.png\" border=\"0\" ></img></a><span class=\"BASE\" >I ... words fail me.</span><span class=\"INFLX\" >word</span></span></span></span><a name=\"u2fc098491a42200a.6e2b450a.115045a11b6.-4a12\"></a><span class=\"Sense\"><span class=\"Sense_newline\" ><span class=\"sensenum\" >30</span><a name=\"u2fc098491a42200a.6e2b450a.115045a11b6.-4a11\"></a><span class=\"LEXUNIT\" >word!</span><span class=\"GEO\" ><span > </span>American English</span><span class=\"REGISTERLAB\" ><span > </span>informal</span><span class=\"DEF\" ><span > </span>used to say that you understand or agree with what someone has just said</span></span></span><a name=\"u2fc098491a42200a.6e2b450a.115045a11b6.-4a0d\"></a><span class=\"Sense\"><span class=\"Sense_newline\" ><span class=\"sensenum\" >31</span><a name=\"u2fc098491a42200a.6e2b450a.115045a11b6.-4a0c\"></a><span class=\"LEXUNIT\" >(Upon) my word!</span><span class=\"REGISTERLAB\" ><span > </span>spoken</span><span class=\"REGISTERLAB\" ><span > </span>old-fashioned</span><span class=\"ACTIV\" >SURPRISED</span><span class=\"DEF\" ><span > </span>used when you are very surprised</span><span >: </span><a name=\"u2fc098491a42200a.6e2b450a.115045a11b6.-4a07\"></a><span class=\"EXAMPLE\" ><a href=\"sound://p008__001792742.spx\" ><img src=\"snd_sfx.png\" border=\"0\" ></img></a><span class=\"BASE\" >My word! Hasn’t she grown?</span><span class=\"INFLX\" >grow</span></span></span></span><a name=\"u2fc098491a42200a.6e2b450a.115045a11b6.-4a06\"></a><span class=\"Sense\"><span class=\"Sense_newline\" ><span class=\"sensenum\" >32</span><a name=\"u2fc098491a42200a.6e2b450a.115045a11b6.-4a05\"></a><span class=\"LEXUNIT\" >surprised/angry/pleased etc isn’t the word for it</span><span class=\"REGISTERLAB\" ><span > </span>spoken</span><span class=\"ACTIV\" >VERY</span><span class=\"DEF\" ><span > </span>used to say that you are extremely surprised, angry etc</span></span></span><a name=\"u2fc098491a42200a.6e2b450a.115045a11b6.-4a01\"></a><span class=\"Sense\"><span class=\"Sense_newline\" ><span class=\"sensenum\" >33</span><a name=\"u2fc098491a42200a.6e2b450a.115045a11b6.-4a00\"></a><span class=\"LEXUNIT\" >a man/woman etc of few words</span><span class=\"DEF\" ><span > </span>someone who does not say very much</span><span >: </span><a name=\"u2fc098491a42200a.6e2b450a.115045a11b6.-49fe\"></a><span class=\"EXAMPLE\" ><a href=\"sound://p008__001792747.spx\" ><img src=\"snd_sfx.png\" border=\"0\" ></img></a><span class=\"BASE\" >My father was a man of few words.</span><span class=\"INFLX\" >be</span><span class=\"INFLX\" >word</span></span></span></span><a name=\"u2fc098491a42200a.6e2b450a.115045a11b6.-49fd\"></a><span class=\"Sense\"><span class=\"Sense_newline\" ><span class=\"sensenum\" >34</span><a name=\"u2fc098491a42200a.6e2b450a.115045a11b6.-49fc\"></a><span class=\"LEXUNIT\" >the Word (of God)</span><span class=\"DEF\" ><span > </span>the religious ideas and messages in the Bible</span></span></span><span class=\"Tail\" ><span class=\"Crossref\" ><span > →</span><a href=\"bword://eat#u2fc098491a42200a.6e2b450a.115037ec1b8.-7a47\"><span class=\"Ref\" ><span > </span><span class=\"REFLEX\" >eat your words</span><span class=\"REFHWD\" ><span > at </span>eat</span><span class=\"REFSENSENUM\" ><span class=\"refsensenum\" >(</span>3<span class=\"refsensenum\" >)</span></span></span></a><a href=\"bword://four-letter word\"><span class=\"Ref\" ><span >, → </span><span class=\"REFHWD\" >four-letter word</span></span></a><a href=\"bword://good ,adjective#u2fc098491a42200a.6e2b450a.11503f8242d.-660\"><span class=\"Ref\" ><span >, → </span><span class=\"REFLEX\" >a good word for somebody/something</span><span class=\"REFHWD\" ><span > at </span>good</span><span class=\"REFHOMNUM\" >1</span><span class=\"REFSENSENUM\" ><span class=\"refsensenum\" >(</span>31<span class=\"refsensenum\" >)</span></span></span></a><a href=\"bword://other#u2fc098491a42200a.6e2b450a.1150433a334.42d8\"><span class=\"Ref\" ><span >, → </span><span class=\"REFLEX\" >in other words</span><span class=\"REFHWD\" ><span > at </span>other</span><span class=\"REFSENSENUM\" ><span class=\"refsensenum\" >(</span>11<span class=\"refsensenum\" >)</span></span></span></a><a href=\"bword://last ,determiner#u2fc098491a42200a.6e2b450a.1150415cba4.-7952\"><span class=\"Ref\" ><span >, → </span><span class=\"REFLEX\" >be the last word in something</span><span class=\"REFHWD\" ><span > at </span>last</span><span class=\"REFHOMNUM\" >1</span><span class=\"REFSENSENUM\" ><span class=\"refsensenum\" >(</span>10<span class=\"refsensenum\" >)</span></span></span></a><a href=\"bword://lost ,adjective#u2fc098491a42200a.6e2b450a.1150415cba4.-1583\"><span class=\"Ref\" ><span >, → </span><span class=\"REFLEX\" >be lost for words</span><span class=\"REFHWD\" ><span > at </span>lost</span><span class=\"REFHOMNUM\" >2</span><span class=\"REFSENSENUM\" ><span class=\"refsensenum\" >(</span>10<span class=\"refsensenum\" >)</span></span></span></a><a href=\"bword://mark ,verb#u2fc098491a42200a.6e2b450a.1150415cba4.220e\"><span class=\"Ref\" ><span >, → </span><span class=\"REFLEX\" >mark my words</span><span class=\"REFHWD\" ><span > at </span>mark</span><span class=\"REFHOMNUM\" >2</span><span class=\"REFSENSENUM\" ><span class=\"refsensenum\" >(</span>12<span class=\"refsensenum\" >)</span></span></span></a><a href=\"bword://mince ,verb#u2fc098491a42200a.6e2b450a.1150415cba4.65dd\"><span class=\"Ref\" ><span >, → </span><span class=\"REFLEX\" >not mince your words</span><span class=\"REFHWD\" ><span > at </span>mince</span><span class=\"REFHOMNUM\" >1</span><span class=\"REFSENSENUM\" ><span class=\"refsensenum\" >(</span>3<span class=\"refsensenum\" >)</span></span></span></a><a href=\"bword://play ,noun#u2fc098491a42200a.6e2b450a.11504344e98.-11fd\"><span class=\"Ref\" ><span >, → </span><span class=\"REFLEX\" >play on words</span><span class=\"REFHWD\" ><span > at </span>play</span><span class=\"REFHOMNUM\" >2</span><span class=\"REFSENSENUM\" ><span class=\"refsensenum\" >(</span>6<span class=\"refsensenum\" >)</span></span></span></a><a href=\"bword://say ,verb#u2fc098491a42200a.6e2b450a.115043d5839.7741\"><span class=\"Ref\" ><span >, → </span><span class=\"REFLEX\" >say the word</span><span class=\"REFHWD\" ><span > at </span>say</span><span class=\"REFHOMNUM\" >1</span><span class=\"REFSENSENUM\" ><span class=\"refsensenum\" >(</span>26<span class=\"refsensenum\" >)</span></span></span></a><a href=\"bword://spoken ,adjective#u2fc098491a42200a.6e2b450a.115043df8ee.7bf0\"><span class=\"Ref\" ><span >, → </span><span class=\"REFLEX\" >the spoken word</span><span class=\"REFHWD\" ><span > at </span>spoken</span><span class=\"REFHOMNUM\" >2</span><span class=\"REFSENSENUM\" ><span class=\"refsensenum\" >(</span>2<span class=\"refsensenum\" >)</span></span></span></a><a href=\"bword://written ,adjective#u2fc098491a42200a.6e2b450a.115045a11b6.-35a4\"><span class=\"Ref\" ><span >, → </span><span class=\"REFLEX\" >the written word</span><span class=\"REFHWD\" ><span > at </span>written</span><span class=\"REFHOMNUM\" >2</span><span class=\"REFSENSENUM\" ><span class=\"refsensenum\" >(</span>3<span class=\"refsensenum\" >)</span></span></span></a></span><span class=\"ColloBox\" ><span class=\"heading\" >COLLOCATIONS</span><span class=\"Section\" ><span class=\"SECHEADING\" >adjectives</span><a name=\"u2fc098491a42200a.-5a72f42d.118c6f3dec0.-7f56\"></a><span class=\"Collocate\"><span class=\"Collocate_newline\" ><a name=\"u2fc098491a42200a.-5a72f42d.118c6f3dec0.-7f55\"></a><span class=\"COLLOC\"><span class=\"COLLOC_collo\" >a new word</span></span><span class=\"COLLEXA\" ><span > </span><span class=\"BASE\" >Computer technology has brought many new words into our language.</span><span class=\"INFLX\" >have</span><span class=\"INFLX\" >bring</span><span class=\"INFLX\" >word</span></span></span></span><a name=\"u2fc098491a42200a.262cc60a.1180d18c85a.-66c3\"></a><span class=\"Collocate\"><span class=\"Collocate_newline\" ><a name=\"u2fc098491a42200a.262cc60a.1180d18c85a.-66c2\"></a><span class=\"COLLOC\"><span class=\"COLLOC_collo\" >the right/exact word</span></span><span class=\"COLLGLOSS\" ><span > (=</span>the word that has the meaning you want<span >)</span></span><span class=\"COLLEXA\" ><span > </span><span class=\"BASE\" >He struggled to find the right word.</span><span class=\"INFLX\" >struggle</span></span></span></span><a name=\"u2fc098491a42200a.262cc60a.1180d18c85a.-66c6\"></a><span class=\"Collocate\"><span class=\"Collocate_newline\" ><a name=\"u2fc098491a42200a.262cc60a.1180d18c85a.-66c5\"></a><span class=\"COLLOC\"><span class=\"COLLOC_collo\" >a German/Italian etc word</span></span><span class=\"COLLEXA\" ><span > </span><span class=\"BASE\" >Prosciutto is the Italian word for ham.</span><span class=\"INFLX\" >be</span></span></span></span><a name=\"u2fc098491a42200a.262cc60a.1180d18c85a.-66ce\"></a><span class=\"Collocate\"><span class=\"Collocate_newline\" ><a name=\"u2fc098491a42200a.262cc60a.1180d18c85a.-66cd\"></a><span class=\"COLLOC\"><span class=\"COLLOC_collo\" >a long word</span></span><span class=\"COLLEXA\" ><span > </span><span class=\"BASE\" >She didn’t understand all the long words.</span><span class=\"INFLX\" >word</span></span></span></span><a name=\"u2fc098491a42200a.262cc60a.1180d18c85a.-66cb\"></a><span class=\"Collocate\"><span class=\"Collocate_newline\" ><a name=\"u2fc098491a42200a.262cc60a.1180d18c85a.-66ca\"></a><span class=\"COLLOC\"><span class=\"COLLOC_collo\" >a short word</span></span><span class=\"COLLEXA\" ><span > </span><span class=\"BASE\" >a short word beginning with ‘d’ and ending with ‘g’</span><span class=\"INFLX\" >begin</span><span class=\"INFLX\" >end</span></span></span></span><a name=\"u2fc098491a42200a.-5592f786.1197a3eee79.-202c\"></a><span class=\"Collocate\"><span class=\"Collocate_newline\" ><a name=\"u2fc098491a42200a.-5592f786.1197a3eee79.-202b\"></a><span class=\"COLLOC\"><span class=\"COLLOC_collo\" >big words</span></span><span class=\"COLLGLOSS\" ><span > (=</span>words that sound very important or serious<span >)</span></span><span class=\"COLLEXA\" ><span > </span><span class=\"BASE\" >It scares me, when you use big words like that.</span><span class=\"INFLX\" >scare</span><span class=\"INFLX\" >word</span></span></span></span><a name=\"u2fc098491a42200a.262cc60a.1180d18c85a.-66c9\"></a><span class=\"Collocate\"><span class=\"Collocate_newline\" ><a name=\"u2fc098491a42200a.262cc60a.1180d18c85a.-66c8\"></a><span class=\"COLLOC\"><span class=\"COLLOC_collo\" >a five-letter/nine-letter etc word</span></span><span class=\"COLLEXA\" ><span > </span><span class=\"BASE\" >Can you think of a six-letter word meaning ‘difficult’?</span><span class=\"INFLX\" >mean</span></span></span></span><a name=\"u2fc098491a42200a.-5592f786.1197a3eee79.-2027\"></a><span class=\"Collocate\"><span class=\"Collocate_newline\" ><a name=\"u2fc098491a42200a.-5592f786.1197a3eee79.-2026\"></a><span class=\"COLLOC\"><span class=\"COLLOC_collo\" >a rude word</span></span><span class=\"COLLEXA\" ><span > </span><span class=\"BASE\" >Someone had written a rude word on the back of his chair.</span><span class=\"INFLX\" >have</span><span class=\"INFLX\" >write</span></span></span></span><a name=\"u2fc098491a42200a.-2c371bee.11a8d8e2f61.-5c3e\"></a><span class=\"Collocate\"><span class=\"Collocate_newline\" ><a name=\"u2fc098491a42200a.-2c371bee.11a8d8e2f61.-5c3d\"></a><span class=\"COLLOC\"><span class=\"COLLOC_collo\" >a swear word</span></span><span class=\"COLLEXA\" ><span > </span><span class=\"BASE\" >He learned a few swear words on the playground.</span><span class=\"INFLX\" >learn</span><span class=\"INFLX\" >word</span></span></span></span><a name=\"u2fc098491a42200a.-2c371bee.11a8d8e2f61.-5c3a\"></a><span class=\"Collocate\"><span class=\"Collocate_newline\" ><a name=\"u2fc098491a42200a.-2c371bee.11a8d8e2f61.-5c39\"></a><span class=\"COLLOC\"><span class=\"COLLOC_collo\" >a dirty word</span></span><span class=\"COLLGLOSS\" ><span > (=</span>a rude word<span >)</span></span><span class=\"COLLEXA\" ><span > </span><span class=\"BASE\" >You couldn’t say dirty words on television.</span><span class=\"INFLX\" >word</span></span></span></span><a name=\"u2fc098491a42200a.-5592f786.1197a3eee79.-2023\"></a><span class=\"Collocate\"><span class=\"Collocate_newline\" ><a name=\"u2fc098491a42200a.-5592f786.1197a3eee79.-2022\"></a><span class=\"COLLOC\"><span class=\"COLLOC_collo\" >a four-letter word</span></span><span class=\"COLLGLOSS\" ><span > (=</span>a very rude word<span >)</span></span><span class=\"COLLEXA\" ><span > </span><span class=\"BASE\" >The programme was full of four letter words.</span><span class=\"INFLX\" >be</span><span class=\"INFLX\" >word</span></span></span></span><a name=\"u2fc098491a42200a.-5592f786.1197a3eee79.-201e\"></a><span class=\"Collocate\"><span class=\"Collocate_newline\" ><a name=\"u2fc098491a42200a.-5592f786.1197a3eee79.-201d\"></a><span class=\"COLLOC\"><span class=\"COLLOC_collo\" >a taboo word</span></span><span class=\"COLLGLOSS\" ><span > (=</span>one that people are not allowed to use<span >)</span></span><span class=\"COLLEXA\" ><span > </span><span class=\"BASE\" >This has now become a taboo word.</span><span class=\"INFLX\" >have</span></span></span></span></span><span class=\"Section\" ><span class=\"SECHEADING\" >verbs</span><a name=\"u2fc098491a42200a.262cc60a.1180d18c85a.-66b5\"></a><span class=\"Collocate\"><span class=\"Collocate_newline\" ><a name=\"u2fc098491a42200a.262cc60a.1180d18c85a.-66b4\"></a><span class=\"COLLOC\"><span class=\"COLLOC_collo\" >say/speak a word</span></span><span class=\"COLLEXA\" ><span > </span><span class=\"BASE\" >She said the words ‘my husband’ in a firm voice.</span><span class=\"INFLX\" >say</span><span class=\"INFLX\" >word</span></span></span></span><a name=\"u2fc098491a42200a.262cc60a.1180d18c85a.-66b8\"></a><span class=\"Collocate\"><span class=\"Collocate_newline\" ><a name=\"u2fc098491a42200a.262cc60a.1180d18c85a.-66b7\"></a><span class=\"COLLOC\"><span class=\"COLLOC_collo\" >use a word</span></span><span class=\"COLLEXA\" ><span > </span><span class=\"BASE\" >Be very careful how you use the word ‘natural’.</span></span></span></span><a name=\"u2fc098491a42200a.262cc60a.1180d18c85a.-66bb\"></a><span class=\"Collocate\"><span class=\"Collocate_newline\" ><a name=\"u2fc098491a42200a.262cc60a.1180d18c85a.-66ba\"></a><span class=\"COLLOC\"><span class=\"COLLOC_collo\" >pronounce a word</span></span><span class=\"COLLEXA\" ><span > </span><span class=\"BASE\" >How do you pronounce this word?</span></span></span></span><a name=\"u2fc098491a42200a.262cc60a.1180d18c85a.-66be\"></a><span class=\"Collocate\"><span class=\"Collocate_newline\" ><a name=\"u2fc098491a42200a.262cc60a.1180d18c85a.-66bd\"></a><span class=\"COLLOC\"><span class=\"COLLOC_collo\" >spell a word</span></span><span class=\"COLLEXA\" ><span > </span><span class=\"BASE\" >I always find that word hard to spell.</span></span></span></span><a name=\"u2fc098491a42200a.-2c371bee.11a8d8e2f61.-5c35\"></a><span class=\"Collocate\"><span class=\"Collocate_newline\" ><a name=\"u2fc098491a42200a.-2c371bee.11a8d8e2f61.-5c34\"></a><span class=\"COLLOC\"><span class=\"COLLOC_collo\" >have a word</span></span><span class=\"COLLEXA\" ><span > </span><span class=\"BASE\" >It is not true that Eskimos have more than forty words for snow.</span><span class=\"INFLX\" >be</span><span class=\"INFLX\" >word</span></span></span></span><a name=\"u2fc098491a42200a.262cc60a.1180d18c85a.-66b2\"></a><span class=\"Collocate\"><span class=\"Collocate_newline\" ><a name=\"u2fc098491a42200a.262cc60a.1180d18c85a.-66b1\"></a><span class=\"COLLOC\"><span class=\"COLLOC_collo\" >find the word</span></span><span class=\"COLLGLOSS\" ><span > (=</span>succeed in thinking of the right word to use<span >)</span></span><span class=\"COLLEXA\" ><span > </span><span class=\"BASE\" >She couldn’t find the words to explain how she felt.</span><span class=\"INFLX\" >word</span><span class=\"INFLX\" >feel</span></span></span></span><a name=\"u2fc098491a42200a.262cc60a.1180d18c85a.-66ae\"></a><span class=\"Collocate\"><span class=\"Collocate_newline\" ><a name=\"u2fc098491a42200a.262cc60a.1180d18c85a.-66ad\"></a><span class=\"COLLOC\"><span class=\"COLLOC_collo\" >search for words</span></span><span class=\"COLLGLOSS\" ><span > (=</span>try to think of words to use<span >)</span></span><span class=\"COLLEXA\" ><span > </span><span class=\"BASE\" >She hesitated, searching for words.</span><span class=\"INFLX\" >hesitate</span><span class=\"INFLX\" >search</span><span class=\"INFLX\" >word</span></span></span></span><a name=\"u2fc098491a42200a.-5592f786.1197a3eee79.-2018\"></a><span class=\"Collocate\"><span class=\"Collocate_newline\" ><a name=\"u2fc098491a42200a.-5592f786.1197a3eee79.-2017\"></a><span class=\"COLLOC\"><span class=\"COLLOC_collo\" >look up a word</span></span><span class=\"COLLGLOSS\" ><span > (=</span>try to find it in a book<span >)</span></span><span class=\"COLLEXA\" ><span > </span><span class=\"BASE\" >I looked the word up in my dictionary.</span><span class=\"INFLX\" >look</span></span></span></span></span></span><span class=\"ThesBox\" ><span class=\"heading\" >THESAURUS</span><span class=\"Section\" ><a name=\"u2fc098491a42200a.262cc60a.117ee7c0f66.-366\"></a><span class=\"Exponent\" ><span class=\"EXP\" >word</span><span class=\"DEF\" ><span > </span>a single group of letters that are used together with a particular meaning</span><span class=\"THESEXA\" ><span >: </span><span class=\"BASE\" >‘Casa’ is the Italian word for ‘house’.</span><span class=\"INFLX\" >be</span></span><span class=\"THESEXA\" ><span > | </span><span class=\"BASE\" >I looked up the word in a dictionary.</span><span class=\"INFLX\" >look</span></span></span><a name=\"u2fc098491a42200a.4e6eb300.1194c690b1c.-7b80\"></a><span class=\"Exponent\" ><span class=\"EXP\" >name</span><span class=\"DEF\" ><span > </span>a word that you use for a particular thing, place, organization etc</span><span class=\"THESEXA\" ><span >: </span><span class=\"BASE\" >Iberia is the ancient name for the Spanish Peninsula.</span><span class=\"INFLX\" >be</span></span><span class=\"THESEXA\" ><span > | </span><span class=\"BASE\" >What’s the name of that type of dog?</span></span></span><a name=\"u2fc098491a42200a.262cc60a.117ee7c0f66.-35b\"></a><span class=\"Exponent\" ><span class=\"EXP\" >term</span><span class=\"DEF\" ><span > </span>a word or group of words that is used in a specific subject or area of language</span><span class=\"THESEXA\" ><span >: </span><span class=\"BASE\" >The medical term for losing your hair is ‘alopecia’.</span><span class=\"INFLX\" >lose</span><span class=\"INFLX\" >be</span></span><span class=\"THESEXA\" ><span > | </span><span class=\"BASE\" >People use the term ‘carbon footprint’ to talk about man’s polluting effect on the environment.</span><span class=\"INFLX\" >pollute</span></span></span><a name=\"u2fc098491a42200a.4e6eb300.1194c690b1c.-7b7a\"></a><span class=\"Exponent\" ><span class=\"EXP\" >phrase</span><span class=\"DEF\" ><span > </span>a group of words that have a particular meaning when used together, or which someone uses on a particular occasion</span><span class=\"THESEXA\" ><span >: </span><span class=\"BASE\" >We don’t really have a phrase for ‘bon appétit’ in English.</span></span><span class=\"THESEXA\" ><span > | </span><span class=\"BASE\" >Politicians keep using the phrase ‘family values’.</span><span class=\"INFLX\" >politician</span><span class=\"INFLX\" >use</span><span class=\"INFLX\" >value</span></span><span class=\"THESEXA\" ><span > | </span><span class=\"BASE\" >an Italian phrase book</span></span></span><a name=\"u2fc098491a42200a.4e6eb300.1194c690b1c.-7b72\"></a><span class=\"Exponent\" ><span class=\"EXP\" >expression</span><span class=\"DEF\" ><span > </span>a fixed phrase which is used in a language and has a particular meaning</span><span class=\"THESEXA\" ><span >: </span><span class=\"BASE\" >He uses a lot of obscure expressions that I don’t really understand.</span><span class=\"INFLX\" >use</span><span class=\"INFLX\" >expression</span></span><span class=\"THESEXA\" ><span > | </span><span class=\"BASE\" >What does the expression ‘wage slavery’ mean?</span><span class=\"INFLX\" >do</span></span></span><a name=\"u2fc098491a42200a.262cc60a.117ee7c0f66.-353\"></a><span class=\"Exponent\" ><span class=\"EXP\" >buzzword</span><span class=\"PronCodes\" ><span > /</span><span class=\"PRON\" >ˈbʌzwɜːd $ -wɜːrd</span><span >/</span></span><span class=\"DEF\" ><span > </span>a word or group of words that people in a particular type of work or activity have started using a lot because they think it is important</span><span class=\"THESEXA\" ><span >: </span><span class=\"BASE\" >E-learning is the buzzword in educational publishing at the moment.</span><span class=\"INFLX\" >learn</span><span class=\"INFLX\" >be</span><span class=\"INFLX\" >publish</span></span><span class=\"THESEXA\" ><span > | </span><span class=\"BASE\" >For anthropologists, ethnodiversity has been a buzzword for quite a while.</span><span class=\"INFLX\" >have</span><span class=\"INFLX\" >be</span></span></span><a name=\"u2fc098491a42200a.4e6eb300.1194c690b1c.-7b65\"></a><span class=\"Exponent\" ><span class=\"EXP\" >idiom</span><span class=\"PronCodes\" ><span > /</span><span class=\"PRON\" >ˈɪdiəm</span><span >/</span></span><span class=\"DEF\" ><span > </span>a group of words that has a special meaning which you cannot guess from the meanings of each separate word</span><span class=\"THESEXA\" ><span >: </span><span class=\"BASE\" >‘Full of beans’ is an idiom which means feeling lively and energetic.</span><span class=\"INFLX\" >bean</span><span class=\"INFLX\" >be</span><span class=\"INFLX\" >mean</span><span class=\"INFLX\" >feel</span></span></span><a name=\"u2fc098491a42200a.4e6eb300.1194c690b1c.-7b60\"></a><span class=\"Exponent\" ><span class=\"EXP\" >cliché</span><span class=\"PronCodes\" ><span > /</span><span class=\"PRON\" >ˈkliːʃeɪ</span><span class=\"AMEVARPRON\" ><span > $ </span>kliːˈʃeɪ</span><span >/</span></span><span class=\"DEF\" ><span > </span>a group of words that is used so often that it seems rather boring, annoying, or silly</span><span class=\"THESEXA\" ><span >: </span><span class=\"BASE\" >It’s a bit of a cliché, but good communication skills are the key to success.</span><span class=\"INFLX\" >bite</span><span class=\"INFLX\" >skill</span><span class=\"INFLX\" >be</span></span><span class=\"THESEXA\" ><span > | </span><span class=\"BASE\" >the old movie cliché ‘we can’t go on meeting like this’</span><span class=\"INFLX\" >meet</span></span></span><a name=\"u2fc098491a42200a.4e6eb300.1194c690b1c.-7b6c\"></a><span class=\"Exponent\" ><span class=\"EXP\" >slang</span><span class=\"DEF\" ><span > </span>very informal words used especially by a particular group of people such as young people, criminals, or soldiers</span><span class=\"THESEXA\" ><span >: </span><span class=\"BASE\" >Grass is slang for marijuana.</span><span class=\"INFLX\" >be</span></span><span class=\"THESEXA\" ><span > | </span><span class=\"BASE\" >prison slang</span></span><span class=\"THESEXA\" ><span > | </span><span class=\"BASE\" >army slang</span></span></span><a name=\"u2fc098491a42200a.4e6eb300.1194c690b1c.-7b5a\"></a><span class=\"Exponent\" ><span class=\"EXP\" >jargon</span><span class=\"DEF\" ><span > </span>words and phrases used in a particular profession or by a particular group of people, which are difficult for other people to understand – often used to show disapproval</span><span class=\"THESEXA\" ><span >: </span><span class=\"BASE\" >The instructions were full of technical jargon.</span><span class=\"INFLX\" >instruction</span><span class=\"INFLX\" >be</span></span><span class=\"THESEXA\" ><span > | </span><span class=\"BASE\" >complicated legal jargon</span><span class=\"INFLX\" >complicate</span></span></span></span></span></span></a>\\\\n'"
   ]
  },
  {
   "cell_type": "code",
   "execution_count": 27,
   "metadata": {
    "collapsed": false,
    "scrolled": false
   },
   "outputs": [],
   "source": [
    "bs0bj = BeautifulSoup(html, 'html.parser')"
   ]
  },
  {
   "cell_type": "code",
   "execution_count": 30,
   "metadata": {
    "collapsed": false
   },
   "outputs": [
    {
     "name": "stdout",
     "output_type": "stream",
     "text": [
      "\n",
      "\n",
      "1. group of letters\\n2. sb’s words\\n3. the words\\n4. have a word\\n5. want a word\\n6. not hear/understand/believe a word\\n7. without (saying) a word\\n8. say a word/say a few words\\n9. a word of warning/caution/advice/thanks etc\\n10. not say a word\\n11. put your feelings/thoughts etc into words\\n12. have/exchange words (with sb)\\n13. a harsh/a cross/an angry etc word\\n14. news/information\\n15. the last/final word\\n16. my/his/your etc word\\n17. word for word\\n18. in a word\\n19. in words of one syllable\\n20. in so many words\\n21. take the words (right) out of sb’s mouth\\n22. put words into sb’s mouth\\n23. an order\\n24. (right) from the word go\\n25. too silly/complicated/ridiculous etc for words\\n26. (have/drop) a word in sb’s ear\\n27. get a word in (edgeways)\\n28. put in a (good) word for sb\\n29. words fail me\\n30. word!\\n31. (Upon) my word!\\n32. surprised/angry/pleased etc isn’t the word for it\\n33. a man/woman etc of few words\\n34. the Word (of God)\\n\n"
     ]
    }
   ],
   "source": [
    "namelist = bs0bj.find_all('span', {'class':'menu-body'})\n",
    "for name in namelist:\n",
    "    print('\\n')\n",
    "    print(name.get_text())"
   ]
  },
  {
   "cell_type": "code",
   "execution_count": 32,
   "metadata": {
    "collapsed": true
   },
   "outputs": [
    {
     "name": "stdout",
     "output_type": "stream",
     "text": [
      "\n",
      "\n",
      "1group of letters [countable]WORD, PHRASE, OR SENTENCE a single group of letters that are used together with a particular meaning: Write an essay of about five hundred words.wordWhat does that word mean?do'Vater' is the German word for  (=that means) 'father'.bePerhaps 'lucky' is not exactly the right word.be → buzzword, four-letter word, swear word\n",
      "\n",
      "\n",
      "2sb’s words the things that someone says or writes: Those are his words, not mine.bewordin sb’s wordsJones was, in the judge’s words, ‘an evil man’.bewordIn your own words, explain the term ‘personal service’.word\n",
      "\n",
      "\n",
      "3the words  the words that are sung as part of a song: I know the tune, but I've forgotten the words.forgetwordthe words  toMany people don't know the words to the country's national anthem.word\n",
      "\n",
      "\n",
      "4have a word especially spokenTALK TO SB to talk to someone quickly, especially because you need their advice about something or you want to tell them to do something: Could I have a word?canhave a word withI’ll have a word with him and see if he’ll help.have a quick/brief wordI was hoping to have a quick word with you.behopehave/exchange a few wordsCould I have a few words with you?canword\n",
      "\n",
      "\n",
      "5want a word spokenTALK TO SB to want to talk to someone, especially in order to criticize themwant a word withWait a minute! I want a word with you!\n",
      "\n",
      "\n",
      "6not hear/understand/believe a wordNONE/NOTHING used to emphasize that you cannot hear, understand etc what someone says or writes: No one could hear a word because someone had cut the amplifier cable.canhavenot hear/understand/believe a word ofI can’t understand a word of Russian.\n",
      "\n",
      "\n",
      "7without (saying) a word if you do something without a word, you do not say anything while you do it: He left without a word.leave\n",
      "\n",
      "\n",
      "8say a word/say a few wordsTALK TO SB to make a short speech about something: I’d like to say a few words about the plans.wordplan\n",
      "\n",
      "\n",
      "9a word of warning/caution/advice/thanks etc something you say that warns someone, thanks them etc: It’s a beautiful city, but a word of warning: street robberies are very common.warnrobberybeHe left without a word of apology.leave\n",
      "\n",
      "\n",
      "10not say a word a)(also not breathe a word) to not say anything about something because it is a secret: Promise you won’t say a word to anyone?win b)to not say anything: What’s wrong? You haven’t said a word since you got here.sayget\n",
      "\n",
      "\n",
      "11put your feelings/thoughts etc into wordsEXPRESS to express what you want to say clearly: He found it difficult to put ideas into words.findideaword\n",
      "\n",
      "\n",
      "12ARGUEhave/exchange words (with somebody) to argue – use this when you do not want to make the argument seem serious: I was in a bad mood and he kept pestering me, so we had words.bekeeppesterhaveword\n",
      "\n",
      "\n",
      "13a harsh/a cross/an angry etc word something you say that shows you are angry or want to criticize someone: Mountain rescue teams have harsh words to say to people who climb without proper equipment.teamwordThey were married for 50 years and she says there was never an angry word between them.bemarryyearsaybe\n",
      "\n",
      "\n",
      "14news/information [singular, uncountable]NEWS a piece of news or a message: Word came that our duties would be changed.comedutywillchange‘Have you heard from Ann?’ ‘No, not a word.’hearThere was still no word from John.beword gets out/around (=people hear about something)It’s a very small town and if you do something bad, word gets around.getthe word is (that)/word has it (that) (=people are saying that)The word is that the two companies are planning a merger.becompanybeplanspread/pass the word (=tell other people some information or news)Health officials are encouraging people to spread the word about the benefits of exercise.officialbeencouragebenefitsend/bring word old-fashioned formal (=send or bring a message)The mayor sent word he’d be late.sendWord of mouth (=information you get by someone telling you) is one of the best ways of getting business.bewellwaygetby word of mouthMuch of this information is picked up by word of mouth from previous students.bepickstudent\n",
      "\n",
      "\n",
      "15the last/final word a)DECIDEthe power to decide whether or how to do somethingthe last/final word onThe final word on policy determination belongs to the committee.belongShe has the final word on whether policies are put into action or not.havepolicybe b)SAY/STATEthe last statement or speech in a discussion or argument: The last word must go to Nick, who has organized the whole project.haveorganizeWhy must you always have the last word in any argument? c)in sports, the last hit or kick in a game, especially when it is successful: Adams had the final word with a last-minute goal.have\n",
      "\n",
      "\n",
      "16my/his/your etc wordPROMISE a sincere promise to do something, or a promise that what you say is true: I trust him to keep his word.I give you my word (=I promise) that it won’t happen again.winThey had given their word of honour that they would not attempt to escape.havegivewillWe only have his word for it that he has already paid.havepayDelors claimed that Johnson had gone back on his word (=not done what he had promised to do).claimhavegoThe business is doing very well. You can take my word for it (=accept that what I say is true).bedoI never know whether to take him at his word (=believe what he says).His word is his bond (=he always does what he promises to do).bebe true to your word/be as good as your word (=do what you promise to do)a man of his word/a woman of her word (=a man or woman who does what they have promised to do)\n",
      "\n",
      "\n",
      "17word for word a)EXACTSAMEin exactly the same words: The newspaper printed his speech more or less word for word.printlittle b)(also word by word)SAME if you translate a piece of writing word for word, you translate the meaning of each single word rather than the meaning of a whole phrase or sentence\n",
      "\n",
      "\n",
      "18in a wordCLEAR/EASY TO UNDERSTAND used before giving a very simple answer or explanation: We are, in a word, busy. Ridiculously busy.be\n",
      "\n",
      "\n",
      "19in words of one syllable saying something in a way that is very easy to understand, especially because the person you are talking to is stupid: You have to put everything in words of one syllable for her.word\n",
      "\n",
      "\n",
      "20in so many words (also in as many words) [usually negative]CLEAR/EASY TO UNDERSTAND in a direct way, or in a way that makes it very clear what you mean: Aunt Fay wasn’t happy and said so in as many words.sayword\n",
      "\n",
      "\n",
      "21take the words (right) out of sb’s mouth spokenSAME if someone takes the words out of your mouth, they have just said what you were going to say\n",
      "\n",
      "\n",
      "22put words into sb’s mouth spokenCHANGE/MAKE STH DIFFERENT to tell someone what you think they are trying to say, in a way that annoys them: Will you stop putting words into my mouth – I never said I disliked the job.putwordsaydislike\n",
      "\n",
      "\n",
      "23an order [singular]TELL/ORDER SB TO DO STH an order to do something: On the word ‘go’ everyone has to run to the end of the room and back.haveWhen I give the word, grab him.\n",
      "\n",
      "\n",
      "24(right) from the word go spokenBEGINNING from the beginning of something: The marriage was a disaster from the word go.be\n",
      "\n",
      "\n",
      "25too silly/complicated/ridiculous etc for words spokenSTUPID/NOT SENSIBLE extremely silly, complicated etc: His behaviour has been too pathetic for words.havebeword\n",
      "\n",
      "\n",
      "26TALK TO SB(have/drop) a word in sb’s ear to say something to someone privately, especially to give them advice or a warning: If I were you, I’d have a word in his ear before it’s too late.be\n",
      "\n",
      "\n",
      "27get a word in (edgeways)INTERRUPT to get a chance to say something: Once George starts talking it’s difficult to get a word in edgeways.starttalk\n",
      "\n",
      "\n",
      "28put in a (good) word for somebodyPRAISE to try to help someone get or achieve something by saying good things about them to someone else: I got the job because Paul put in a good word for me.get\n",
      "\n",
      "\n",
      "29words fail me spokenSAY used to say that you are so surprised, angry, or shocked that you do not know what to say: I ... words fail me.word\n",
      "\n",
      "\n",
      "30word! American English informal used to say that you understand or agree with what someone has just said\n",
      "\n",
      "\n",
      "31(Upon) my word! spoken old-fashionedSURPRISED used when you are very surprised: My word! Hasn’t she grown?grow\n",
      "\n",
      "\n",
      "32surprised/angry/pleased etc isn’t the word for it spokenVERY used to say that you are extremely surprised, angry etc\n",
      "\n",
      "\n",
      "33a man/woman etc of few words someone who does not say very much: My father was a man of few words.beword\n",
      "\n",
      "\n",
      "34the Word (of God) the religious ideas and messages in the Bible\n"
     ]
    }
   ],
   "source": [
    "namelist = bs0bj.find_all('span', {'class':'Sense_newline'})\n",
    "for name in namelist:\n",
    "    print('\\n')\n",
    "    print(name.get_text())"
   ]
  },
  {
   "cell_type": "code",
   "execution_count": 34,
   "metadata": {
    "collapsed": false,
    "scrolled": false
   },
   "outputs": [
    {
     "name": "stdout",
     "output_type": "stream",
     "text": [
      "\n",
      "\n",
      " a single group of letters that are used together with a particular meaning\n",
      "\n",
      "\n",
      " the things that someone says or writes\n",
      "\n",
      "\n",
      " the words that are sung as part of a song\n",
      "\n",
      "\n",
      " to talk to someone quickly, especially because you need their advice about something or you want to tell them to do something\n",
      "\n",
      "\n",
      " to want to talk to someone, especially in order to criticize them\n",
      "\n",
      "\n",
      " used to emphasize that you cannot hear, understand etc what someone says or writes\n",
      "\n",
      "\n",
      " if you do something without a word, you do not say anything while you do it\n",
      "\n",
      "\n",
      " to make a short speech about something\n",
      "\n",
      "\n",
      " something you say that warns someone, thanks them etc\n",
      "\n",
      "\n",
      " to not say anything about something because it is a secret\n",
      "\n",
      "\n",
      "to not say anything\n",
      "\n",
      "\n",
      " to express what you want to say clearly\n",
      "\n",
      "\n",
      " to argue – use this when you do not want to make the argument seem serious\n",
      "\n",
      "\n",
      " something you say that shows you are angry or want to criticize someone\n",
      "\n",
      "\n",
      " a piece of news or a message\n",
      "\n",
      "\n",
      "the power to decide whether or how to do something\n",
      "\n",
      "\n",
      "the last statement or speech in a discussion or argument\n",
      "\n",
      "\n",
      "in sports, the last hit or kick in a game, especially when it is successful\n",
      "\n",
      "\n",
      " a sincere promise to do something, or a promise that what you say is true\n",
      "\n",
      "\n",
      "in exactly the same words\n",
      "\n",
      "\n",
      " if you translate a piece of writing word for word, you translate the meaning of each single word rather than the meaning of a whole phrase or sentence\n",
      "\n",
      "\n",
      " used before giving a very simple answer or explanation\n",
      "\n",
      "\n",
      " saying something in a way that is very easy to understand, especially because the person you are talking to is stupid\n",
      "\n",
      "\n",
      " in a direct way, or in a way that makes it very clear what you mean\n",
      "\n",
      "\n",
      " if someone takes the words out of your mouth, they have just said what you were going to say\n",
      "\n",
      "\n",
      " to tell someone what you think they are trying to say, in a way that annoys them\n",
      "\n",
      "\n",
      " an order to do something\n",
      "\n",
      "\n",
      " from the beginning of something\n",
      "\n",
      "\n",
      " extremely silly, complicated etc\n",
      "\n",
      "\n",
      " to say something to someone privately, especially to give them advice or a warning\n",
      "\n",
      "\n",
      " to get a chance to say something\n",
      "\n",
      "\n",
      " to try to help someone get or achieve something by saying good things about them to someone else\n",
      "\n",
      "\n",
      " used to say that you are so surprised, angry, or shocked that you do not know what to say\n",
      "\n",
      "\n",
      " used to say that you understand or agree with what someone has just said\n",
      "\n",
      "\n",
      " used when you are very surprised\n",
      "\n",
      "\n",
      " used to say that you are extremely surprised, angry etc\n",
      "\n",
      "\n",
      " someone who does not say very much\n",
      "\n",
      "\n",
      " the religious ideas and messages in the Bible\n",
      "\n",
      "\n",
      " a single group of letters that are used together with a particular meaning\n",
      "\n",
      "\n",
      " a word that you use for a particular thing, place, organization etc\n",
      "\n",
      "\n",
      " a word or group of words that is used in a specific subject or area of language\n",
      "\n",
      "\n",
      " a group of words that have a particular meaning when used together, or which someone uses on a particular occasion\n",
      "\n",
      "\n",
      " a fixed phrase which is used in a language and has a particular meaning\n",
      "\n",
      "\n",
      " a word or group of words that people in a particular type of work or activity have started using a lot because they think it is important\n",
      "\n",
      "\n",
      " a group of words that has a special meaning which you cannot guess from the meanings of each separate word\n",
      "\n",
      "\n",
      " a group of words that is used so often that it seems rather boring, annoying, or silly\n",
      "\n",
      "\n",
      " very informal words used especially by a particular group of people such as young people, criminals, or soldiers\n",
      "\n",
      "\n",
      " words and phrases used in a particular profession or by a particular group of people, which are difficult for other people to understand – often used to show disapproval\n"
     ]
    }
   ],
   "source": [
    "namelist = bs0bj.find_all('span', {'class':'DEF'})\n",
    "for name in namelist:\n",
    "    print('\\n')\n",
    "    print(name.get_text())"
   ]
  },
  {
   "cell_type": "code",
   "execution_count": null,
   "metadata": {
    "collapsed": false
   },
   "outputs": [],
   "source": [
    "namelist = bs0bj.find_all('span', {'class':'sensenum'})\n",
    "for name in namelist:\n",
    "    print(name.get_text())"
   ]
  },
  {
   "cell_type": "code",
   "execution_count": null,
   "metadata": {
    "collapsed": false
   },
   "outputs": [],
   "source": [
    "namelist = bs0bj.find_all('span', {'class':'REGISTERLAB'})\n",
    "for name in namelist:\n",
    "    print(name.get_text())"
   ]
  },
  {
   "cell_type": "code",
   "execution_count": null,
   "metadata": {
    "collapsed": false
   },
   "outputs": [],
   "source": [
    "namelist = bs0bj.find_all('span', {'class':'DEF'})\n",
    "for name in namelist:\n",
    "    print(name.get_text())"
   ]
  },
  {
   "cell_type": "code",
   "execution_count": null,
   "metadata": {
    "collapsed": false
   },
   "outputs": [],
   "source": [
    "namelist = bs0bj.find_all('span', {'class':'Sense'})\n",
    "for name in namelist:\n",
    "    print('--')\n",
    "    print(name.get_text())"
   ]
  },
  {
   "cell_type": "code",
   "execution_count": null,
   "metadata": {
    "collapsed": false
   },
   "outputs": [],
   "source": [
    "namelist = bs0bj.find_all('span', {'class':'Sense_newline'})\n",
    "for name in namelist:\n",
    "    print(name.get_text())"
   ]
  },
  {
   "cell_type": "code",
   "execution_count": null,
   "metadata": {
    "collapsed": false
   },
   "outputs": [],
   "source": [
    "name.get_text()"
   ]
  },
  {
   "cell_type": "code",
   "execution_count": 3,
   "metadata": {
    "collapsed": false
   },
   "outputs": [
    {
     "data": {
      "text/plain": [
       "104"
      ]
     },
     "execution_count": 3,
     "metadata": {},
     "output_type": "execute_result"
    }
   ],
   "source": [
    "len(string)"
   ]
  },
  {
   "cell_type": "code",
   "execution_count": 4,
   "metadata": {
    "collapsed": true
   },
   "outputs": [],
   "source": [
    "import numpy as np"
   ]
  },
  {
   "cell_type": "code",
   "execution_count": 5,
   "metadata": {
    "collapsed": true
   },
   "outputs": [],
   "source": [
    "a = np.asarray(string)"
   ]
  },
  {
   "cell_type": "code",
   "execution_count": 6,
   "metadata": {
    "collapsed": false
   },
   "outputs": [
    {
     "data": {
      "text/plain": [
       "104"
      ]
     },
     "execution_count": 6,
     "metadata": {},
     "output_type": "execute_result"
    }
   ],
   "source": [
    "a.size"
   ]
  },
  {
   "cell_type": "code",
   "execution_count": 9,
   "metadata": {
    "collapsed": false
   },
   "outputs": [
    {
     "data": {
      "text/plain": [
       "40"
      ]
     },
     "execution_count": 9,
     "metadata": {},
     "output_type": "execute_result"
    }
   ],
   "source": [
    "np.unique(a).size"
   ]
  },
  {
   "cell_type": "code",
   "execution_count": 10,
   "metadata": {
    "collapsed": false
   },
   "outputs": [
    {
     "data": {
      "text/plain": [
       "array(['<span class=\"ACTIV\" >', '<span class=\"ACTV\">',\n",
       "       '<span class=\"ACTVC\">', '<span class=\"AMEVARPRON\" >',\n",
       "       '<span class=\"BASE\" >', '<span class=\"CENTURY\" >',\n",
       "       '<span class=\"COLCATION\" >', '<span class=\"COLLOINEXA\" >',\n",
       "       '<span class=\"DEF\" >', '<span class=\"EAHead\" >',\n",
       "       '<span class=\"EXAMP\" >', '<span class=\"EXAMPLE\" >',\n",
       "       '<span class=\"EntryAsset\" >', '<span class=\"EntryAssets\" >',\n",
       "       '<span class=\"FREQ\" >', '<span class=\"HWD\" >',\n",
       "       '<span class=\"HYPHENATION\">', '<span class=\"HYPHENATION_keyword\" >',\n",
       "       '<span class=\"Head\" >', '<span class=\"INFLX\" >',\n",
       "       '<span class=\"ORIGIN\" >', '<span class=\"PHR\" >',\n",
       "       '<span class=\"POS\" >', '<span class=\"PRON\" >',\n",
       "       '<span class=\"PronCodes\" >', '<span class=\"REGISTERLAB\" >',\n",
       "       '<span class=\"Refs\" >', '<span class=\"SENSE\" >',\n",
       "       '<span class=\"SE_EntryAssets\" >', '<span class=\"Sense\">',\n",
       "       '<span class=\"Sense_newline\" >', '<span class=\"THESR\">',\n",
       "       '<span class=\"TRAN\" >', '<span class=\"Z\" >',\n",
       "       '<span class=\"etymology\" >', '<span class=\"hwd\" >',\n",
       "       '<span class=\"lead\" >', '<span class=\"normal\" >',\n",
       "       '<span class=\"pos\" >', '<span class=\"sensenum\" >'], \n",
       "      dtype='<U35')"
      ]
     },
     "execution_count": 10,
     "metadata": {},
     "output_type": "execute_result"
    }
   ],
   "source": [
    "np.unique(a)"
   ]
  },
  {
   "cell_type": "code",
   "execution_count": 16,
   "metadata": {
    "collapsed": true
   },
   "outputs": [],
   "source": [
    "b = ['<span class=\"SE_EntryAssets\" >','<span class=\"EAHead\" >','<span class=\"hwd\" >','<span class=\"pos\" >','<span class=\"EntryAssets\" >','<span class=\"EntryAsset\" >','<span class=\"COLCATION\" >','<span class=\"EntryAsset\" >','<span class=\"COLCATION\" >','<span class=\"EntryAsset\" >','<span class=\"COLCATION\" >','<span class=\"EntryAssets\" >','<span class=\"EntryAsset\" >','<span class=\"Refs\" >','<span class=\"THESRC\">','<span class=\"THESR\">','<span class=\"EntryAsset\" >','<span class=\"Refs\" >','<span class=\"ACTVC\">','<span class=\"ACTV\">','<span class=\"THESR\">','<span class=\"THESR\">','<span class=\"THESR\">','<span class=\"EntryAssets\" >','<span class=\"EntryAsset\" >','<span class=\"PHR\" >','<span class=\"EntryAsset\" >','<span class=\"PHR\" >','<span class=\"EntryAssets\" >','<span class=\"EntryAsset\" >','<span class=\"EXAMP\" >','<span class=\"EntryAsset\" >','<span class=\"EXAMP\" >','<span class=\"EntryAssets\" >','<span class=\"EntryAsset\" >','<span class=\"Refs\" >','<span class=\"EntryAssets\" >','<span class=\"EntryAsset\" >','<span class=\"EntryAsset\" >','<span class=\"Head\" >','<span class=\"HWD\" >','<span class=\"BASE\" >','<span class=\"INFLX\" >','<span class=\"INFLX\" >','<span class=\"HYPHENATION\">','<span class=\"HYPHENATION_keyword\" >','<span class=\"HOMNUM\">','<span class=\"HOMNUM_keyword\" >','<span class=\"FREQ\" >','<span class=\"FREQ\" >','<span class=\"PronCodes\" >','<span class=\"PRON\" >','<span class=\"AMEVARPRON\" >','<span class=\"POS\" >','<span class=\"SE_EntryAssets\" >','<span class=\"EntryAssets\" >','<span class=\"EntryAsset\" >','<span class=\"Refs\" >','<span class=\"Menu\" >','<span class=\"menu-head\" >','<span class=\"hwd\" >','<span class=\"hom\" >','<span class=\"pos\" >','<span class=\"menu-body\" >','<span class=\"Link\" >','<span class=\"sensenum\" >','<span class=\"Ref\" >','<span class=\"SIGNPOST\" >','<span class=\"Link\" >','<span class=\"sensenum\" >','<span class=\"Ref\" >','<span class=\"LEXUNIT\" >','<span class=\"Link\" >','<span class=\"sensenum\" >','<span class=\"Ref\" >','<span class=\"LEXUNIT\" >','<span class=\"Link\" >','<span class=\"sensenum\" >','<span class=\"Ref\" >','<span class=\"LEXUNIT\" >','<span class=\"Link\" >','<span class=\"sensenum\" >','<span class=\"Ref\" >','<span class=\"LEXUNIT\" >','<span class=\"Link\" >','<span class=\"sensenum\" >','<span class=\"Ref\" >','<span class=\"LEXUNIT\" >','<span class=\"Link\" >','<span class=\"sensenum\" >','<span class=\"Ref\" >','<span class=\"LEXUNIT\" >','<span class=\"Link\" >','<span class=\"sensenum\" >','<span class=\"Ref\" >','<span class=\"LEXUNIT\" >','<span class=\"Link\" >','<span class=\"sensenum\" >','<span class=\"Ref\" >','<span class=\"LEXUNIT\" >','<span class=\"Link\" >','<span class=\"sensenum\" >','<span class=\"Ref\" >','<span class=\"LEXUNIT\" >','<span class=\"Link\" >','<span class=\"sensenum\" >','<span class=\"Ref\" >','<span class=\"LEXUNIT\" >','<span class=\"Link\" >','<span class=\"sensenum\" >','<span class=\"Ref\" >','<span class=\"LEXUNIT\" >','<span class=\"Link\" >','<span class=\"sensenum\" >','<span class=\"Ref\" >','<span class=\"LEXUNIT\" >','<span class=\"Link\" >','<span class=\"sensenum\" >','<span class=\"Ref\" >','<span class=\"SIGNPOST\" >','<span class=\"Link\" >','<span class=\"sensenum\" >','<span class=\"Ref\" >','<span class=\"LEXUNIT\" >','<span class=\"Link\" >','<span class=\"sensenum\" >','<span class=\"Ref\" >','<span class=\"LEXUNIT\" >','<span class=\"Link\" >','<span class=\"sensenum\" >','<span class=\"Ref\" >','<span class=\"LEXUNIT\" >','<span class=\"Link\" >','<span class=\"sensenum\" >','<span class=\"Ref\" >','<span class=\"LEXUNIT\" >','<span class=\"Link\" >','<span class=\"sensenum\" >','<span class=\"Ref\" >','<span class=\"LEXUNIT\" >','<span class=\"Link\" >','<span class=\"sensenum\" >','<span class=\"Ref\" >','<span class=\"LEXUNIT\" >','<span class=\"Link\" >','<span class=\"sensenum\" >','<span class=\"Ref\" >','<span class=\"LEXUNIT\" >','<span class=\"Link\" >','<span class=\"sensenum\" >','<span class=\"Ref\" >','<span class=\"LEXUNIT\" >','<span class=\"Link\" >','<span class=\"sensenum\" >','<span class=\"Ref\" >','<span class=\"SIGNPOST\" >','<span class=\"Link\" >','<span class=\"sensenum\" >','<span class=\"Ref\" >','<span class=\"LEXUNIT\" >','<span class=\"Link\" >','<span class=\"sensenum\" >','<span class=\"Ref\" >','<span class=\"LEXUNIT\" >','<span class=\"Link\" >','<span class=\"sensenum\" >','<span class=\"Ref\" >','<span class=\"LEXUNIT\" >','<span class=\"Link\" >','<span class=\"sensenum\" >','<span class=\"Ref\" >','<span class=\"LEXUNIT\" >','<span class=\"Link\" >','<span class=\"sensenum\" >','<span class=\"Ref\" >','<span class=\"LEXUNIT\" >','<span class=\"Link\" >','<span class=\"sensenum\" >','<span class=\"Ref\" >','<span class=\"LEXUNIT\" >','<span class=\"Link\" >','<span class=\"sensenum\" >','<span class=\"Ref\" >','<span class=\"LEXUNIT\" >','<span class=\"Link\" >','<span class=\"sensenum\" >','<span class=\"Ref\" >','<span class=\"LEXUNIT\" >','<span class=\"Link\" >','<span class=\"sensenum\" >','<span class=\"Ref\" >','<span class=\"LEXUNIT\" >','<span class=\"Link\" >','<span class=\"sensenum\" >','<span class=\"Ref\" >','<span class=\"LEXUNIT\" >','<span class=\"Link\" >','<span class=\"sensenum\" >','<span class=\"Ref\" >','<span class=\"LEXUNIT\" >','<span class=\"EntryAssets\" >','<span class=\"EntryAsset\" >','<span class=\"Refs\" >','<span class=\"WFAM\">','<span class=\"EntryAssets\" >','<span class=\"EntryAsset\" >','<span class=\"Refs\" >','<span class=\"etymology\" >','<span class=\"SENSE\" >','<span class=\"lead\" >','<span class=\"LANG\" >','<span class=\"Sense\">','<span class=\"Sense_newline\" >','<span class=\"sensenum\" >','<span class=\"SIGNPOST\" >','<span class=\"GRAM\" >','<span class=\"ACTIV\" >','<span class=\"DEF\" >','<span class=\"EXAMPLE\" >','<span class=\"BASE\" >','<span class=\"INFLX\" >','<span class=\"EXAMPLE\" >','<span class=\"BASE\" >','<span class=\"INFLX\" >','<span class=\"EXAMPLE\" >','<span class=\"BASE\" >','<span class=\"COLLOINEXA\" >','<span class=\"GLOSS\" >','<span class=\"INFLX\" >','<span class=\"EXAMPLE\" >','<span class=\"BASE\" >','<span class=\"COLLOINEXA\" >','<span class=\"INFLX\" >','<span class=\"Crossref\" >','<span class=\"Ref\" >','<span class=\"REFHWD\" >','<span class=\"Ref\" >','<span class=\"REFHWD\" >','<span class=\"Ref\" >','<span class=\"REFHWD\" >','<span class=\"Sense\">','<span class=\"Sense_newline\" >','<span class=\"sensenum\" >','<span class=\"LEXUNIT\" >','<span class=\"DEF\" >','<span class=\"EXAMPLE\" >','<span class=\"BASE\" >','<span class=\"INFLX\" >','<span class=\"INFLX\" >','<span class=\"GramExa\" >','<span class=\"PROPFORM\" >','<span class=\"EXAMPLE\" >','<span class=\"BASE\" >','<span class=\"INFLX\" >','<span class=\"INFLX\" >','<span class=\"EXAMPLE\" >','<span class=\"BASE\" >','<span class=\"COLLOINEXA\" >','<span class=\"INFLX\" >','<span class=\"Sense\">','<span class=\"Sense_newline\" >','<span class=\"sensenum\" >','<span class=\"LEXUNIT\" >','<span class=\"DEF\" >','<span class=\"EXAMPLE\" >','<span class=\"BASE\" >','<span class=\"INFLX\" >','<span class=\"INFLX\" >','<span class=\"GramExa\" >','<span class=\"PROPFORMPREP\" >','<span class=\"EXAMPLE\" >','<span class=\"BASE\" >','<span class=\"INFLX\" >','<span class=\"Sense\">','<span class=\"Sense_newline\" >','<span class=\"sensenum\" >','<span class=\"LEXUNIT\" >','<span class=\"REGISTERLAB\" >','<span class=\"ACTIV\" >','<span class=\"DEF\" >','<span class=\"EXAMPLE\" >','<span class=\"BASE\" >','<span class=\"INFLX\" >','<span class=\"GramExa\" >','<span class=\"PROPFORMPREP\" >','<span class=\"EXAMPLE\" >','<span class=\"BASE\" >','<span class=\"ColloExa\" >','<span class=\"COLLO\" >','<span class=\"EXAMPLE\" >','<span class=\"BASE\" >','<span class=\"INFLX\" >','<span class=\"INFLX\" >','<span class=\"ColloExa\" >','<span class=\"COLLO\" >','<span class=\"EXAMPLE\" >','<span class=\"BASE\" >','<span class=\"INFLX\" >','<span class=\"INFLX\" >','<span class=\"Sense\">','<span class=\"Sense_newline\" >','<span class=\"sensenum\" >','<span class=\"LEXUNIT\" >','<span class=\"REGISTERLAB\" >','<span class=\"ACTIV\" >','<span class=\"DEF\" >','<span class=\"GramExa\" >','<span class=\"PROPFORMPREP\" >','<span class=\"EXAMPLE\" >','<span class=\"BASE\" >','<span class=\"Sense\">','<span class=\"Sense_newline\" >','<span class=\"sensenum\" >','<span class=\"LEXUNIT\" >','<span class=\"ACTIV\" >','<span class=\"DEF\" >','<span class=\"EXAMPLE\" >','<span class=\"BASE\" >','<span class=\"INFLX\" >','<span class=\"INFLX\" >','<span class=\"GramExa\" >','<span class=\"PROPFORMPREP\" >','<span class=\"EXAMPLE\" >','<span class=\"BASE\" >','<span class=\"Sense\">','<span class=\"Sense_newline\" >','<span class=\"sensenum\" >','<span class=\"LEXUNIT\" >','<span class=\"DEF\" >','<span class=\"EXAMPLE\" >','<span class=\"BASE\" >','<span class=\"INFLX\" >','<span class=\"Sense\">','<span class=\"Sense_newline\" >','<span class=\"sensenum\" >','<span class=\"LEXUNIT\" >','<span class=\"ACTIV\" >','<span class=\"DEF\" >','<span class=\"EXAMPLE\" >','<span class=\"BASE\" >','<span class=\"INFLX\" >','<span class=\"INFLX\" >','<span class=\"Sense\">','<span class=\"Sense_newline\" >','<span class=\"sensenum\" >','<span class=\"LEXUNIT\" >','<span class=\"DEF\" >','<span class=\"EXAMPLE\" >','<span class=\"BASE\" >','<span class=\"INFLX\" >','<span class=\"INFLX\" >','<span class=\"INFLX\" >','<span class=\"EXAMPLE\" >','<span class=\"BASE\" >','<span class=\"INFLX\" >','<span class=\"Sense\">','<span class=\"Sense_newline\" >','<span class=\"sensenum\" >','<span class=\"LEXUNIT\" >','<span class=\"Subsense\" >','<span class=\"sensenum\" >','<span class=\"Variant\" >','<span class=\"LINKWORD\" >','<span class=\"LEXVAR\" >','<span class=\"DEF\" >','<span class=\"EXAMPLE\" >','<span class=\"BASE\" >','<span class=\"INFLX\" >','<span class=\"Subsense\" >','<span class=\"sensenum\" >','<span class=\"DEF\" >','<span class=\"EXAMPLE\" >','<span class=\"BASE\" >','<span class=\"INFLX\" >','<span class=\"INFLX\" >','<span class=\"Sense\">','<span class=\"Sense_newline\" >','<span class=\"sensenum\" >','<span class=\"LEXUNIT\" >','<span class=\"ACTIV\" >','<span class=\"DEF\" >','<span class=\"EXAMPLE\" >','<span class=\"BASE\" >','<span class=\"INFLX\" >','<span class=\"INFLX\" >','<span class=\"INFLX\" >','<span class=\"Sense\">','<span class=\"Sense_newline\" >','<span class=\"sensenum\" >','<span class=\"ACTIV\" >','<span class=\"LEXUNIT\" >','<span class=\"DEF\" >','<span class=\"EXAMPLE\" >','<span class=\"BASE\" >','<span class=\"INFLX\" >','<span class=\"INFLX\" >','<span class=\"INFLX\" >','<span class=\"INFLX\" >','<span class=\"INFLX\" >','<span class=\"Sense\">','<span class=\"Sense_newline\" >','<span class=\"sensenum\" >','<span class=\"LEXUNIT\" >','<span class=\"DEF\" >','<span class=\"EXAMPLE\" >','<span class=\"BASE\" >','<span class=\"INFLX\" >','<span class=\"INFLX\" >','<span class=\"EXAMPLE\" >','<span class=\"BASE\" >','<span class=\"INFLX\" >','<span class=\"INFLX\" >','<span class=\"INFLX\" >','<span class=\"INFLX\" >','<span class=\"INFLX\" >','<span class=\"Sense\">','<span class=\"Sense_newline\" >','<span class=\"sensenum\" >','<span class=\"SIGNPOST\" >','<span class=\"GRAM\" >','<span class=\"ACTIV\" >','<span class=\"DEF\" >','<span class=\"EXAMPLE\" >','<span class=\"BASE\" >','<span class=\"INFLX\" >','<span class=\"INFLX\" >','<span class=\"INFLX\" >','<span class=\"INFLX\" >','<span class=\"EXAMPLE\" >','<span class=\"BASE\" >','<span class=\"INFLX\" >','<span class=\"EXAMPLE\" >','<span class=\"BASE\" >','<span class=\"COLLOINEXA\" >','<span class=\"INFLX\" >','<span class=\"ColloExa\" >','<span class=\"COLLO\" >','<span class=\"GLOSS\" >','<span class=\"EXAMPLE\" >','<span class=\"BASE\" >','<span class=\"INFLX\" >','<span class=\"ColloExa\" >','<span class=\"COLLO\" >','<span class=\"GLOSS\" >','<span class=\"EXAMPLE\" >','<span class=\"BASE\" >','<span class=\"INFLX\" >','<span class=\"INFLX\" >','<span class=\"INFLX\" >','<span class=\"INFLX\" >','<span class=\"ColloExa\" >','<span class=\"COLLO\" >','<span class=\"GLOSS\" >','<span class=\"EXAMPLE\" >','<span class=\"BASE\" >','<span class=\"INFLX\" >','<span class=\"INFLX\" >','<span class=\"INFLX\" >','<span class=\"INFLX\" >','<span class=\"ColloExa\" >','<span class=\"COLLO\" >','<span class=\"REGISTERLAB\" >','<span class=\"REGISTERLAB\" >','<span class=\"GLOSS\" >','<span class=\"EXAMPLE\" >','<span class=\"BASE\" >','<span class=\"INFLX\" >','<span class=\"EXAMPLE\" >','<span class=\"BASE\" >','<span class=\"COLLOINEXA\" >','<span class=\"GLOSS\" >','<span class=\"INFLX\" >','<span class=\"INFLX\" >','<span class=\"INFLX\" >','<span class=\"INFLX\" >','<span class=\"GramExa\" >','<span class=\"PROPFORM\" >','<span class=\"EXAMPLE\" >','<span class=\"BASE\" >','<span class=\"INFLX\" >','<span class=\"INFLX\" >','<span class=\"INFLX\" >','<span class=\"Sense\">','<span class=\"Sense_newline\" >','<span class=\"sensenum\" >','<span class=\"LEXUNIT\" >','<span class=\"Subsense\" >','<span class=\"sensenum\" >','<span class=\"ACTIV\" >','<span class=\"DEF\" >','<span class=\"GramExa\" >','<span class=\"PROPFORMPREP\" >','<span class=\"EXAMPLE\" >','<span class=\"BASE\" >','<span class=\"INFLX\" >','<span class=\"EXAMPLE\" >','<span class=\"BASE\" >','<span class=\"COLLOINEXA\" >','<span class=\"INFLX\" >','<span class=\"INFLX\" >','<span class=\"INFLX\" >','<span class=\"Subsense\" >','<span class=\"sensenum\" >','<span class=\"ACTIV\" >','<span class=\"DEF\" >','<span class=\"EXAMPLE\" >','<span class=\"BASE\" >','<span class=\"INFLX\" >','<span class=\"INFLX\" >','<span class=\"EXAMPLE\" >','<span class=\"BASE\" >','<span class=\"COLLOINEXA\" >','<span class=\"Subsense\" >','<span class=\"sensenum\" >','<span class=\"DEF\" >','<span class=\"EXAMPLE\" >','<span class=\"BASE\" >','<span class=\"COLLOINEXA\" >','<span class=\"INFLX\" >','<span class=\"Sense\">','<span class=\"Sense_newline\" >','<span class=\"sensenum\" >','<span class=\"LEXUNIT\" >','<span class=\"ACTIV\" >','<span class=\"DEF\" >','<span class=\"EXAMPLE\" >','<span class=\"BASE\" >','<span class=\"COLLOINEXA\" >','<span class=\"COLLOINEXA\" >','<span class=\"EXAMPLE\" >','<span class=\"BASE\" >','<span class=\"COLLOINEXA\" >','<span class=\"COLLOINEXA\" >','<span class=\"GLOSS\" >','<span class=\"INFLX\" >','<span class=\"EXAMPLE\" >','<span class=\"BASE\" >','<span class=\"COLLOINEXA\" >','<span class=\"COLLOINEXA\" >','<span class=\"INFLX\" >','<span class=\"INFLX\" >','<span class=\"INFLX\" >','<span class=\"EXAMPLE\" >','<span class=\"BASE\" >','<span class=\"COLLOINEXA\" >','<span class=\"COLLOINEXA\" >','<span class=\"INFLX\" >','<span class=\"INFLX\" >','<span class=\"EXAMPLE\" >','<span class=\"BASE\" >','<span class=\"COLLOINEXA\" >','<span class=\"COLLOINEXA\" >','<span class=\"GLOSS\" >','<span class=\"INFLX\" >','<span class=\"INFLX\" >','<span class=\"INFLX\" >','<span class=\"EXAMPLE\" >','<span class=\"BASE\" >','<span class=\"COLLOINEXA\" >','<span class=\"GLOSS\" >','<span class=\"INFLX\" >','<span class=\"INFLX\" >','<span class=\"EXAMPLE\" >','<span class=\"BASE\" >','<span class=\"COLLOINEXA\" >','<span class=\"COLLOINEXA\" >','<span class=\"GLOSS\" >','<span class=\"EXAMPLE\" >','<span class=\"BASE\" >','<span class=\"COLLOINEXA\" >','<span class=\"COLLOINEXA\" >','<span class=\"GLOSS\" >','<span class=\"INFLX\" >','<span class=\"ColloExa\" >','<span class=\"COLLO\" >','<span class=\"GLOSS\" >','<span class=\"ColloExa\" >','<span class=\"COLLO\" >','<span class=\"GLOSS\" >','<span class=\"Sense\">','<span class=\"Sense_newline\" >','<span class=\"sensenum\" >','<span class=\"LEXUNIT\" >','<span class=\"Subsense\" >','<span class=\"sensenum\" >','<span class=\"ACTIV\" >','<span class=\"ACTIV\" >','<span class=\"DEF\" >','<span class=\"EXAMPLE\" >','<span class=\"BASE\" >','<span class=\"INFLX\" >','<span class=\"INFLX\" >','<span class=\"Subsense\" >','<span class=\"sensenum\" >','<span class=\"Variant\" >','<span class=\"LINKWORD\" >','<span class=\"LEXVAR\" >','<span class=\"ACTIV\" >','<span class=\"DEF\" >','<span class=\"Sense\">','<span class=\"Sense_newline\" >','<span class=\"sensenum\" >','<span class=\"LEXUNIT\" >','<span class=\"ACTIV\" >','<span class=\"DEF\" >','<span class=\"EXAMPLE\" >','<span class=\"BASE\" >','<span class=\"INFLX\" >','<span class=\"Sense\">','<span class=\"Sense_newline\" >','<span class=\"sensenum\" >','<span class=\"LEXUNIT\" >','<span class=\"DEF\" >','<span class=\"EXAMPLE\" >','<span class=\"BASE\" >','<span class=\"INFLX\" >','<span class=\"Sense\">','<span class=\"Sense_newline\" >','<span class=\"sensenum\" >','<span class=\"LEXUNIT\" >','<span class=\"Variant\" >','<span class=\"LINKWORD\" >','<span class=\"LEXVAR\" >','<span class=\"GRAM\" >','<span class=\"ACTIV\" >','<span class=\"DEF\" >','<span class=\"EXAMPLE\" >','<span class=\"BASE\" >','<span class=\"INFLX\" >','<span class=\"INFLX\" >','<span class=\"Sense\">','<span class=\"Sense_newline\" >','<span class=\"sensenum\" >','<span class=\"LEXUNIT\" >','<span class=\"REGISTERLAB\" >','<span class=\"ACTIV\" >','<span class=\"DEF\" >','<span class=\"Sense\">','<span class=\"Sense_newline\" >','<span class=\"sensenum\" >','<span class=\"LEXUNIT\" >','<span class=\"REGISTERLAB\" >','<span class=\"ACTIV\" >','<span class=\"DEF\" >','<span class=\"EXAMPLE\" >','<span class=\"BASE\" >','<span class=\"INFLX\" >','<span class=\"INFLX\" >','<span class=\"INFLX\" >','<span class=\"INFLX\" >','<span class=\"Sense\">','<span class=\"Sense_newline\" >','<span class=\"sensenum\" >','<span class=\"SIGNPOST\" >','<span class=\"GRAM\" >','<span class=\"ACTIV\" >','<span class=\"DEF\" >','<span class=\"EXAMPLE\" >','<span class=\"BASE\" >','<span class=\"COLLOINEXA\" >','<span class=\"INFLX\" >','<span class=\"EXAMPLE\" >','<span class=\"BASE\" >','<span class=\"COLLOINEXA\" >','<span class=\"Sense\">','<span class=\"Sense_newline\" >','<span class=\"sensenum\" >','<span class=\"LEXUNIT\" >','<span class=\"REGISTERLAB\" >','<span class=\"ACTIV\" >','<span class=\"DEF\" >','<span class=\"EXAMPLE\" >','<span class=\"BASE\" >','<span class=\"INFLX\" >','<span class=\"Sense\">','<span class=\"Sense_newline\" >','<span class=\"sensenum\" >','<span class=\"LEXUNIT\" >','<span class=\"REGISTERLAB\" >','<span class=\"ACTIV\" >','<span class=\"DEF\" >','<span class=\"EXAMPLE\" >','<span class=\"BASE\" >','<span class=\"INFLX\" >','<span class=\"INFLX\" >','<span class=\"INFLX\" >','<span class=\"Sense\">','<span class=\"Sense_newline\" >','<span class=\"sensenum\" >','<span class=\"ACTIV\" >','<span class=\"LEXUNIT\" >','<span class=\"DEF\" >','<span class=\"EXAMPLE\" >','<span class=\"BASE\" >','<span class=\"INFLX\" >','<span class=\"Sense\">','<span class=\"Sense_newline\" >','<span class=\"sensenum\" >','<span class=\"LEXUNIT\" >','<span class=\"ACTIV\" >','<span class=\"DEF\" >','<span class=\"EXAMPLE\" >','<span class=\"BASE\" >','<span class=\"INFLX\" >','<span class=\"INFLX\" >','<span class=\"Sense\">','<span class=\"Sense_newline\" >','<span class=\"sensenum\" >','<span class=\"LEXUNIT\" >','<span class=\"ACTIV\" >','<span class=\"DEF\" >','<span class=\"EXAMPLE\" >','<span class=\"BASE\" >','<span class=\"INFLX\" >','<span class=\"Sense\">','<span class=\"Sense_newline\" >','<span class=\"sensenum\" >','<span class=\"LEXUNIT\" >','<span class=\"REGISTERLAB\" >','<span class=\"ACTIV\" >','<span class=\"DEF\" >','<span class=\"EXAMPLE\" >','<span class=\"BASE\" >','<span class=\"INFLX\" >','<span class=\"Sense\">','<span class=\"Sense_newline\" >','<span class=\"sensenum\" >','<span class=\"LEXUNIT\" >','<span class=\"GEO\" >','<span class=\"REGISTERLAB\" >','<span class=\"DEF\" >','<span class=\"Sense\">','<span class=\"Sense_newline\" >','<span class=\"sensenum\" >','<span class=\"LEXUNIT\" >','<span class=\"REGISTERLAB\" >','<span class=\"REGISTERLAB\" >','<span class=\"ACTIV\" >','<span class=\"DEF\" >','<span class=\"EXAMPLE\" >','<span class=\"BASE\" >','<span class=\"INFLX\" >','<span class=\"Sense\">','<span class=\"Sense_newline\" >','<span class=\"sensenum\" >','<span class=\"LEXUNIT\" >','<span class=\"REGISTERLAB\" >','<span class=\"ACTIV\" >','<span class=\"DEF\" >','<span class=\"Sense\">','<span class=\"Sense_newline\" >','<span class=\"sensenum\" >','<span class=\"LEXUNIT\" >','<span class=\"DEF\" >','<span class=\"EXAMPLE\" >','<span class=\"BASE\" >','<span class=\"INFLX\" >','<span class=\"INFLX\" >','<span class=\"Sense\">','<span class=\"Sense_newline\" >','<span class=\"sensenum\" >','<span class=\"LEXUNIT\" >','<span class=\"DEF\" >','<span class=\"Tail\" >','<span class=\"Crossref\" >','<span class=\"Ref\" >','<span class=\"REFLEX\" >','<span class=\"REFHWD\" >','<span class=\"REFSENSENUM\" >','<span class=\"refsensenum\" >','<span class=\"refsensenum\" >','<span class=\"Ref\" >','<span class=\"REFHWD\" >','<span class=\"Ref\" >','<span class=\"REFLEX\" >','<span class=\"REFHWD\" >','<span class=\"REFHOMNUM\" >','<span class=\"REFSENSENUM\" >','<span class=\"refsensenum\" >','<span class=\"refsensenum\" >','<span class=\"Ref\" >','<span class=\"REFLEX\" >','<span class=\"REFHWD\" >','<span class=\"REFSENSENUM\" >','<span class=\"refsensenum\" >','<span class=\"refsensenum\" >','<span class=\"Ref\" >','<span class=\"REFLEX\" >','<span class=\"REFHWD\" >','<span class=\"REFHOMNUM\" >','<span class=\"REFSENSENUM\" >','<span class=\"refsensenum\" >','<span class=\"refsensenum\" >','<span class=\"Ref\" >','<span class=\"REFLEX\" >','<span class=\"REFHWD\" >','<span class=\"REFHOMNUM\" >','<span class=\"REFSENSENUM\" >','<span class=\"refsensenum\" >','<span class=\"refsensenum\" >','<span class=\"Ref\" >','<span class=\"REFLEX\" >','<span class=\"REFHWD\" >','<span class=\"REFHOMNUM\" >','<span class=\"REFSENSENUM\" >','<span class=\"refsensenum\" >','<span class=\"refsensenum\" >','<span class=\"Ref\" >','<span class=\"REFLEX\" >','<span class=\"REFHWD\" >','<span class=\"REFHOMNUM\" >','<span class=\"REFSENSENUM\" >','<span class=\"refsensenum\" >','<span class=\"refsensenum\" >','<span class=\"Ref\" >','<span class=\"REFLEX\" >','<span class=\"REFHWD\" >','<span class=\"REFHOMNUM\" >','<span class=\"REFSENSENUM\" >','<span class=\"refsensenum\" >','<span class=\"refsensenum\" >','<span class=\"Ref\" >','<span class=\"REFLEX\" >','<span class=\"REFHWD\" >','<span class=\"REFHOMNUM\" >','<span class=\"REFSENSENUM\" >','<span class=\"refsensenum\" >','<span class=\"refsensenum\" >','<span class=\"Ref\" >','<span class=\"REFLEX\" >','<span class=\"REFHWD\" >','<span class=\"REFHOMNUM\" >','<span class=\"REFSENSENUM\" >','<span class=\"refsensenum\" >','<span class=\"refsensenum\" >','<span class=\"Ref\" >','<span class=\"REFLEX\" >','<span class=\"REFHWD\" >','<span class=\"REFHOMNUM\" >','<span class=\"REFSENSENUM\" >','<span class=\"refsensenum\" >','<span class=\"refsensenum\" >','<span class=\"ColloBox\" >','<span class=\"heading\" >','<span class=\"Section\" >','<span class=\"SECHEADING\" >','<span class=\"Collocate\">','<span class=\"Collocate_newline\" >','<span class=\"COLLOC\">','<span class=\"COLLOC_collo\" >','<span class=\"COLLEXA\" >','<span class=\"BASE\" >','<span class=\"INFLX\" >','<span class=\"INFLX\" >','<span class=\"INFLX\" >','<span class=\"Collocate\">','<span class=\"Collocate_newline\" >','<span class=\"COLLOC\">','<span class=\"COLLOC_collo\" >','<span class=\"COLLGLOSS\" >','<span class=\"COLLEXA\" >','<span class=\"BASE\" >','<span class=\"INFLX\" >','<span class=\"Collocate\">','<span class=\"Collocate_newline\" >','<span class=\"COLLOC\">','<span class=\"COLLOC_collo\" >','<span class=\"COLLEXA\" >','<span class=\"BASE\" >','<span class=\"INFLX\" >','<span class=\"Collocate\">','<span class=\"Collocate_newline\" >','<span class=\"COLLOC\">','<span class=\"COLLOC_collo\" >','<span class=\"COLLEXA\" >','<span class=\"BASE\" >','<span class=\"INFLX\" >','<span class=\"Collocate\">','<span class=\"Collocate_newline\" >','<span class=\"COLLOC\">','<span class=\"COLLOC_collo\" >','<span class=\"COLLEXA\" >','<span class=\"BASE\" >','<span class=\"INFLX\" >','<span class=\"INFLX\" >','<span class=\"Collocate\">','<span class=\"Collocate_newline\" >','<span class=\"COLLOC\">','<span class=\"COLLOC_collo\" >','<span class=\"COLLGLOSS\" >','<span class=\"COLLEXA\" >','<span class=\"BASE\" >','<span class=\"INFLX\" >','<span class=\"INFLX\" >','<span class=\"Collocate\">','<span class=\"Collocate_newline\" >','<span class=\"COLLOC\">','<span class=\"COLLOC_collo\" >','<span class=\"COLLEXA\" >','<span class=\"BASE\" >','<span class=\"INFLX\" >','<span class=\"Collocate\">','<span class=\"Collocate_newline\" >','<span class=\"COLLOC\">','<span class=\"COLLOC_collo\" >','<span class=\"COLLEXA\" >','<span class=\"BASE\" >','<span class=\"INFLX\" >','<span class=\"INFLX\" >','<span class=\"Collocate\">','<span class=\"Collocate_newline\" >','<span class=\"COLLOC\">','<span class=\"COLLOC_collo\" >','<span class=\"COLLEXA\" >','<span class=\"BASE\" >','<span class=\"INFLX\" >','<span class=\"INFLX\" >','<span class=\"Collocate\">','<span class=\"Collocate_newline\" >','<span class=\"COLLOC\">','<span class=\"COLLOC_collo\" >','<span class=\"COLLGLOSS\" >','<span class=\"COLLEXA\" >','<span class=\"BASE\" >','<span class=\"INFLX\" >','<span class=\"Collocate\">','<span class=\"Collocate_newline\" >','<span class=\"COLLOC\">','<span class=\"COLLOC_collo\" >','<span class=\"COLLGLOSS\" >','<span class=\"COLLEXA\" >','<span class=\"BASE\" >','<span class=\"INFLX\" >','<span class=\"INFLX\" >','<span class=\"Collocate\">','<span class=\"Collocate_newline\" >','<span class=\"COLLOC\">','<span class=\"COLLOC_collo\" >','<span class=\"COLLGLOSS\" >','<span class=\"COLLEXA\" >','<span class=\"BASE\" >','<span class=\"INFLX\" >','<span class=\"Section\" >','<span class=\"SECHEADING\" >','<span class=\"Collocate\">','<span class=\"Collocate_newline\" >','<span class=\"COLLOC\">','<span class=\"COLLOC_collo\" >','<span class=\"COLLEXA\" >','<span class=\"BASE\" >','<span class=\"INFLX\" >','<span class=\"INFLX\" >','<span class=\"Collocate\">','<span class=\"Collocate_newline\" >','<span class=\"COLLOC\">','<span class=\"COLLOC_collo\" >','<span class=\"COLLEXA\" >','<span class=\"BASE\" >','<span class=\"Collocate\">','<span class=\"Collocate_newline\" >','<span class=\"COLLOC\">','<span class=\"COLLOC_collo\" >','<span class=\"COLLEXA\" >','<span class=\"BASE\" >','<span class=\"Collocate\">','<span class=\"Collocate_newline\" >','<span class=\"COLLOC\">','<span class=\"COLLOC_collo\" >','<span class=\"COLLEXA\" >','<span class=\"BASE\" >','<span class=\"Collocate\">','<span class=\"Collocate_newline\" >','<span class=\"COLLOC\">','<span class=\"COLLOC_collo\" >','<span class=\"COLLEXA\" >','<span class=\"BASE\" >','<span class=\"INFLX\" >','<span class=\"INFLX\" >','<span class=\"Collocate\">','<span class=\"Collocate_newline\" >','<span class=\"COLLOC\">','<span class=\"COLLOC_collo\" >','<span class=\"COLLGLOSS\" >','<span class=\"COLLEXA\" >','<span class=\"BASE\" >','<span class=\"INFLX\" >','<span class=\"INFLX\" >','<span class=\"Collocate\">','<span class=\"Collocate_newline\" >','<span class=\"COLLOC\">','<span class=\"COLLOC_collo\" >','<span class=\"COLLGLOSS\" >','<span class=\"COLLEXA\" >','<span class=\"BASE\" >','<span class=\"INFLX\" >','<span class=\"INFLX\" >','<span class=\"INFLX\" >','<span class=\"Collocate\">','<span class=\"Collocate_newline\" >','<span class=\"COLLOC\">','<span class=\"COLLOC_collo\" >','<span class=\"COLLGLOSS\" >','<span class=\"COLLEXA\" >','<span class=\"BASE\" >','<span class=\"INFLX\" >','<span class=\"ThesBox\" >','<span class=\"heading\" >','<span class=\"Section\" >','<span class=\"Exponent\" >','<span class=\"EXP\" >','<span class=\"DEF\" >','<span class=\"THESEXA\" >','<span class=\"BASE\" >','<span class=\"INFLX\" >','<span class=\"THESEXA\" >','<span class=\"BASE\" >','<span class=\"INFLX\" >','<span class=\"Exponent\" >','<span class=\"EXP\" >','<span class=\"DEF\" >','<span class=\"THESEXA\" >','<span class=\"BASE\" >','<span class=\"INFLX\" >','<span class=\"THESEXA\" >','<span class=\"BASE\" >','<span class=\"Exponent\" >','<span class=\"EXP\" >','<span class=\"DEF\" >','<span class=\"THESEXA\" >','<span class=\"BASE\" >','<span class=\"INFLX\" >','<span class=\"INFLX\" >','<span class=\"THESEXA\" >','<span class=\"BASE\" >','<span class=\"INFLX\" >','<span class=\"Exponent\" >','<span class=\"EXP\" >','<span class=\"DEF\" >','<span class=\"THESEXA\" >','<span class=\"BASE\" >','<span class=\"THESEXA\" >','<span class=\"BASE\" >','<span class=\"INFLX\" >','<span class=\"INFLX\" >','<span class=\"INFLX\" >','<span class=\"THESEXA\" >','<span class=\"BASE\" >','<span class=\"Exponent\" >','<span class=\"EXP\" >','<span class=\"DEF\" >','<span class=\"THESEXA\" >','<span class=\"BASE\" >','<span class=\"INFLX\" >','<span class=\"INFLX\" >','<span class=\"THESEXA\" >','<span class=\"BASE\" >','<span class=\"INFLX\" >','<span class=\"Exponent\" >','<span class=\"EXP\" >','<span class=\"PronCodes\" >','<span class=\"PRON\" >','<span class=\"DEF\" >','<span class=\"THESEXA\" >','<span class=\"BASE\" >','<span class=\"INFLX\" >','<span class=\"INFLX\" >','<span class=\"INFLX\" >','<span class=\"THESEXA\" >','<span class=\"BASE\" >','<span class=\"INFLX\" >','<span class=\"INFLX\" >','<span class=\"Exponent\" >','<span class=\"EXP\" >','<span class=\"PronCodes\" >','<span class=\"PRON\" >','<span class=\"DEF\" >','<span class=\"THESEXA\" >','<span class=\"BASE\" >','<span class=\"INFLX\" >','<span class=\"INFLX\" >','<span class=\"INFLX\" >','<span class=\"INFLX\" >','<span class=\"Exponent\" >','<span class=\"EXP\" >','<span class=\"PronCodes\" >','<span class=\"PRON\" >','<span class=\"AMEVARPRON\" >','<span class=\"DEF\" >','<span class=\"THESEXA\" >','<span class=\"BASE\" >','<span class=\"INFLX\" >','<span class=\"INFLX\" >','<span class=\"INFLX\" >','<span class=\"THESEXA\" >','<span class=\"BASE\" >','<span class=\"INFLX\" >','<span class=\"Exponent\" >','<span class=\"EXP\" >','<span class=\"DEF\" >','<span class=\"THESEXA\" >','<span class=\"BASE\" >','<span class=\"INFLX\" >','<span class=\"THESEXA\" >','<span class=\"BASE\" >','<span class=\"THESEXA\" >','<span class=\"BASE\" >','<span class=\"Exponent\" >','<span class=\"EXP\" >','<span class=\"DEF\" >','<span class=\"THESEXA\" >','<span class=\"BASE\" >','<span class=\"INFLX\" >','<span class=\"INFLX\" >','<span class=\"THESEXA\" >','<span class=\"BASE\" >','<span class=\"INFLX\" >']"
   ]
  },
  {
   "cell_type": "code",
   "execution_count": 13,
   "metadata": {
    "collapsed": true
   },
   "outputs": [],
   "source": [
    "b = np.asarray(b)"
   ]
  },
  {
   "cell_type": "code",
   "execution_count": 14,
   "metadata": {
    "collapsed": false,
    "scrolled": true
   },
   "outputs": [
    {
     "data": {
      "text/plain": [
       "1116"
      ]
     },
     "execution_count": 14,
     "metadata": {},
     "output_type": "execute_result"
    }
   ],
   "source": [
    "b.size"
   ]
  },
  {
   "cell_type": "code",
   "execution_count": 18,
   "metadata": {
    "collapsed": false
   },
   "outputs": [],
   "source": [
    "b_u = np.unique(b)"
   ]
  },
  {
   "cell_type": "code",
   "execution_count": 19,
   "metadata": {
    "collapsed": false
   },
   "outputs": [
    {
     "data": {
      "text/plain": [
       "array(['<span class=\"ACTIV\" >', '<span class=\"ACTV\">',\n",
       "       '<span class=\"ACTVC\">', '<span class=\"AMEVARPRON\" >',\n",
       "       '<span class=\"BASE\" >', '<span class=\"COLCATION\" >',\n",
       "       '<span class=\"COLLEXA\" >', '<span class=\"COLLGLOSS\" >',\n",
       "       '<span class=\"COLLO\" >', '<span class=\"COLLOC\">',\n",
       "       '<span class=\"COLLOC_collo\" >', '<span class=\"COLLOINEXA\" >',\n",
       "       '<span class=\"ColloBox\" >', '<span class=\"ColloExa\" >',\n",
       "       '<span class=\"Collocate\">', '<span class=\"Collocate_newline\" >',\n",
       "       '<span class=\"Crossref\" >', '<span class=\"DEF\" >',\n",
       "       '<span class=\"EAHead\" >', '<span class=\"EXAMP\" >',\n",
       "       '<span class=\"EXAMPLE\" >', '<span class=\"EXP\" >',\n",
       "       '<span class=\"EntryAsset\" >', '<span class=\"EntryAssets\" >',\n",
       "       '<span class=\"Exponent\" >', '<span class=\"FREQ\" >',\n",
       "       '<span class=\"GEO\" >', '<span class=\"GLOSS\" >',\n",
       "       '<span class=\"GRAM\" >', '<span class=\"GramExa\" >',\n",
       "       '<span class=\"HOMNUM\">', '<span class=\"HOMNUM_keyword\" >',\n",
       "       '<span class=\"HWD\" >', '<span class=\"HYPHENATION\">',\n",
       "       '<span class=\"HYPHENATION_keyword\" >', '<span class=\"Head\" >',\n",
       "       '<span class=\"INFLX\" >', '<span class=\"LANG\" >',\n",
       "       '<span class=\"LEXUNIT\" >', '<span class=\"LEXVAR\" >',\n",
       "       '<span class=\"LINKWORD\" >', '<span class=\"Link\" >',\n",
       "       '<span class=\"Menu\" >', '<span class=\"PHR\" >',\n",
       "       '<span class=\"POS\" >', '<span class=\"PRON\" >',\n",
       "       '<span class=\"PROPFORM\" >', '<span class=\"PROPFORMPREP\" >',\n",
       "       '<span class=\"PronCodes\" >', '<span class=\"REFHOMNUM\" >',\n",
       "       '<span class=\"REFHWD\" >', '<span class=\"REFLEX\" >',\n",
       "       '<span class=\"REFSENSENUM\" >', '<span class=\"REGISTERLAB\" >',\n",
       "       '<span class=\"Ref\" >', '<span class=\"Refs\" >',\n",
       "       '<span class=\"SECHEADING\" >', '<span class=\"SENSE\" >',\n",
       "       '<span class=\"SE_EntryAssets\" >', '<span class=\"SIGNPOST\" >',\n",
       "       '<span class=\"Section\" >', '<span class=\"Sense\">',\n",
       "       '<span class=\"Sense_newline\" >', '<span class=\"Subsense\" >',\n",
       "       '<span class=\"THESEXA\" >', '<span class=\"THESR\">',\n",
       "       '<span class=\"THESRC\">', '<span class=\"Tail\" >',\n",
       "       '<span class=\"ThesBox\" >', '<span class=\"Variant\" >',\n",
       "       '<span class=\"WFAM\">', '<span class=\"etymology\" >',\n",
       "       '<span class=\"heading\" >', '<span class=\"hom\" >',\n",
       "       '<span class=\"hwd\" >', '<span class=\"lead\" >',\n",
       "       '<span class=\"menu-body\" >', '<span class=\"menu-head\" >',\n",
       "       '<span class=\"pos\" >', '<span class=\"refsensenum\" >',\n",
       "       '<span class=\"sensenum\" >'], \n",
       "      dtype='<U35')"
      ]
     },
     "execution_count": 19,
     "metadata": {},
     "output_type": "execute_result"
    }
   ],
   "source": [
    "b_u"
   ]
  },
  {
   "cell_type": "code",
   "execution_count": null,
   "metadata": {
    "collapsed": true
   },
   "outputs": [],
   "source": []
  }
 ],
 "metadata": {
  "kernelspec": {
   "display_name": "Python 3",
   "language": "python",
   "name": "python3"
  },
  "language_info": {
   "codemirror_mode": {
    "name": "ipython",
    "version": 3
   },
   "file_extension": ".py",
   "mimetype": "text/x-python",
   "name": "python",
   "nbconvert_exporter": "python",
   "pygments_lexer": "ipython3",
   "version": "3.5.2"
  }
 },
 "nbformat": 4,
 "nbformat_minor": 1
}
