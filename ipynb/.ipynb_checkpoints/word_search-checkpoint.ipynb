{
 "cells": [
  {
   "cell_type": "code",
   "execution_count": 1,
   "metadata": {
    "collapsed": true
   },
   "outputs": [],
   "source": [
    "import pandas as pd\n",
    "import re"
   ]
  },
  {
   "cell_type": "code",
   "execution_count": null,
   "metadata": {
    "collapsed": false
   },
   "outputs": [],
   "source": [
    "with open('En-Ch CollinsCOBUILD.txt') as myfile:\n",
    "    data = myfile.read()"
   ]
  },
  {
   "cell_type": "code",
   "execution_count": null,
   "metadata": {
    "collapsed": false
   },
   "outputs": [],
   "source": [
    "# p = re.compile(r'==')\n",
    "#p = re.compile(r'\\n')\n",
    "p = re.compile(r'\\n\\xa0\\xa0')\n",
    "data1 = p.sub(r'==', data)\n",
    "p1 = re.compile(r'\\n')\n",
    "d = p1.split(data1)\n",
    "dic = pd.DataFrame(d, columns=['Meaning'])"
   ]
  },
  {
   "cell_type": "code",
   "execution_count": null,
   "metadata": {
    "collapsed": true
   },
   "outputs": [],
   "source": [
    "pattern = 'walk.*\\soff\\s'"
   ]
  },
  {
   "cell_type": "code",
   "execution_count": null,
   "metadata": {
    "collapsed": false
   },
   "outputs": [],
   "source": [
    "df_search = dic[dic['Meaning'].str.contains(pattern, na=False)]"
   ]
  },
  {
   "cell_type": "code",
   "execution_count": null,
   "metadata": {
    "collapsed": false
   },
   "outputs": [],
   "source": [
    "lst = list(df_search['Meaning'].values)\n",
    "searched = '\\n\\n'.join(lst)"
   ]
  },
  {
   "cell_type": "code",
   "execution_count": null,
   "metadata": {
    "collapsed": false
   },
   "outputs": [],
   "source": [
    "p2 = re.compile(r'\\xa0\\xa0\\xa0')\n",
    "got = p2.sub(r'\\n', searched)"
   ]
  },
  {
   "cell_type": "code",
   "execution_count": 2,
   "metadata": {
    "collapsed": false
   },
   "outputs": [],
   "source": [
    "with open(\"../En-Ch New Oxford Dictionary.txt\") as new:\n",
    "    new_data = new.read()"
   ]
  },
  {
   "cell_type": "code",
   "execution_count": null,
   "metadata": {
    "collapsed": true
   },
   "outputs": [],
   "source": [
    "p3 = re.compile(r'\\n\\n\\n\\n————————————\\n')"
   ]
  },
  {
   "cell_type": "code",
   "execution_count": 3,
   "metadata": {
    "collapsed": false
   },
   "outputs": [],
   "source": [
    "p4 = re.compile(r'\\n')"
   ]
  },
  {
   "cell_type": "code",
   "execution_count": 5,
   "metadata": {
    "collapsed": false
   },
   "outputs": [],
   "source": [
    "d = p4.split(new_data)"
   ]
  },
  {
   "cell_type": "code",
   "execution_count": 6,
   "metadata": {
    "collapsed": true
   },
   "outputs": [],
   "source": [
    "dic = pd.DataFrame(d, columns=['Meaning'])"
   ]
  },
  {
   "cell_type": "code",
   "execution_count": 8,
   "metadata": {
    "collapsed": false
   },
   "outputs": [
    {
     "data": {
      "text/html": [
       "<div>\n",
       "<table border=\"1\" class=\"dataframe\">\n",
       "  <thead>\n",
       "    <tr style=\"text-align: right;\">\n",
       "      <th></th>\n",
       "      <th>Meaning</th>\n",
       "    </tr>\n",
       "  </thead>\n",
       "  <tbody>\n",
       "    <tr>\n",
       "      <th>0</th>\n",
       "      <td>﻿————————————</td>\n",
       "    </tr>\n",
       "    <tr>\n",
       "      <th>1</th>\n",
       "      <td>★☆☆   A</td>\n",
       "    </tr>\n",
       "    <tr>\n",
       "      <th>2</th>\n",
       "      <td>/ eI; e/ symb 符号 (Brit) (of roads) major （指公路）...</td>\n",
       "    </tr>\n",
       "    <tr>\n",
       "      <th>3</th>\n",
       "      <td>• the A40 to Oxford 通往牛津的A级40号公路</td>\n",
       "    </tr>\n",
       "    <tr>\n",
       "      <th>4</th>\n",
       "      <td>• an A-road 一条A级公路. Cf 参看 B.</td>\n",
       "    </tr>\n",
       "    <tr>\n",
       "      <th>5</th>\n",
       "      <td></td>\n",
       "    </tr>\n",
       "    <tr>\n",
       "      <th>6</th>\n",
       "      <td></td>\n",
       "    </tr>\n",
       "    <tr>\n",
       "      <th>7</th>\n",
       "      <td></td>\n",
       "    </tr>\n",
       "    <tr>\n",
       "      <th>8</th>\n",
       "      <td>————————————</td>\n",
       "    </tr>\n",
       "    <tr>\n",
       "      <th>9</th>\n",
       "      <td>★☆☆   a-</td>\n",
       "    </tr>\n",
       "    <tr>\n",
       "      <th>10</th>\n",
       "      <td>pref 前缀</td>\n",
       "    </tr>\n",
       "    <tr>\n",
       "      <th>11</th>\n",
       "      <td></td>\n",
       "    </tr>\n",
       "    <tr>\n",
       "      <th>12</th>\n",
       "      <td>(with ns, adjs and advs 与名词﹑ 形容词﹑ 副词结合) not; ...</td>\n",
       "    </tr>\n",
       "    <tr>\n",
       "      <th>13</th>\n",
       "      <td>• atheist * atypical * asexually. →Usage at un...</td>\n",
       "    </tr>\n",
       "    <tr>\n",
       "      <th>14</th>\n",
       "      <td></td>\n",
       "    </tr>\n",
       "    <tr>\n",
       "      <th>15</th>\n",
       "      <td>(with vs forming adjs 与动词结合构成形容词) in the stat...</td>\n",
       "    </tr>\n",
       "    <tr>\n",
       "      <th>16</th>\n",
       "      <td>• awake * asleep * ablaze * adrift.</td>\n",
       "    </tr>\n",
       "    <tr>\n",
       "      <th>17</th>\n",
       "      <td></td>\n",
       "    </tr>\n",
       "    <tr>\n",
       "      <th>18</th>\n",
       "      <td></td>\n",
       "    </tr>\n",
       "    <tr>\n",
       "      <th>19</th>\n",
       "      <td></td>\n",
       "    </tr>\n",
       "    <tr>\n",
       "      <th>20</th>\n",
       "      <td>————————————</td>\n",
       "    </tr>\n",
       "    <tr>\n",
       "      <th>21</th>\n",
       "      <td>★☆☆   A</td>\n",
       "    </tr>\n",
       "    <tr>\n",
       "      <th>22</th>\n",
       "      <td>abbr 缩写 =</td>\n",
       "    </tr>\n",
       "    <tr>\n",
       "      <th>23</th>\n",
       "      <td></td>\n",
       "    </tr>\n",
       "    <tr>\n",
       "      <th>24</th>\n",
       "      <td>ampere(s):</td>\n",
       "    </tr>\n",
       "    <tr>\n",
       "      <th>25</th>\n",
       "      <td>• 13A, eg on a fuse 13安（如标於保险丝上者）.</td>\n",
       "    </tr>\n",
       "    <tr>\n",
       "      <th>26</th>\n",
       "      <td></td>\n",
       "    </tr>\n",
       "    <tr>\n",
       "      <th>27</th>\n",
       "      <td>answer. Cf 参看 Q.</td>\n",
       "    </tr>\n",
       "    <tr>\n",
       "      <th>28</th>\n",
       "      <td></td>\n",
       "    </tr>\n",
       "    <tr>\n",
       "      <th>29</th>\n",
       "      <td>(in academic degrees 在学位方面) Associate of:</td>\n",
       "    </tr>\n",
       "    <tr>\n",
       "      <th>...</th>\n",
       "      <td>...</td>\n",
       "    </tr>\n",
       "    <tr>\n",
       "      <th>170</th>\n",
       "      <td>★☆☆   abandon</td>\n",
       "    </tr>\n",
       "    <tr>\n",
       "      <th>171</th>\n",
       "      <td>/ E5bAndEn; E`bAndEn/ v</td>\n",
       "    </tr>\n",
       "    <tr>\n",
       "      <th>172</th>\n",
       "      <td></td>\n",
       "    </tr>\n",
       "    <tr>\n",
       "      <th>173</th>\n",
       "      <td>(a) [Tn] go away from (a person or thing or p...</td>\n",
       "    </tr>\n",
       "    <tr>\n",
       "      <th>174</th>\n",
       "      <td>• a baby abandoned by its parents 被父母遗弃的婴儿</td>\n",
       "    </tr>\n",
       "    <tr>\n",
       "      <th>175</th>\n",
       "      <td>• an abandoned car, dwelling, fort, village 被抛...</td>\n",
       "    </tr>\n",
       "    <tr>\n",
       "      <th>176</th>\n",
       "      <td>• give orders to abandon ship, ie to leave a s...</td>\n",
       "    </tr>\n",
       "    <tr>\n",
       "      <th>177</th>\n",
       "      <td>(b)  [Tn, Dn.pr] ~ sth/sb (to sb) leave sth/sb...</td>\n",
       "    </tr>\n",
       "    <tr>\n",
       "      <th>178</th>\n",
       "      <td>• They abandoned their lands to the invading f...</td>\n",
       "    </tr>\n",
       "    <tr>\n",
       "      <th>179</th>\n",
       "      <td></td>\n",
       "    </tr>\n",
       "    <tr>\n",
       "      <th>180</th>\n",
       "      <td>[Tn] give up completely (esp sth begun) 完全放弃（...</td>\n",
       "    </tr>\n",
       "    <tr>\n",
       "      <th>181</th>\n",
       "      <td>• abandon a project, plan, scheme, etc 放弃一项方案﹑...</td>\n",
       "    </tr>\n",
       "    <tr>\n",
       "      <th>182</th>\n",
       "      <td>• urge people who smoke to abandon the habit 敦...</td>\n",
       "    </tr>\n",
       "    <tr>\n",
       "      <th>183</th>\n",
       "      <td>• He abandoned all hope, ie stopped hoping. 他放...</td>\n",
       "    </tr>\n",
       "    <tr>\n",
       "      <th>184</th>\n",
       "      <td>• The match was abandoned because of bad weath...</td>\n",
       "    </tr>\n",
       "    <tr>\n",
       "      <th>185</th>\n",
       "      <td></td>\n",
       "    </tr>\n",
       "    <tr>\n",
       "      <th>186</th>\n",
       "      <td>[Tn.pr] ~ oneself to sth (fml 文) yield comple...</td>\n",
       "    </tr>\n",
       "    <tr>\n",
       "      <th>187</th>\n",
       "      <td>• He abandoned himself to despair. 他陷入绝望中.</td>\n",
       "    </tr>\n",
       "    <tr>\n",
       "      <th>188</th>\n",
       "      <td></td>\n",
       "    </tr>\n",
       "    <tr>\n",
       "      <th>189</th>\n",
       "      <td>■ abandon (also abandonment) n [U] freedom fro...</td>\n",
       "    </tr>\n",
       "    <tr>\n",
       "      <th>190</th>\n",
       "      <td>• dance with wild/gay abandon 狂放地[尽情地]跳舞.</td>\n",
       "    </tr>\n",
       "    <tr>\n",
       "      <th>191</th>\n",
       "      <td>abandoned adj [usu attrib 通常作定语] (of people o...</td>\n",
       "    </tr>\n",
       "    <tr>\n",
       "      <th>192</th>\n",
       "      <td>abandonment n [U]</td>\n",
       "    </tr>\n",
       "    <tr>\n",
       "      <th>193</th>\n",
       "      <td>1. abandoning 遗弃; 抛弃; 离弃; 放弃; 舍弃:</td>\n",
       "    </tr>\n",
       "    <tr>\n",
       "      <th>194</th>\n",
       "      <td>• Her abandonment of the idea upset him. 她放弃了这...</td>\n",
       "    </tr>\n",
       "    <tr>\n",
       "      <th>195</th>\n",
       "      <td>2. = abandon n.</td>\n",
       "    </tr>\n",
       "    <tr>\n",
       "      <th>196</th>\n",
       "      <td></td>\n",
       "    </tr>\n",
       "    <tr>\n",
       "      <th>197</th>\n",
       "      <td></td>\n",
       "    </tr>\n",
       "    <tr>\n",
       "      <th>198</th>\n",
       "      <td></td>\n",
       "    </tr>\n",
       "    <tr>\n",
       "      <th>199</th>\n",
       "      <td>————————————</td>\n",
       "    </tr>\n",
       "  </tbody>\n",
       "</table>\n",
       "<p>200 rows × 1 columns</p>\n",
       "</div>"
      ],
      "text/plain": [
       "                                               Meaning\n",
       "0                                        ﻿————————————\n",
       "1                                              ★☆☆   A\n",
       "2    / eI; e/ symb 符号 (Brit) (of roads) major （指公路）...\n",
       "3                    • the A40 to Oxford 通往牛津的A级40号公路 \n",
       "4                         • an A-road 一条A级公路. Cf 参看 B.\n",
       "5                                                     \n",
       "6                                                     \n",
       "7                                                     \n",
       "8                                         ————————————\n",
       "9                                             ★☆☆   a-\n",
       "10                                            pref 前缀 \n",
       "11                                                    \n",
       "12    (with ns, adjs and advs 与名词﹑ 形容词﹑ 副词结合) not; ...\n",
       "13   • atheist * atypical * asexually. →Usage at un...\n",
       "14                                                    \n",
       "15    (with vs forming adjs 与动词结合构成形容词) in the stat...\n",
       "16                 • awake * asleep * ablaze * adrift.\n",
       "17                                                    \n",
       "18                                                    \n",
       "19                                                    \n",
       "20                                        ————————————\n",
       "21                                             ★☆☆   A\n",
       "22                                          abbr 缩写 = \n",
       "23                                                    \n",
       "24                                         ampere(s): \n",
       "25                 • 13A, eg on a fuse 13安（如标於保险丝上者）. \n",
       "26                                                    \n",
       "27                                   answer. Cf 参看 Q. \n",
       "28                                                    \n",
       "29          (in academic degrees 在学位方面) Associate of: \n",
       "..                                                 ...\n",
       "170                                      ★☆☆   abandon\n",
       "171                           / E5bAndEn; E`bAndEn/ v \n",
       "172                                                   \n",
       "173   (a) [Tn] go away from (a person or thing or p...\n",
       "174        • a baby abandoned by its parents 被父母遗弃的婴儿 \n",
       "175  • an abandoned car, dwelling, fort, village 被抛...\n",
       "176  • give orders to abandon ship, ie to leave a s...\n",
       "177  (b)  [Tn, Dn.pr] ~ sth/sb (to sb) leave sth/sb...\n",
       "178  • They abandoned their lands to the invading f...\n",
       "179                                                   \n",
       "180   [Tn] give up completely (esp sth begun) 完全放弃（...\n",
       "181  • abandon a project, plan, scheme, etc 放弃一项方案﹑...\n",
       "182  • urge people who smoke to abandon the habit 敦...\n",
       "183  • He abandoned all hope, ie stopped hoping. 他放...\n",
       "184  • The match was abandoned because of bad weath...\n",
       "185                                                   \n",
       "186   [Tn.pr] ~ oneself to sth (fml 文) yield comple...\n",
       "187         • He abandoned himself to despair. 他陷入绝望中.\n",
       "188                                                   \n",
       "189  ■ abandon (also abandonment) n [U] freedom fro...\n",
       "190          • dance with wild/gay abandon 狂放地[尽情地]跳舞.\n",
       "191   abandoned adj [usu attrib 通常作定语] (of people o...\n",
       "192                                 abandonment n [U] \n",
       "193                 1. abandoning 遗弃; 抛弃; 离弃; 放弃; 舍弃: \n",
       "194  • Her abandonment of the idea upset him. 她放弃了这...\n",
       "195                                    2. = abandon n.\n",
       "196                                                   \n",
       "197                                                   \n",
       "198                                                   \n",
       "199                                       ————————————\n",
       "\n",
       "[200 rows x 1 columns]"
      ]
     },
     "execution_count": 8,
     "metadata": {},
     "output_type": "execute_result"
    }
   ],
   "source": [
    "dic[:200]"
   ]
  },
  {
   "cell_type": "code",
   "execution_count": null,
   "metadata": {
    "collapsed": true
   },
   "outputs": [],
   "source": []
  }
 ],
 "metadata": {
  "kernelspec": {
   "display_name": "Python 3",
   "language": "python",
   "name": "python3"
  },
  "language_info": {
   "codemirror_mode": {
    "name": "ipython",
    "version": 3
   },
   "file_extension": ".py",
   "mimetype": "text/x-python",
   "name": "python",
   "nbconvert_exporter": "python",
   "pygments_lexer": "ipython3",
   "version": "3.5.2"
  }
 },
 "nbformat": 4,
 "nbformat_minor": 1
}
