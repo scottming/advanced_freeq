{
 "cells": [
  {
   "cell_type": "code",
   "execution_count": null,
   "metadata": {
    "collapsed": true
   },
   "outputs": [],
   "source": [
    "from bs4 import BeautifulSoup"
   ]
  },
  {
   "cell_type": "code",
   "execution_count": null,
   "metadata": {
    "collapsed": true
   },
   "outputs": [],
   "source": [
    "from urllib.request import urlopen"
   ]
  },
  {
   "cell_type": "code",
   "execution_count": null,
   "metadata": {
    "collapsed": false
   },
   "outputs": [],
   "source": [
    "html = '''abroad\\t<link rel=\"stylesheet\" type=\"text/css\" href=\"ldoceAZ.css\"/>\\\\n<a name=\"u2fc098491a42200a.6e2b450a.114ee8912f5.-25ad\"></a><a name=\"u2fc098491a42200a.6e2b450a.114ee8912f5.-25ad\" ><span class=\"SE_EntryAssets\" ><span class=\"EAHead\" ><span class=\"hwd\" >abroad</span><span class=\"pos\" >adverb</span></span><span class=\"EntryAssets\" ><span class=\"EntryAsset\" ><a href=\"bword://_collocation_000087\" ><span class=\"COLCATION\" >Collocations from this entry</span></a></span><span class=\"EntryAsset\" ><a href=\"bword://_collocation_100123\" ><span class=\"COLCATION\" >Collocations from other entries</span></a></span><span class=\"EntryAsset\" ><a href=\"bword://_collocation_200036\" ><span class=\"COLCATION\" >Collocations from the corpus</span></a></span></span><span class=\"EntryAssets\" ><span class=\"EntryAsset\" ><span class=\"Refs\" ><span class=\"ACTVC\">Activator</span><a href=\"bword://_thesaurus_p030-000055838\"><span class=\"ACTV\"> 1</span></a></><a href=\"bword://_thesaurus_p030-000055762\"><span class=\"THESR\"> 2</span></a></><a href=\"bword://_thesaurus_p030-000292815\"><span class=\"THESR\"> 3</span></a></></span></span></span><span class=\"EntryAssets\" ><span class=\"EntryAsset\" ><a href=\"bword://_phrases_00034\" ><span class=\"PHR\" >Phrases from other entries</span></a></span></span><span class=\"EntryAssets\" ><span class=\"EntryAsset\" ><a href=\"bword://_examples_000039\" ><span class=\"EXAMP\" >Other dictionary examples</span></a></span><span class=\"EntryAsset\" ><a href=\"bword://_examples_016848\" ><span class=\"EXAMP\" >Corpus examples</span></a></span></span><span class=\"EntryAssets\" ><span class=\"EntryAsset\" ><span class=\"Refs\" ></></span></span></span><span class=\"EntryAssets\" ><span class=\"EntryAsset\" ></span><span class=\"EntryAsset\" ></span></span><span class=\"EntryAssets\" ><span class=\"EntryAsset\" ><span class=\"Refs\" ></></span></span></span></span><span class=\"Head\" ><span class=\"HWD\" ><span class=\"BASE\" >abroad</span><span class=\"INFLX\" >abroad</span></span><span class=\"HYPHENATION\"><span class=\"HYPHENATION_keyword\" >a‧broad</span></span><span class=\"FREQ\" ><span > </span>S2</span><span class=\"FREQ\" ><span > </span>W3</span><span class=\"PronCodes\" ><span > /</span><span class=\"PRON\" >əˈbrɔːd</span><span class=\"AMEVARPRON\" ><span > $ </span>əˈbrɒːd</span><span >/</span></span><a href=\"sound://GB_abroad0205.spx\" ><img src=\"snd_uk.png\" border=\"0\" ></img></a><a href=\"sound://US_abroad.spx\" ><img src=\"snd_us.png\" border=\"0\" ></img></a><span class=\"POS\" ><span > </span>adverb</span><span class=\"SE_EntryAssets\" ><span class=\"EntryAssets\" ><span class=\"EntryAsset\" ><span class=\"Refs\" ><span class=\"etymology\" ><span class=\"SENSE\" ><span class=\"lead\" >Date: </span><span class=\"CENTURY\" >1500-1600</span><br/><span class=\"lead\" >Origin: </span><span class=\"ORIGIN\" >abroad</span><span class=\"Z\" > </span><span class=\"TRAN\" ><span class=\"normal\" >‘</span>over a wide area<span class=\"normal\" >’</span></span><span class=\"Z\" > </span><span class=\"CENTURY\" ><span ></span>(13-21 centuries)</span><span class=\"Z\" >, from </span><span class=\"ORIGIN\" ><span ></span>broad</span></span>\\\\n</span></span></span></span></span></span><a name=\"u2fc098491a42200a.6e2b450a.114ee8912f5.-25a3\"></a><span class=\"Sense\"><span class=\"Sense_newline\" ><span class=\"sensenum\" >1</span><span class=\"ACTIV\" >FOREIGN</span><span class=\"ACTIV\" >TRAVEL</span><span class=\"DEF\" >in or to a foreign country</span><span >: </span><a name=\"u2fc098491a42200a.6e2b450a.114ee8912f5.-259f\"></a><span class=\"EXAMPLE\" ><a href=\"sound://p008__000964447.spx\" ><img src=\"snd_sfx.png\" border=\"0\" ></img></a><span class=\"BASE\" >I’ve never <span class=\"COLLOINEXA\" >lived abroad</span> before.</span><span class=\"INFLX\" >live</span></span><a name=\"u2fc098491a42200a.6e2b450a.114ee8912f5.-259d\"></a><span class=\"EXAMPLE\" ><a href=\"sound://p008__000964450.spx\" ><img src=\"snd_sfx.png\" border=\"0\" ></img></a><span class=\"BASE\" >She often <span class=\"COLLOINEXA\" >goes abroad</span> on business.</span><span class=\"INFLX\" >go</span></span><a name=\"u2fc098491a42200a.6e2b450a.114ee8912f5.-259b\"></a><span class=\"EXAMPLE\" ><a href=\"sound://p008__001619131.spx\" ><img src=\"snd_sfx.png\" border=\"0\" ></img></a><span class=\"BASE\" >We never <span class=\"COLLOINEXA\" >travelled abroad</span> when we were kids.</span><span class=\"INFLX\" >travel</span><span class=\"INFLX\" >be</span><span class=\"INFLX\" >kid</span></span><a name=\"u2fc098491a42200a.6e2b450a.114ee8912f5.-2599\"></a><span class=\"EXAMPLE\" ><a href=\"sound://p008__001619135.spx\" ><img src=\"snd_sfx.png\" border=\"0\" ></img></a><span class=\"BASE\" >goods imported <span class=\"COLLOINEXA\" >from abroad</span></span><span class=\"INFLX\" >good</span><span class=\"INFLX\" >import</span></span><a name=\"u2fc098491a42200a.6e2b450a.114ee8912f5.-2597\"></a><span class=\"EXAMPLE\" ><a href=\"sound://ldoce5_exa020004.spx\" ><img src=\"snd_sfx.png\" border=\"0\" ></img></a><span class=\"BASE\" >The books about Harry Potter have been very popular, both <span class=\"COLLOINEXA\" >at home and abroad</span>.</span><span class=\"INFLX\" >book</span><span class=\"INFLX\" >be</span></span></span></span><a name=\"u2fc098491a42200a.6e2b450a.114ee8912f5.-2595\"></a><span class=\"Sense\"><span class=\"Sense_newline\" ><span class=\"sensenum\" >2</span><span class=\"REGISTERLAB\" >formal</span><span class=\"DEF\" ><span > </span>if a feeling, piece of news etc is abroad, a lot of people feel it or know about it</span><span >: </span><a name=\"u2fc098491a42200a.6e2b450a.114ee8912f5.-2592\"></a><span class=\"EXAMPLE\" ><a href=\"sound://p008__000964456.spx\" ><img src=\"snd_sfx.png\" border=\"0\" ></img></a><span class=\"BASE\" >commercial secrets which we did not want to be spread abroad</span><span class=\"INFLX\" >secret</span><span class=\"INFLX\" >do</span></span></span></span></a>\\\\n'''"
   ]
  },
  {
   "cell_type": "code",
   "execution_count": null,
   "metadata": {
    "collapsed": false,
    "scrolled": true
   },
   "outputs": [],
   "source": [
    "bs0bj = BeautifulSoup(html, 'html.parser')"
   ]
  },
  {
   "cell_type": "code",
   "execution_count": null,
   "metadata": {
    "collapsed": false
   },
   "outputs": [],
   "source": [
    "html[:1000]"
   ]
  },
  {
   "cell_type": "code",
   "execution_count": null,
   "metadata": {
    "collapsed": false
   },
   "outputs": [],
   "source": [
    "namelist = bs0bj.find_all('span', {'class':'EntryAsset'}, limit=2)\n",
    "for name in namelist:\n",
    "    print(name.get_text())"
   ]
  },
  {
   "cell_type": "code",
   "execution_count": null,
   "metadata": {
    "collapsed": false
   },
   "outputs": [],
   "source": [
    "namelist = bs0bj.find_all('span', {'class':'pos'})\n",
    "for name in namelist:\n",
    "    print(name.get_text())"
   ]
  },
  {
   "cell_type": "code",
   "execution_count": null,
   "metadata": {
    "collapsed": false
   },
   "outputs": [],
   "source": [
    "namelist = bs0bj.find_all('span', {'class':'BASE'})\n",
    "for name in namelist:\n",
    "    print(name.get_text())"
   ]
  },
  {
   "cell_type": "code",
   "execution_count": null,
   "metadata": {
    "collapsed": false
   },
   "outputs": [],
   "source": [
    "namelist = bs0bj.find_all('span', {'class':'sensenum'})\n",
    "for name in namelist:\n",
    "    print(name.get_text())"
   ]
  },
  {
   "cell_type": "code",
   "execution_count": null,
   "metadata": {
    "collapsed": false
   },
   "outputs": [],
   "source": [
    "namelist = bs0bj.find_all('span', {'class':'REGISTERLAB'})\n",
    "for name in namelist:\n",
    "    print(name.get_text())"
   ]
  },
  {
   "cell_type": "code",
   "execution_count": null,
   "metadata": {
    "collapsed": false
   },
   "outputs": [],
   "source": [
    "namelist = bs0bj.find_all('span', {'class':'DEF'})\n",
    "for name in namelist:\n",
    "    print(name.get_text())"
   ]
  },
  {
   "cell_type": "code",
   "execution_count": null,
   "metadata": {
    "collapsed": false
   },
   "outputs": [],
   "source": [
    "namelist = bs0bj.find_all('span', {'class':'Sense'})\n",
    "for name in namelist:\n",
    "    print('--')\n",
    "    print(name.get_text())"
   ]
  },
  {
   "cell_type": "code",
   "execution_count": null,
   "metadata": {
    "collapsed": false
   },
   "outputs": [],
   "source": [
    "namelist = bs0bj.find_all('span', {'class':'Sense_newline'})\n",
    "for name in namelist:\n",
    "    print(name.get_text())"
   ]
  },
  {
   "cell_type": "code",
   "execution_count": null,
   "metadata": {
    "collapsed": false
   },
   "outputs": [],
   "source": [
    "name.get_text()"
   ]
  },
  {
   "cell_type": "code",
   "execution_count": 1,
   "metadata": {
    "collapsed": false
   },
   "outputs": [],
   "source": [
    "string = ['<span class=\"SE_EntryAssets\" >',\n",
    "'<span class=\"EAHead\" >',\n",
    "'<span class=\"hwd\" >',\n",
    "'<span class=\"pos\" >',\n",
    "'<span class=\"EntryAssets\" >',\n",
    "'<span class=\"EntryAsset\" >',\n",
    "'<span class=\"COLCATION\" >',\n",
    "'<span class=\"EntryAsset\" >',\n",
    "'<span class=\"COLCATION\" >',\n",
    "'<span class=\"EntryAsset\" >',\n",
    "'<span class=\"COLCATION\" >',\n",
    "'<span class=\"EntryAssets\" >',\n",
    "'<span class=\"EntryAsset\" >',\n",
    "'<span class=\"Refs\" >',\n",
    "'<span class=\"ACTVC\">',\n",
    "'<span class=\"ACTV\">',\n",
    "'<span class=\"THESR\">',\n",
    "'<span class=\"THESR\">',\n",
    "'<span class=\"EntryAssets\" >',\n",
    "'<span class=\"EntryAsset\" >',\n",
    "'<span class=\"PHR\" >',\n",
    "'<span class=\"EntryAssets\" >',\n",
    "'<span class=\"EntryAsset\" >',\n",
    "'<span class=\"EXAMP\" >',\n",
    "'<span class=\"EntryAsset\" >',\n",
    "'<span class=\"EXAMP\" >',\n",
    "'<span class=\"EntryAssets\" >',\n",
    "'<span class=\"EntryAsset\" >',\n",
    "'<span class=\"Refs\" >',\n",
    "'<span class=\"EntryAssets\" >',\n",
    "'<span class=\"EntryAsset\" >',\n",
    "'<span class=\"EntryAsset\" >',\n",
    "'<span class=\"EntryAssets\" >',\n",
    "'<span class=\"EntryAsset\" >',\n",
    "'<span class=\"Refs\" >',\n",
    "'<span class=\"Head\" >',\n",
    "'<span class=\"HWD\" >',\n",
    "'<span class=\"BASE\" >',\n",
    "'<span class=\"INFLX\" >',\n",
    "'<span class=\"HYPHENATION\">',\n",
    "'<span class=\"HYPHENATION_keyword\" >',\n",
    "'<span class=\"FREQ\" >',\n",
    "'<span class=\"FREQ\" >',\n",
    "'<span class=\"PronCodes\" >',\n",
    "'<span class=\"PRON\" >',\n",
    "'<span class=\"AMEVARPRON\" >',\n",
    "'<span class=\"POS\" >',\n",
    "'<span class=\"SE_EntryAssets\" >',\n",
    "'<span class=\"EntryAssets\" >',\n",
    "'<span class=\"EntryAsset\" >',\n",
    "'<span class=\"Refs\" >',\n",
    "'<span class=\"etymology\" >',\n",
    "'<span class=\"SENSE\" >',\n",
    "'<span class=\"lead\" >',\n",
    "'<span class=\"CENTURY\" >',\n",
    "'<span class=\"lead\" >',\n",
    "'<span class=\"ORIGIN\" >',\n",
    "'<span class=\"Z\" >',\n",
    "'<span class=\"TRAN\" >',\n",
    "'<span class=\"normal\" >',\n",
    "'<span class=\"normal\" >',\n",
    "'<span class=\"Z\" >',\n",
    "'<span class=\"CENTURY\" >',\n",
    "'<span class=\"Z\" >',\n",
    "'<span class=\"ORIGIN\" >',\n",
    "'<span class=\"Sense\">',\n",
    "'<span class=\"Sense_newline\" >',\n",
    "'<span class=\"sensenum\" >',\n",
    "'<span class=\"ACTIV\" >',\n",
    "'<span class=\"ACTIV\" >',\n",
    "'<span class=\"DEF\" >',\n",
    "'<span class=\"EXAMPLE\" >',\n",
    "'<span class=\"BASE\" >',\n",
    "'<span class=\"COLLOINEXA\" >',\n",
    "'<span class=\"INFLX\" >',\n",
    "'<span class=\"EXAMPLE\" >',\n",
    "'<span class=\"BASE\" >',\n",
    "'<span class=\"COLLOINEXA\" >',\n",
    "'<span class=\"INFLX\" >',\n",
    "'<span class=\"EXAMPLE\" >',\n",
    "'<span class=\"BASE\" >',\n",
    "'<span class=\"COLLOINEXA\" >',\n",
    "'<span class=\"INFLX\" >',\n",
    "'<span class=\"INFLX\" >',\n",
    "'<span class=\"INFLX\" >',\n",
    "'<span class=\"EXAMPLE\" >',\n",
    "'<span class=\"BASE\" >',\n",
    "'<span class=\"COLLOINEXA\" >',\n",
    "'<span class=\"INFLX\" >',\n",
    "'<span class=\"INFLX\" >',\n",
    "'<span class=\"EXAMPLE\" >',\n",
    "'<span class=\"BASE\" >',\n",
    "'<span class=\"COLLOINEXA\" >',\n",
    "'<span class=\"INFLX\" >',\n",
    "'<span class=\"INFLX\" >',\n",
    "'<span class=\"Sense\">',\n",
    "'<span class=\"Sense_newline\" >',\n",
    "'<span class=\"sensenum\" >',\n",
    "'<span class=\"REGISTERLAB\" >',\n",
    "'<span class=\"DEF\" >',\n",
    "'<span class=\"EXAMPLE\" >',\n",
    "'<span class=\"BASE\" >',\n",
    "'<span class=\"INFLX\" >',\n",
    "'<span class=\"INFLX\" >']"
   ]
  },
  {
   "cell_type": "code",
   "execution_count": 3,
   "metadata": {
    "collapsed": false
   },
   "outputs": [
    {
     "data": {
      "text/plain": [
       "104"
      ]
     },
     "execution_count": 3,
     "metadata": {},
     "output_type": "execute_result"
    }
   ],
   "source": [
    "len(string)"
   ]
  },
  {
   "cell_type": "code",
   "execution_count": 4,
   "metadata": {
    "collapsed": true
   },
   "outputs": [],
   "source": [
    "import numpy as np"
   ]
  },
  {
   "cell_type": "code",
   "execution_count": 5,
   "metadata": {
    "collapsed": true
   },
   "outputs": [],
   "source": [
    "a = np.asarray(string)"
   ]
  },
  {
   "cell_type": "code",
   "execution_count": 6,
   "metadata": {
    "collapsed": false
   },
   "outputs": [
    {
     "data": {
      "text/plain": [
       "104"
      ]
     },
     "execution_count": 6,
     "metadata": {},
     "output_type": "execute_result"
    }
   ],
   "source": [
    "a.size"
   ]
  },
  {
   "cell_type": "code",
   "execution_count": 9,
   "metadata": {
    "collapsed": false
   },
   "outputs": [
    {
     "data": {
      "text/plain": [
       "40"
      ]
     },
     "execution_count": 9,
     "metadata": {},
     "output_type": "execute_result"
    }
   ],
   "source": [
    "np.unique(a).size"
   ]
  },
  {
   "cell_type": "code",
   "execution_count": null,
   "metadata": {
    "collapsed": true
   },
   "outputs": [],
   "source": []
  }
 ],
 "metadata": {
  "kernelspec": {
   "display_name": "Python 3",
   "language": "python",
   "name": "python3"
  },
  "language_info": {
   "codemirror_mode": {
    "name": "ipython",
    "version": 3
   },
   "file_extension": ".py",
   "mimetype": "text/x-python",
   "name": "python",
   "nbconvert_exporter": "python",
   "pygments_lexer": "ipython3",
   "version": "3.5.2"
  }
 },
 "nbformat": 4,
 "nbformat_minor": 1
}
