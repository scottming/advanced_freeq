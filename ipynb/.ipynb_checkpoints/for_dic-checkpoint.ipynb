{
 "cells": [
  {
   "cell_type": "code",
   "execution_count": 1,
   "metadata": {
    "collapsed": true
   },
   "outputs": [],
   "source": [
    "import re"
   ]
  },
  {
   "cell_type": "code",
   "execution_count": 2,
   "metadata": {
    "collapsed": true
   },
   "outputs": [],
   "source": [
    "import pandas as pd"
   ]
  },
  {
   "cell_type": "code",
   "execution_count": 3,
   "metadata": {
    "collapsed": false
   },
   "outputs": [],
   "source": [
    "with open('/home/scott/Dropbox/E.LearningEnglish/Dictionary/baseMeta/LDOCE5/LDOCE5_1000.html') as ldocet:\n",
    "    data1 = ldocet.read()"
   ]
  },
  {
   "cell_type": "code",
   "execution_count": 4,
   "metadata": {
    "collapsed": true
   },
   "outputs": [],
   "source": [
    "from bs4 import BeautifulSoup"
   ]
  },
  {
   "cell_type": "code",
   "execution_count": 5,
   "metadata": {
    "collapsed": false
   },
   "outputs": [],
   "source": [
    "p = re.compile(r'\\n')\n",
    "d = p.split(data1)\n",
    "\n",
    "df = pd.DataFrame(d)\n",
    "df = df.rename(columns={0: 'meta'})\n",
    "df['word'] = df['meta'].str.split('\\t').str.get(0)"
   ]
  },
  {
   "cell_type": "code",
   "execution_count": 6,
   "metadata": {
    "collapsed": true
   },
   "outputs": [],
   "source": [
    "def search(partern):\n",
    "    word = df[df.iloc[:, 0].str.contains(partern, na=False)]\n",
    "    return word.ix[:, 0].values[0]"
   ]
  },
  {
   "cell_type": "code",
   "execution_count": 180,
   "metadata": {
    "collapsed": false,
    "scrolled": true
   },
   "outputs": [],
   "source": [
    "string = search('^pick ,verb')"
   ]
  },
  {
   "cell_type": "code",
   "execution_count": 222,
   "metadata": {
    "collapsed": true
   },
   "outputs": [],
   "source": [
    "tstString = '''<span class=\"INFLX\" >pick</span></span><span class=\"HYPHENATION\"><span class=\"HYPHENATION_keyword\" >pick</span></span><span class=\"HOMNUM\"><span class=\"HOMNUM_keyword\" >'''"
   ]
  },
  {
   "cell_type": "code",
   "execution_count": 235,
   "metadata": {
    "collapsed": true
   },
   "outputs": [],
   "source": [
    "p = re.compile(r'(<span class=)')\n",
    "m = p.findall(tstString)"
   ]
  },
  {
   "cell_type": "code",
   "execution_count": 236,
   "metadata": {
    "collapsed": false
   },
   "outputs": [
    {
     "name": "stdout",
     "output_type": "stream",
     "text": [
      "['<span class=', '<span class=', '<span class=', '<span class=', '<span class=']\n"
     ]
    }
   ],
   "source": [
    "print(m)"
   ]
  },
  {
   "cell_type": "code",
   "execution_count": 247,
   "metadata": {
    "collapsed": false
   },
   "outputs": [
    {
     "data": {
      "text/plain": [
       "['<span class=\"INFLX\" >pick</span></span>',\n",
       " '<span class=\"HYPHENATION_keyword\" >pick</span></span><span class=\"HOMNUM\"><span class=\"HOMNUM_keyword\" >']"
      ]
     },
     "execution_count": 247,
     "metadata": {},
     "output_type": "execute_result"
    }
   ],
   "source": [
    "tstString.split('<span class=\"HYPHENATION\">', 1)"
   ]
  },
  {
   "cell_type": "code",
   "execution_count": 252,
   "metadata": {
    "collapsed": false
   },
   "outputs": [
    {
     "ename": "SyntaxError",
     "evalue": "invalid character in identifier (<ipython-input-252-046e36e2c30d>, line 3)",
     "output_type": "error",
     "traceback": [
      "\u001b[0;36m  File \u001b[0;32m\"<ipython-input-252-046e36e2c30d>\"\u001b[0;36m, line \u001b[0;32m3\u001b[0m\n\u001b[0;31m    r.sub(\"bar\", s, 1， 1)\u001b[0m\n\u001b[0m                     ^\u001b[0m\n\u001b[0;31mSyntaxError\u001b[0m\u001b[0;31m:\u001b[0m invalid character in identifier\n"
     ]
    }
   ],
   "source": [
    "s = \"baz baz foo baz foo baz foo\"\n",
    "r = re.compile(\"foo\")\n",
    "r.sub(\"bar\", s, 1， fla)"
   ]
  },
  {
   "cell_type": "code",
   "execution_count": 240,
   "metadata": {
    "collapsed": false,
    "scrolled": false
   },
   "outputs": [
    {
     "ename": "SyntaxError",
     "evalue": "invalid character in identifier (<ipython-input-240-9c1dc0c7f3a8>, line 1)",
     "output_type": "error",
     "traceback": [
      "\u001b[0;36m  File \u001b[0;32m\"<ipython-input-240-9c1dc0c7f3a8>\"\u001b[0;36m, line \u001b[0;32m1\u001b[0m\n\u001b[0;31m    d1 = p.split(tstString， 1)\u001b[0m\n\u001b[0m                          ^\u001b[0m\n\u001b[0;31mSyntaxError\u001b[0m\u001b[0;31m:\u001b[0m invalid character in identifier\n"
     ]
    }
   ],
   "source": [
    "d1 = p.split(tstString， 1)"
   ]
  },
  {
   "cell_type": "code",
   "execution_count": 241,
   "metadata": {
    "collapsed": false
   },
   "outputs": [
    {
     "data": {
      "text/plain": [
       "list"
      ]
     },
     "execution_count": 241,
     "metadata": {},
     "output_type": "execute_result"
    }
   ],
   "source": [
    "type(d1)"
   ]
  },
  {
   "cell_type": "code",
   "execution_count": 242,
   "metadata": {
    "collapsed": false
   },
   "outputs": [
    {
     "data": {
      "text/plain": [
       "['',\n",
       " '<span class=',\n",
       " '\"INFLX\" >pick</span></span>',\n",
       " '<span class=',\n",
       " '\"HYPHENATION\">',\n",
       " '<span class=',\n",
       " '\"HYPHENATION_keyword\" >pick</span></span>',\n",
       " '<span class=',\n",
       " '\"HOMNUM\">',\n",
       " '<span class=',\n",
       " '\"HOMNUM_keyword\" >']"
      ]
     },
     "execution_count": 242,
     "metadata": {},
     "output_type": "execute_result"
    }
   ],
   "source": [
    "d1"
   ]
  },
  {
   "cell_type": "code",
   "execution_count": 234,
   "metadata": {
    "collapsed": false
   },
   "outputs": [
    {
     "data": {
      "text/plain": [
       "6"
      ]
     },
     "execution_count": 234,
     "metadata": {},
     "output_type": "execute_result"
    }
   ],
   "source": [
    "len(d1)"
   ]
  },
  {
   "cell_type": "code",
   "execution_count": 185,
   "metadata": {
    "collapsed": true
   },
   "outputs": [
    {
     "data": {
      "text/plain": [
       "'pick ,verb\\t<link rel=\"stylesheet\" type=\"text/css\" href=\"ldoceAZ.css\"/>\\\\n<a name=\"u2fc098491a42200a.6e2b450a.11504344e98.-367b\"></a><a name=\"u2fc098491a42200a.6e2b450a.11504344e98.-367b\" ><span class=\"SE_EntryAssets\" ><span class=\"EAHead\" ><span class=\"hwd\" >pick</span><span class=\"pos\" >verb</span></span><span class=\"EntryAssets\" ><span class=\"EntryAsset\" ><a href=\"bword://_collocation_005080\" ><span class=\"COLCATION\" >Collocations from this entry</span></a></span><span class=\"EntryAsset\" ><a href=\"bword://_collocation_107574\" ><span class=\"COLCATION\" >Collocations from other entries</span></a></span><span class=\"EntryAsset\" ><a href=\"bword://_collocation_209163\" ><span class=\"COLCATION\" >Collocations from the corpus</span></a></span></span><span class=\"EntryAssets\" ><span class=\"EntryAsset\" ><span class=\"Refs\" ><span class=\"THESRC\">Thesaurus</span><a href=\"bword://_thesaurus_u2fc098491a42200a.262cc60a.117ee7c0f66.-6f55\"><span class=\"THESR\"> 1</span></a></></span></span><span class=\"EntryAsset\" ><span class=\"Refs\" ><span class=\"WSETSC\">Word sets</span><a href=\"bword://_wordsets_APM\"><span class=\"WSETS\"> 1</span></a></></span></span></span><span class=\"EntryAssets\" ><span class=\"EntryAsset\" ><a href=\"bword://_phrases_07571\" ><span class=\"PHR\" >Phrases from this entry</span></a></span><span class=\"EntryAsset\" ><a href=\"bword://_phrases_07572\" ><span class=\"PHR\" >Phrases from other entries</span></a></span></span><span class=\"EntryAssets\" ><span class=\"EntryAsset\" ><a href=\"bword://_examples_010820\" ><span class=\"EXAMP\" >Other dictionary examples</span></a></span><span class=\"EntryAsset\" ><a href=\"bword://_examples_038272\" ><span class=\"EXAMP\" >Corpus examples</span></a></span></span><span class=\"EntryAssets\" ><span class=\"EntryAsset\" ><span class=\"Refs\" ></></span></span></span><span class=\"EntryAssets\" ><span class=\"EntryAsset\" ></span><span class=\"EntryAsset\" ></span></span></span><span class=\"Head\" ><span class=\"HWD\" ><span class=\"BASE\" >pick</span><span class=\"INFLX\" >picks</span><span class=\"INFLX\" >picked</span><span class=\"INFLX\" >picking</span><span class=\"INFLX\" >pick</span></span><span class=\"HYPHENATION\"><span class=\"HYPHENATION_keyword\" >pick</span></span><span class=\"HOMNUM\"><span class=\"HOMNUM_keyword\" >1</span></span><span class=\"FREQ\" ><span > </span>S1</span><span class=\"FREQ\" ><span > </span>W1</span><span class=\"PronCodes\" ><span > /</span><span class=\"PRON\" >pɪk</span><span >/</span></span><a href=\"sound://GB_pick_n0205.spx\" ><img src=\"snd_uk.png\" border=\"0\" ></img></a><a href=\"sound://US_pick1.spx\" ><img src=\"snd_us.png\" border=\"0\" ></img></a><span class=\"POS\" ><span > </span>verb</span><span class=\"GRAM\" ><span > [</span>transitive<span >]</span></span><span class=\"SE_EntryAssets\" ><span class=\"EntryAssets\" ><span class=\"EntryAsset\" ><span class=\"Refs\" ><a name=\"0781\"></a><span class=\"Menu\" ><span class=\"menu-head\" ><span class=\"hwd\" >pick</span><span class=\"hom\" >1</span><span class=\"pos\" >verb</span></span><span class=\"menu-body\" ><span class=\"Link\" ><span class=\"sensenum\" >1. </span><a href=\"bword://#u2fc098491a42200a.6e2b450a.11504344e98.-3670\"><span class=\"Ref\" ><span class=\"SIGNPOST\" >choose sth</span></span></a></span>\\\\n<span class=\"Link\" ><span class=\"sensenum\" >2. </span><a href=\"bword://#u2fc098491a42200a.6e2b450a.11504344e98.-3658\"><span class=\"Ref\" ><span class=\"SIGNPOST\" >flowers/fruit etc</span></span></a></span>\\\\n<span class=\"Link\" ><span class=\"sensenum\" >3. </span><a href=\"bword://#u2fc098491a42200a.6e2b450a.11504344e98.-3650\"><span class=\"Ref\" ><span class=\"SIGNPOST\" >remove sth</span></span></a></span>\\\\n<span class=\"Link\" ><span class=\"sensenum\" >4. </span><a href=\"bword://#u2fc098491a42200a.6e2b450a.11504344e98.-3642\"><span class=\"Ref\" ><span class=\"LEXUNIT\" >pick your way through/across/among etc sth</span></span></a></span>\\\\n<span class=\"Link\" ><span class=\"sensenum\" >5. </span><a href=\"bword://#u2fc098491a42200a.6e2b450a.11504344e98.-363b\"><span class=\"Ref\" ><span class=\"LEXUNIT\" >pick your nose</span></span></a></span>\\\\n<span class=\"Link\" ><span class=\"sensenum\" >6. </span><a href=\"bword://#u2fc098491a42200a.6e2b450a.11504344e98.-3635\"><span class=\"Ref\" ><span class=\"LEXUNIT\" >pick your teeth</span></span></a></span>\\\\n<span class=\"Link\" ><span class=\"sensenum\" >7. </span><a href=\"bword://#u2fc098491a42200a.6e2b450a.11504344e98.-3630\"><span class=\"Ref\" ><span class=\"LEXUNIT\" >pick sb’s brains</span></span></a></span>\\\\n<span class=\"Link\" ><span class=\"sensenum\" >8. </span><a href=\"bword://#u2fc098491a42200a.6e2b450a.11504344e98.-362b\"><span class=\"Ref\" ><span class=\"LEXUNIT\" >pick a quarrel/fight (with sb)</span></span></a></span>\\\\n<span class=\"Link\" ><span class=\"sensenum\" >9. </span><a href=\"bword://#u2fc098491a42200a.6e2b450a.11504344e98.-3626\"><span class=\"Ref\" ><span class=\"LEXUNIT\" >pick and choose</span></span></a></span>\\\\n<span class=\"Link\" ><span class=\"sensenum\" >10. </span><a href=\"bword://#u2fc098491a42200a.6e2b450a.11504344e98.-3622\"><span class=\"Ref\" ><span class=\"LEXUNIT\" >pick a lock</span></span></a></span>\\\\n<span class=\"Link\" ><span class=\"sensenum\" >11. </span><a href=\"bword://#u2fc098491a42200a.6e2b450a.11504344e98.-361d\"><span class=\"Ref\" ><span class=\"LEXUNIT\" >pick a hole in sth</span></span></a></span>\\\\n<span class=\"Link\" ><span class=\"sensenum\" >12. </span><a href=\"bword://#u2fc098491a42200a.6e2b450a.11504344e98.-3619\"><span class=\"Ref\" ><span class=\"LEXUNIT\" >pick holes in sth</span></span></a></span>\\\\n<span class=\"Link\" ><span class=\"sensenum\" >13. </span><a href=\"bword://#u2fc098491a42200a.6e2b450a.11504344e98.-3613\"><span class=\"Ref\" ><span class=\"LEXUNIT\" >pick sth clean</span></span></a></span>\\\\n<span class=\"Link\" ><span class=\"sensenum\" >14. </span><a href=\"bword://#u2fc098491a42200a.6e2b450a.11504344e98.-360f\"><span class=\"Ref\" ><span class=\"LEXUNIT\" >pick sb’s pocket</span></span></a></span>\\\\n<span class=\"Link\" ><span class=\"sensenum\" >15. </span><a href=\"bword://#u2fc098491a42200a.6e2b450a.11504344e98.-360a\"><span class=\"Ref\" ><span class=\"LEXUNIT\" >pick a winner</span></span></a></span>\\\\n<span class=\"Link\" ><span class=\"sensenum\" >16. </span><a href=\"bword://#u2fc098491a42200a.6e2b450a.11504344e98.-3605\"><span class=\"Ref\" ><span class=\"LEXUNIT\" >pick sth to pieces</span></span></a></span>\\\\n<span class=\"Link\" ><span class=\"sensenum\" >17. </span><a href=\"bword://#u2fc098491a42200a.6e2b450a.11504344e98.-35ff\"><span class=\"Ref\" ><span class=\"SIGNPOST\" >musical instrument</span></span></a></span>\\\\n<span class=\"Phrvbs\" ><span class=\"Link\" ><a href=\"bword://#u2fc098491a42200a.6e2b450a.11504344e98.-35f2\"><span class=\"Ref\" >pick at sth</span></a></span>\\\\n<span class=\"Link\" ><a href=\"bword://#u2fc098491a42200a.6e2b450a.11504344e98.-35e5\"><span class=\"Ref\" >pick sb/sth ↔ off</span></a></span>\\\\n<span class=\"Link\" ><a href=\"bword://#u2fc098491a42200a.6e2b450a.11504344e98.-35dc\"><span class=\"Ref\" >pick on sb/sth</span></a></span>\\\\n<span class=\"Link\" ><a href=\"bword://#u2fc098491a42200a.6e2b450a.11504344e98.-35cd\"><span class=\"Ref\" >pick sb/sth ↔ out</span></a></span>\\\\n<span class=\"Link\" ><a href=\"bword://#u2fc098491a42200a.6e2b450a.11504344e98.-35ae\"><span class=\"Ref\" >pick over sth</span></a></span>\\\\n<span class=\"Link\" ><a href=\"bword://#u2fc098491a42200a.6e2b450a.11504344e98.-35a5\"><span class=\"Ref\" >pick through sth</span></a></span>\\\\n<span class=\"Link\" ><a href=\"bword://#u2fc098491a42200a.6e2b450a.11504344e98.-359c\"><span class=\"Ref\" >pick up</span></a></span>\\\\n<span class=\"Link\" ><a href=\"bword://#u2fc098491a42200a.6e2b450a.11504344e98.-34f9\"><span class=\"Ref\" >pick up after sb</span></a></span>\\\\n<span class=\"Link\" ><a href=\"bword://#u2fc098491a42200a.6e2b450a.11504344e98.-34f0\"><span class=\"Ref\" >pick up on sth</span></a></span>\\\\n</span></span></span>\\\\n</span></span></span><span class=\"EntryAssets\" ><span class=\"EntryAsset\" ><span class=\"Refs\" ><span class=\"etymology\" ><span class=\"SENSE\" ><span class=\"lead\" >Date: </span><span class=\"CENTURY\" >1200-1300</span><br/><span class=\"lead\" >Origin: </span><span class=\"Z\" >Partly from unrecorded </span><span class=\"LANG\" ><span ></span>Old English</span><span class=\"Z\" > </span><span class=\"ORIGIN\" ><span ></span>pician</span><span class=\"Z\" >; partly from </span><span class=\"LANG\" ><span ></span>Old French</span><span class=\"Z\" > </span><span class=\"ORIGIN\" ><span ></span>piquer</span><span class=\"Z\" > </span><span class=\"TRAN\" ><span class=\"normal\" >‘</span>to prick<span class=\"normal\" >’</span></span></span>\\\\n</span></span></span></span><span class=\"EntryAssets\" ><span class=\"EntryAsset\" ><span class=\"Refs\" ><a href=\"bword://_verbform_3379\" ><span class=\"VF\" >Verb form</span></a></span></span></span></span></span><a name=\"u2fc098491a42200a.6e2b450a.11504344e98.-3670\"></a><span class=\"Sense\"><span class=\"Sense_newline\" ><span class=\"sensenum\" >1</span><span class=\"SIGNPOST\" >choose something</span><span class=\"ACTIV\" >CHOOSE</span><span class=\"DEF\" ><span > </span>to choose a person or thing, for example because they are the best or most suitable</span><span >: </span><a name=\"u2fc098491a42200a.6e2b450a.11504344e98.-366c\"></a><span class=\"EXAMPLE\" ><a href=\"sound://p008__000358227.spx\" ><img src=\"snd_sfx.png\" border=\"0\" ></img></a><span class=\"BASE\" >Students have to pick three courses from a list of 15.</span><span class=\"INFLX\" >student</span><span class=\"INFLX\" >course</span></span><a name=\"u2fc098491a42200a.6e2b450a.11504344e98.-366b\"></a><span class=\"EXAMPLE\" ><a href=\"sound://p008__001566330.spx\" ><img src=\"snd_sfx.png\" border=\"0\" ></img></a><span class=\"BASE\" >I don’t know which colour to pick.</span></span><a name=\"u2fc098491a42200a.6e2b450a.11504344e98.-366a\"></a><span class=\"EXAMPLE\" ><a href=\"sound://p008__000358228.spx\" ><img src=\"snd_sfx.png\" border=\"0\" ></img></a><span class=\"BASE\" >Who’s going to <span class=\"COLLOINEXA\" >pick the team</span> for the match on Saturday?</span><span class=\"INFLX\" >go</span></span><span class=\"GramExa\" ><a name=\"u2fc098491a42200a.6e2b450a.11504344e98.-3667\"></a><span class=\"PROPFORM\" >pick somebody/something for something</span><a name=\"u2fc098491a42200a.6e2b450a.11504344e98.-3666\"></a><span class=\"EXAMPLE\" ><a href=\"sound://p008__001566336.spx\" ><img src=\"snd_sfx.png\" border=\"0\" ></img></a><span class=\"BASE\" >I wasn’t picked for the hockey team.</span><span class=\"INFLX\" >pick</span></span></span><span class=\"GramExa\" ><a name=\"u2fc098491a42200a.6e2b450a.11504344e98.-3664\"></a><span class=\"PROPFORM\" >pick somebody/something as something</span><a name=\"u2fc098491a42200a.6e2b450a.11504344e98.-3663\"></a><span class=\"EXAMPLE\" ><a href=\"sound://p008__001566339.spx\" ><img src=\"snd_sfx.png\" border=\"0\" ></img></a><span class=\"BASE\" >The hotel was picked as the best small hotel in the area.</span><span class=\"INFLX\" >be</span><span class=\"INFLX\" >pick</span><span class=\"INFLX\" >well</span></span></span><span class=\"GramExa\" ><a name=\"u2fc098491a42200a.6e2b450a.11504344e98.-3661\"></a><span class=\"PROPFORM\" >pick somebody to do something</span><a name=\"u2fc098491a42200a.6e2b450a.11504344e98.-3660\"></a><span class=\"EXAMPLE\" ><a href=\"sound://p008__001566342.spx\" ><img src=\"snd_sfx.png\" border=\"0\" ></img></a><span class=\"BASE\" >He was picked to run in the 100 metres.</span><span class=\"INFLX\" >be</span><span class=\"INFLX\" >pick</span><span class=\"INFLX\" >metre</span></span></span><a name=\"u2fc098491a42200a.6e2b450a.11504344e98.-365f\"></a><span class=\"EXAMPLE\" ><a href=\"sound://p008__001566343.spx\" ><img src=\"snd_sfx.png\" border=\"0\" ></img></a><span class=\"BASE\" >Russell spoke slowly, <span class=\"COLLOINEXA\" >picking</span> his <span class=\"COLLOINEXA\" >words</span><span class=\"GLOSS\" ><span > (=</span>choosing what to say<span >)</span></span> very carefully.</span><span class=\"INFLX\" >speak</span><span class=\"INFLX\" >pick</span><span class=\"INFLX\" >word</span></span><span class=\"Crossref\" ><span > →</span><a href=\"bword://picked\"><span class=\"Ref\" ><span > </span><span class=\"REFHWD\" >picked</span></span></a></span></span></span><a name=\"u2fc098491a42200a.6e2b450a.11504344e98.-3658\"></a><span class=\"Sense\"><span class=\"Sense_newline\" ><span class=\"sensenum\" >2</span><span class=\"SIGNPOST\" >flowers/fruit etc</span><span class=\"ACTIV\" >PULL</span><span class=\"DEF\" ><span > </span>to remove a flower, fruit, nut etc from a plant or tree</span><span >: </span><a name=\"u2fc098491a42200a.6e2b450a.11504344e98.-3654\"></a><span class=\"EXAMPLE\" ><a href=\"sound://p008__000358256.spx\" ><img src=\"snd_sfx.png\" border=\"0\" ></img></a><span class=\"BASE\" >We picked some blackberries to eat on the way.</span><span class=\"INFLX\" >pick</span><span class=\"INFLX\" >blackberry</span></span><a name=\"u2fc098491a42200a.6e2b450a.11504344e98.-3653\"></a><span class=\"EXAMPLE\" ><a href=\"sound://p008__000358262.spx\" ><img src=\"snd_sfx.png\" border=\"0\" ></img></a><span class=\"BASE\" >Amy picked a small bunch of wild flowers.</span><span class=\"INFLX\" >pick</span><span class=\"INFLX\" >flower</span></span><a name=\"u2fc098491a42200a.6e2b450a.11504344e98.-3652\"></a><span class=\"EXAMPLE\" ><a href=\"sound://p008__001566350.spx\" ><img src=\"snd_sfx.png\" border=\"0\" ></img></a><span class=\"BASE\" >a dish of <span class=\"COLLOINEXA\" >freshly picked</span> peas</span><span class=\"INFLX\" >pick</span><span class=\"INFLX\" >pea</span></span></span></span><a name=\"u2fc098491a42200a.6e2b450a.11504344e98.-3650\"></a><span class=\"Sense\"><span class=\"Sense_newline\" ><span class=\"sensenum\" >3</span><span class=\"SIGNPOST\" >remove something</span><span class=\"GRAM\" ><span > [</span>always + adverb/preposition<span >]</span></span><span class=\"ACTIV\" >REMOVE</span><span class=\"DEF\" ><span > </span>to remove something carefully from a place, especially something small</span><span class=\"GramExa\" ><a name=\"u2fc098491a42200a.6e2b450a.11504344e98.-364a\"></a><span class=\"PROPFORM\" >pick something from something</span><a name=\"u2fc098491a42200a.6e2b450a.11504344e98.-3649\"></a><span class=\"EXAMPLE\" ><a href=\"sound://p008__001768871.spx\" ><img src=\"snd_sfx.png\" border=\"0\" ></img></a><span class=\"BASE\" >Ahmed picked the melon pips from his teeth.</span><span class=\"INFLX\" >pick</span><span class=\"INFLX\" >pip</span><span class=\"INFLX\" >tooth</span></span></span><span class=\"GramExa\" ><a name=\"u2fc098491a42200a.6e2b450a.11504344e98.-3647\"></a><span class=\"PROPFORM\" >pick something off (something)</span><a name=\"u2fc098491a42200a.6e2b450a.11504344e98.-3646\"></a><span class=\"EXAMPLE\" ><a href=\"sound://p008__001768874.spx\" ><img src=\"snd_sfx.png\" border=\"0\" ></img></a><span class=\"BASE\" >She was nervously picking bits of fluff off her sweater.</span><span class=\"INFLX\" >be</span><span class=\"INFLX\" >pick</span><span class=\"INFLX\" >bit</span></span></span><span class=\"GramExa\" ><a name=\"u2fc098491a42200a.6e2b450a.11504344e98.-3644\"></a><span class=\"PROPFORM\" >pick something out of something</span><a name=\"u2fc098491a42200a.6e2b450a.11504344e98.-3643\"></a><span class=\"EXAMPLE\" ><a href=\"sound://p008__001768877.spx\" ><img src=\"snd_sfx.png\" border=\"0\" ></img></a><span class=\"BASE\" >The goalkeeper spent a lot of his time picking the ball out of the back of the net.</span><span class=\"INFLX\" >spend</span><span class=\"INFLX\" >pick</span></span></span></span></span><a name=\"u2fc098491a42200a.6e2b450a.11504344e98.-3642\"></a><span class=\"Sense\"><span class=\"Sense_newline\" ><span class=\"sensenum\" >4</span><a name=\"u2fc098491a42200a.6e2b450a.11504344e98.-3641\"></a><span class=\"LEXUNIT\" >pick your way through/across/among etc something</span><span class=\"ACTIV\" >MOVE/CHANGE POSITION</span><span class=\"ACTIV\" >CAREFUL</span><span class=\"DEF\" ><span > </span>to walk in a slow careful way, choosing exactly where to put your feet down</span><span >: </span><a name=\"u2fc098491a42200a.6e2b450a.11504344e98.-363d\"></a><span class=\"EXAMPLE\" ><a href=\"sound://p008__000358302.spx\" ><img src=\"snd_sfx.png\" border=\"0\" ></img></a><span class=\"BASE\" >She picked her way between the puddles.</span><span class=\"INFLX\" >pick</span><span class=\"INFLX\" >puddle</span></span><a name=\"u2fc098491a42200a.6e2b450a.11504344e98.-363c\"></a><span class=\"EXAMPLE\" ><a href=\"sound://p008__001566355.spx\" ><img src=\"snd_sfx.png\" border=\"0\" ></img></a><span class=\"BASE\" >He picked his way down the narrow staircase.</span><span class=\"INFLX\" >pick</span></span></span></span><a name=\"u2fc098491a42200a.6e2b450a.11504344e98.-363b\"></a><span class=\"Sense\"><span class=\"Sense_newline\" ><span class=\"sensenum\" >5</span><a name=\"u2fc098491a42200a.6e2b450a.11504344e98.-363a\"></a><span class=\"LEXUNIT\" >pick your nose</span><span class=\"DEF\" ><span > </span>to remove <span class=\"NonDV\" ><span class=\"REFHWD\" >mucus</span></span> from your nose with your finger</span><span >: </span><a name=\"u2fc098491a42200a.6e2b450a.11504344e98.-3636\"></a><span class=\"EXAMPLE\" ><a href=\"sound://p008__001566363.spx\" ><img src=\"snd_sfx.png\" border=\"0\" ></img></a><span class=\"BASE\" >Don’t pick your nose!</span></span></span></span><a name=\"u2fc098491a42200a.6e2b450a.11504344e98.-3635\"></a><span class=\"Sense\"><span class=\"Sense_newline\" ><span class=\"sensenum\" >6</span><a name=\"u2fc098491a42200a.6e2b450a.11504344e98.-3634\"></a><span class=\"LEXUNIT\" >pick your teeth</span><span class=\"DEF\" ><span > </span>to remove bits of food from between your teeth with your finger or a small pointed object</span></span></span><a name=\"u2fc098491a42200a.6e2b450a.11504344e98.-3630\"></a><span class=\"Sense\"><span class=\"Sense_newline\" ><span class=\"sensenum\" >7</span><a name=\"u2fc098491a42200a.6e2b450a.11504344e98.-362f\"></a><span class=\"LEXUNIT\" >pick sb’s brains</span><span class=\"ACTIV\" >ASK FOR STH/ASK SB TO DO STH</span><span class=\"DEF\" ><span > </span>to ask someone who knows a lot about something for information and advice about it</span><span >: </span><a name=\"u2fc098491a42200a.6e2b450a.11504344e98.-362c\"></a><span class=\"EXAMPLE\" ><a href=\"sound://p008__000358317.spx\" ><img src=\"snd_sfx.png\" border=\"0\" ></img></a><span class=\"BASE\" >Have you got a minute? I need to pick your brains.</span><span class=\"INFLX\" >get</span><span class=\"INFLX\" >brain</span></span></span></span><a name=\"u2fc098491a42200a.6e2b450a.11504344e98.-362b\"></a><span class=\"Sense\"><span class=\"Sense_newline\" ><span class=\"sensenum\" >8</span><a name=\"u2fc098491a42200a.6e2b450a.11504344e98.-362a\"></a><span class=\"LEXUNIT\" >pick a quarrel/fight (with somebody)</span><span class=\"ACTIV\" >ARGUE</span><span class=\"DEF\" ><span > </span>to deliberately start a quarrel or fight with someone</span><span >: </span><a name=\"u2fc098491a42200a.6e2b450a.11504344e98.-3627\"></a><span class=\"EXAMPLE\" ><a href=\"sound://p008__000358312.spx\" ><img src=\"snd_sfx.png\" border=\"0\" ></img></a><span class=\"BASE\" >I could see he was trying to pick a fight with me.</span><span class=\"INFLX\" >can</span><span class=\"INFLX\" >be</span><span class=\"INFLX\" >try</span></span></span></span><a name=\"u2fc098491a42200a.6e2b450a.11504344e98.-3626\"></a><span class=\"Sense\"><span class=\"Sense_newline\" ><span class=\"sensenum\" >9</span><a name=\"u2fc098491a42200a.6e2b450a.11504344e98.-3625\"></a><span class=\"LEXUNIT\" >pick and choose</span><span class=\"DEF\" ><span > </span>to choose only the best people or things, or only the ones that you really like</span><span >: </span><a name=\"u2fc098491a42200a.6e2b450a.11504344e98.-3623\"></a><span class=\"EXAMPLE\" ><a href=\"sound://p008__001566369.spx\" ><img src=\"snd_sfx.png\" border=\"0\" ></img></a><span class=\"BASE\" >Come on, you haven’t got time to pick and choose.</span><span class=\"INFLX\" >get</span></span></span></span><a name=\"u2fc098491a42200a.6e2b450a.11504344e98.-3622\"></a><span class=\"Sense\"><span class=\"Sense_newline\" ><span class=\"sensenum\" >10</span><a name=\"u2fc098491a42200a.6e2b450a.11504344e98.-3621\"></a><span class=\"LEXUNIT\" >pick a lock</span><span class=\"ACTIV\" >OPEN</span><span class=\"DEF\" ><span > </span>to use something that is not a key to unlock a door, drawer etc</span><span >: </span><a name=\"u2fc098491a42200a.6e2b450a.11504344e98.-361e\"></a><span class=\"EXAMPLE\" ><a href=\"sound://p008__000358322.spx\" ><img src=\"snd_sfx.png\" border=\"0\" ></img></a><span class=\"BASE\" >It’s quite easy to pick the lock on a car door.</span></span></span></span><a name=\"u2fc098491a42200a.6e2b450a.11504344e98.-361d\"></a><span class=\"Sense\"><span class=\"Sense_newline\" ><span class=\"sensenum\" >11</span><a name=\"u2fc098491a42200a.6e2b450a.11504344e98.-361c\"></a><span class=\"LEXUNIT\" >pick a hole in something</span><span class=\"DEF\" ><span > </span>to make a hole in something by pulling it with your fingers</span><span >: </span><a name=\"u2fc098491a42200a.6e2b450a.11504344e98.-361a\"></a><span class=\"EXAMPLE\" ><a href=\"sound://p008__001566373.spx\" ><img src=\"snd_sfx.png\" border=\"0\" ></img></a><span class=\"BASE\" >He had picked a hole in his jumper.</span><span class=\"INFLX\" >have</span><span class=\"INFLX\" >pick</span></span></span></span><a name=\"u2fc098491a42200a.6e2b450a.11504344e98.-3619\"></a><span class=\"Sense\"><span class=\"Sense_newline\" ><span class=\"sensenum\" >12</span><span class=\"ACTIV\" >CRITICIZE</span><a name=\"u2fc098491a42200a.6e2b450a.11504344e98.-3617\"></a><span class=\"LEXUNIT\" >pick holes in something</span><span class=\"REGISTERLAB\" ><span > </span>informal</span><span class=\"DEF\" ><span > </span>to criticize an idea or a plan by saying what its weak points are</span><span >: </span><a name=\"u2fc098491a42200a.6e2b450a.11504344e98.-3614\"></a><span class=\"EXAMPLE\" ><a href=\"sound://p008__000358328.spx\" ><img src=\"snd_sfx.png\" border=\"0\" ></img></a><span class=\"BASE\" >It’s easy to pick holes in her argument.</span><span class=\"INFLX\" >hole</span></span></span></span><a name=\"u2fc098491a42200a.6e2b450a.11504344e98.-3613\"></a><span class=\"Sense\"><span class=\"Sense_newline\" ><span class=\"sensenum\" >13</span><a name=\"u2fc098491a42200a.6e2b450a.11504344e98.-3612\"></a><span class=\"LEXUNIT\" >pick something clean</span><span class=\"ACTIV\" >EAT</span><span class=\"DEF\" ><span > </span>to remove all the meat from a bone when you are eating</span></span></span><a name=\"u2fc098491a42200a.6e2b450a.11504344e98.-360f\"></a><span class=\"Sense\"><span class=\"Sense_newline\" ><span class=\"sensenum\" >14</span><a name=\"u2fc098491a42200a.6e2b450a.11504344e98.-360e\"></a><span class=\"LEXUNIT\" >pick sb’s pocket</span><span class=\"ACTIV\" >STEAL</span><span class=\"DEF\" ><span > </span>to quietly steal something from someone’s pocket</span><span class=\"RELATEDWD\" ><span > → </span>pickpocket</span></span></span><a name=\"u2fc098491a42200a.6e2b450a.11504344e98.-360a\"></a><span class=\"Sense\"><span class=\"Sense_newline\" ><span class=\"sensenum\" >15</span><a name=\"u2fc098491a42200a.6e2b450a.11504344e98.-3609\"></a><span class=\"LEXUNIT\" >pick a winner</span><span class=\"REGISTERLAB\" ><span > </span>informal</span><span class=\"ACTIV\" >CHOOSE</span><span class=\"DEF\" ><span > </span>to choose someone or something very good</span></span></span><a name=\"u2fc098491a42200a.6e2b450a.11504344e98.-3605\"></a><span class=\"Sense\"><span class=\"Sense_newline\" ><span class=\"sensenum\" >16</span><a name=\"u2fc098491a42200a.6e2b450a.11504344e98.-3604\"></a><span class=\"LEXUNIT\" >pick something to pieces</span><span class=\"REGISTERLAB\" ><span > </span>informal</span><span class=\"ACTIV\" >CRITICIZE</span><span class=\"DEF\" ><span > </span>to criticize something very severely and in a very detailed way</span><span >: </span><a name=\"u2fc098491a42200a.6e2b450a.11504344e98.-3600\"></a><span class=\"EXAMPLE\" ><a href=\"sound://p008__001566376.spx\" ><img src=\"snd_sfx.png\" border=\"0\" ></img></a><span class=\"BASE\" >I’m fed up with having my work picked to pieces.</span><span class=\"INFLX\" >feed</span><span class=\"INFLX\" >have</span><span class=\"INFLX\" >pick</span><span class=\"INFLX\" >piece</span></span></span></span><a name=\"u2fc098491a42200a.6e2b450a.11504344e98.-35ff\"></a><span class=\"Sense\"><span class=\"Sense_newline\" ><span class=\"sensenum\" >17</span><span class=\"SIGNPOST\" >musical instrument</span><span class=\"GEO\" ><span > </span>American English</span><span class=\"DEF\" ><span > </span>to play a musical instrument by pulling at its strings with your fingers</span><span class=\"SYN\" ><span class=\"synopp\" > SYN </span>pluck</span></span></span><span class=\"Tail\" ><span class=\"Crossref\" ><span > →</span><a href=\"bword://bone ,noun#u2fc098491a42200a.6e2b450a.11503730847.43d\"><span class=\"Ref\" ><span > </span><span class=\"REFLEX\" >have a bone to pick with somebody</span><span class=\"REFHWD\" ><span > at </span>bone</span><span class=\"REFHOMNUM\" >1</span><span class=\"REFSENSENUM\" ><span class=\"refsensenum\" >(</span>10<span class=\"refsensenum\" >)</span></span></span></a></span><span class=\"ThesBox\" ><span class=\"heading\" >THESAURUS</span><span class=\"Section\" ><span class=\"Exponent\" ><span class=\"EXP\" >choose</span><span class=\"DEF\" ><span > </span>to decide which one of several things you want</span><span class=\"THESEXA\" ><span >: </span><span class=\"BASE\" >I chose a black dress.</span><span class=\"INFLX\" >choose</span></span><span class=\"THESEXA\" ><span > | </span><span class=\"BASE\" >Which dessert should I choose?</span><span class=\"INFLX\" >shall</span></span></span><span class=\"Exponent\" ><span class=\"EXP\" >pick</span><span class=\"DEF\" ><span > </span>to choose something, especially without thinking carefully. <span class=\"DEFBOLD\" >Pick</span> is more informal than <span class=\"DEFBOLD\" >choose</span></span><span class=\"THESEXA\" ><span >: </span><span class=\"BASE\" >Pick any number from one to ten.</span><span class=\"INFLX\" >numb</span></span></span><span class=\"Exponent\" ><span class=\"EXP\" >select</span><span class=\"REGISTERLAB\" ><span > </span>formal</span><span class=\"DEF\" ><span > </span>to choose something, especially after thinking carefully</span><span class=\"THESEXA\" ><span >: </span><span class=\"BASE\" >The committee will meet to select a new chairman.</span></span><span class=\"THESEXA\" ><span > | </span><span class=\"BASE\" >All our instructors are carefully selected.</span><span class=\"INFLX\" >instructor</span><span class=\"INFLX\" >be</span><span class=\"INFLX\" >select</span></span></span><span class=\"Exponent\" ><span class=\"EXP\" >opt for/go for</span><span class=\"DEF\" ><span > </span>to choose one thing instead of another</span><span class=\"THESEXA\" ><span >: </span><span class=\"BASE\" >Many car buyers opt for used vehicles.</span><span class=\"INFLX\" >buyer</span><span class=\"INFLX\" >use</span><span class=\"INFLX\" >vehicle</span></span><span class=\"THESEXA\" ><span > | </span><span class=\"BASE\" >I think I’ll go for the chocolate cake.</span></span></span><span class=\"Exponent\" ><span class=\"EXP\" >decide on</span><span class=\"DEF\" ><span > </span>to choose something from many possible things, especially when the decision has been difficult or taken a long time</span><span class=\"THESEXA\" ><span >: </span><span class=\"BASE\" >Thomas had decided on a career as a writer.</span><span class=\"INFLX\" >have</span><span class=\"INFLX\" >decide</span></span></span><span class=\"Exponent\" ><span class=\"EXP\" >single out</span><span class=\"DEF\" ><span > </span>to choose one person or thing from a group because they are better, worse, more important etc than the others</span><span class=\"THESEXA\" ><span >: </span><span class=\"BASE\" >Why should he be singled out for special treatment?</span><span class=\"INFLX\" >shall</span><span class=\"INFLX\" >single</span></span><span class=\"THESEXA\" ><span > | </span><span class=\"BASE\" >One student was singled out for special attention.</span><span class=\"INFLX\" >be</span><span class=\"INFLX\" >single</span></span></span><span class=\"Exponent\" ><span class=\"EXP\" >take your pick</span><span class=\"REGISTERLAB\" ><span > </span>especially spoken</span><span class=\"DEF\" ><span > </span>to choose anything you want, especially when there are many different things available</span><span class=\"THESEXA\" ><span >: </span><span class=\"BASE\" >You can take your pick from Bodrum’s many bars and restaurants.</span><span class=\"INFLX\" >bar</span><span class=\"INFLX\" >restaurant</span></span></span></span></span></span><a name=\"u2fc098491a42200a.6e2b450a.11504344e98.-35f2\"></a><span class=\"PhrVbEntry\" ><span class=\"Head\" ><a name=\"u2fc098491a42200a.6e2b450a.11504344e98.-35f0\"></a><span class=\"PHRVBHWD\" >pick at<span class=\"OBJECT\" ><span > </span>something</span></span><span class=\"POS\" ><span > </span>phrasal verb</span></span><a name=\"u2fc098491a42200a.6e2b450a.11504344e98.-35ed\"></a><span class=\"Sense\"><span class=\"Sense_newline\" ><span class=\"sensenum\" >1</span><span class=\"ACTIV\" >EAT</span><span class=\"DEF\" >to eat only small amounts of food because you do not feel hungry or do not like the food</span><span >: </span><a name=\"u2fc098491a42200a.6e2b450a.11504344e98.-35ea\"></a><span class=\"EXAMPLE\" ><a href=\"sound://p008__001566377.spx\" ><img src=\"snd_sfx.png\" border=\"0\" ></img></a><span class=\"BASE\" >Paige could only pick at her meal, forcing down a mouthful or two.</span><span class=\"INFLX\" >can</span><span class=\"INFLX\" >force</span></span></span></span><a name=\"u2fc098491a42200a.6e2b450a.11504344e98.-35e9\"></a><span class=\"Sense\"><span class=\"Sense_newline\" ><span class=\"sensenum\" >2</span><span class=\"ACTIV\" >TOUCH</span><span class=\"DEF\" >to touch something many times with your fingers, pulling it slightly</span><span >: </span><a name=\"u2fc098491a42200a.6e2b450a.11504344e98.-35e6\"></a><span class=\"EXAMPLE\" ><a href=\"sound://p008__000358380.spx\" ><img src=\"snd_sfx.png\" border=\"0\" ></img></a><span class=\"BASE\" >She was picking at her skirt.</span><span class=\"INFLX\" >be</span><span class=\"INFLX\" >pick</span></span></span></span></span><a name=\"u2fc098491a42200a.6e2b450a.11504344e98.-35e5\"></a><span class=\"PhrVbEntry\" ><span class=\"Head\" ><a name=\"u2fc098491a42200a.6e2b450a.11504344e98.-35e3\"></a><span class=\"PHRVBHWD\" >pick<span class=\"OBJECT\" ><span > </span>somebody/something ↔</span> off</span><span class=\"POS\" ><span > </span>phrasal verb</span></span><a name=\"u2fc098491a42200a.6e2b450a.11504344e98.-35e0\"></a><span class=\"Sense\" ><span > </span><span class=\"ACTIV\" >SHOOT</span><span class=\"DEF\" >to point a weapon carefully at one person or animal in a group, and then shoot them</span><span >: </span><a name=\"u2fc098491a42200a.6e2b450a.11504344e98.-35dd\"></a><span class=\"EXAMPLE\" ><a href=\"sound://p008__001566379.spx\" ><img src=\"snd_sfx.png\" border=\"0\" ></img></a><span class=\"BASE\" >There were gunmen in some of the buildings who picked off our men as they went past.</span><span class=\"INFLX\" >be</span><span class=\"INFLX\" >gunman</span><span class=\"INFLX\" >building</span><span class=\"INFLX\" >pick</span><span class=\"INFLX\" >man</span><span class=\"INFLX\" >go</span></span></span></span><a name=\"u2fc098491a42200a.6e2b450a.11504344e98.-35dc\"></a><span class=\"PhrVbEntry\" ><span class=\"Head\" ><a name=\"u2fc098491a42200a.6e2b450a.11504344e98.-35da\"></a><span class=\"PHRVBHWD\" >pick on<span class=\"OBJECT\" ><span > </span>somebody/something</span></span><span class=\"POS\" ><span > </span>phrasal verb</span><span class=\"REGISTERLAB\" ><span > </span>spoken</span></span><a name=\"u2fc098491a42200a.6e2b450a.11504344e98.-35d6\"></a><span class=\"Sense\"><span class=\"Sense_newline\" ><span class=\"sensenum\" >1</span><span class=\"ACTIV\" >BLAME</span><span class=\"DEF\" >to behave in an unfair way to someone, for example by blaming them or criticizing them unfairly</span><span >: </span><a name=\"u2fc098491a42200a.6e2b450a.11504344e98.-35d3\"></a><span class=\"EXAMPLE\" ><a href=\"sound://p008__000358405.spx\" ><img src=\"snd_sfx.png\" border=\"0\" ></img></a><span class=\"BASE\" >Why don’t you pick on someone else for a change?</span></span></span></span><a name=\"u2fc098491a42200a.6e2b450a.11504344e98.-35d2\"></a><span class=\"Sense\"><span class=\"Sense_newline\" ><span class=\"sensenum\" >2</span><span class=\"ACTIV\" >CHOOSE</span><span class=\"GEO\" ><span > </span>British English</span><span class=\"DEF\" ><span > </span>to choose a particular person or thing</span><span >: </span><a name=\"u2fc098491a42200a.6e2b450a.11504344e98.-35ce\"></a><span class=\"EXAMPLE\" ><a href=\"sound://p008__000358409.spx\" ><img src=\"snd_sfx.png\" border=\"0\" ></img></a><span class=\"BASE\" >Just pick on one job and try to get that finished.</span><span class=\"INFLX\" >finish</span></span></span></span></span><a name=\"u2fc098491a42200a.6e2b450a.11504344e98.-35cd\"></a><span class=\"PhrVbEntry\" ><span class=\"Head\" ><a name=\"u2fc098491a42200a.6e2b450a.11504344e98.-35cb\"></a><span class=\"PHRVBHWD\" >pick<span class=\"OBJECT\" ><span > </span>somebody/something ↔</span> out</span><span class=\"POS\" ><span > </span>phrasal verb</span></span><a name=\"u2fc098491a42200a.6e2b450a.11504344e98.-35c8\"></a><span class=\"Sense\"><span class=\"Sense_newline\" ><span class=\"sensenum\" >1</span><span class=\"SIGNPOST\" >choose</span><span class=\"ACTIV\" >CHOOSE</span><span class=\"DEF\" ><span > </span>to choose someone or something from a group</span><span >: </span><a name=\"u2fc098491a42200a.6e2b450a.11504344e98.-35c4\"></a><span class=\"EXAMPLE\" ><a href=\"sound://p008__001566385.spx\" ><img src=\"snd_sfx.png\" border=\"0\" ></img></a><span class=\"BASE\" >She picked out a navy blue dress.</span><span class=\"INFLX\" >pick</span></span><a name=\"u2fc098491a42200a.6e2b450a.11504344e98.-35c3\"></a><span class=\"EXAMPLE\" ><a href=\"sound://p008__001566386.spx\" ><img src=\"snd_sfx.png\" border=\"0\" ></img></a><span class=\"BASE\" >His story was picked out as the best by the judges.</span><span class=\"INFLX\" >be</span><span class=\"INFLX\" >pick</span><span class=\"INFLX\" >well</span><span class=\"INFLX\" >judge</span></span></span></span><a name=\"u2fc098491a42200a.6e2b450a.11504344e98.-35c2\"></a><span class=\"Sense\"><span class=\"Sense_newline\" ><span class=\"sensenum\" >2</span><span class=\"SIGNPOST\" >recognize</span><span class=\"ACTIV\" >RECOGNIZE</span><span class=\"DEF\" ><span > </span>to recognize someone or something in a group of people or things</span><span >: </span><a name=\"u2fc098491a42200a.6e2b450a.11504344e98.-35be\"></a><span class=\"EXAMPLE\" ><a href=\"sound://p008__000358425.spx\" ><img src=\"snd_sfx.png\" border=\"0\" ></img></a><span class=\"BASE\" >She was able to pick out her father at the other side of the room.</span><span class=\"INFLX\" >be</span></span><a name=\"u2fc098491a42200a.6e2b450a.11504344e98.-35bd\"></a><span class=\"EXAMPLE\" ><a href=\"sound://p008__001566388.spx\" ><img src=\"snd_sfx.png\" border=\"0\" ></img></a><span class=\"BASE\" >I picked out Valerie’s voice from among the general conversation.</span><span class=\"INFLX\" >pick</span></span></span></span><a name=\"u2fc098491a42200a.6e2b450a.11504344e98.-35bc\"></a><span class=\"Sense\"><span class=\"Sense_newline\" ><span class=\"sensenum\" >3</span><span class=\"SIGNPOST\" >see</span><span class=\"DEF\" ><span > </span>if you can pick something out, you can see it but not very clearly</span><span >: </span><a name=\"u2fc098491a42200a.6e2b450a.11504344e98.-35b9\"></a><span class=\"EXAMPLE\" ><a href=\"sound://p008__001566393.spx\" ><img src=\"snd_sfx.png\" border=\"0\" ></img></a><span class=\"BASE\" >I could just pick out some letters carved into the stone.</span><span class=\"INFLX\" >can</span><span class=\"INFLX\" >letter</span><span class=\"INFLX\" >carve</span></span></span></span><a name=\"u2fc098491a42200a.6e2b450a.11504344e98.-35b8\"></a><span class=\"Sense\"><span class=\"Sense_newline\" ><span class=\"sensenum\" >4</span><span class=\"SIGNPOST\" >shown clearly</span><span class=\"GRAM\" ><span > [</span>usually passive<span >]</span></span><span class=\"DEF\" ><span > </span>if something is picked out, it is in a different colour or material from the background, so that it can be clearly seen</span><span >: </span><a name=\"u2fc098491a42200a.6e2b450a.11504344e98.-35b4\"></a><span class=\"EXAMPLE\" ><a href=\"sound://p008__001566395.spx\" ><img src=\"snd_sfx.png\" border=\"0\" ></img></a><span class=\"BASE\" >His name was picked out in gold lettering.</span><span class=\"INFLX\" >be</span><span class=\"INFLX\" >pick</span><span class=\"INFLX\" >letter</span></span></span></span><a name=\"u2fc098491a42200a.6e2b450a.11504344e98.-35b3\"></a><span class=\"Sense\"><span class=\"Sense_newline\" ><span class=\"sensenum\" >5</span><span class=\"SIGNPOST\" >play a tune</span><span class=\"DEF\" ><span > </span>to play a tune on a musical instrument slowly or with difficulty</span><span >: </span><a name=\"u2fc098491a42200a.6e2b450a.11504344e98.-35af\"></a><span class=\"EXAMPLE\" ><a href=\"sound://p008__000358439.spx\" ><img src=\"snd_sfx.png\" border=\"0\" ></img></a><span class=\"BASE\" >He sat at the piano and picked out a simple tune.</span><span class=\"INFLX\" >sit</span><span class=\"INFLX\" >pick</span></span></span></span></span><a name=\"u2fc098491a42200a.6e2b450a.11504344e98.-35ae\"></a><span class=\"PhrVbEntry\" ><span class=\"Head\" ><a name=\"u2fc098491a42200a.6e2b450a.11504344e98.-35ac\"></a><span class=\"PHRVBHWD\" >pick over<span class=\"OBJECT\" ><span > </span>something</span></span><span class=\"POS\" ><span > </span>phrasal verb</span></span><a name=\"u2fc098491a42200a.6e2b450a.11504344e98.-35a9\"></a><span class=\"Sense\" ><span > </span><span class=\"ACTIV\" >EXAMINE</span><span class=\"DEF\" >to examine a group of things very carefully in order to choose the ones you want</span><span >: </span><a name=\"u2fc098491a42200a.6e2b450a.11504344e98.-35a6\"></a><span class=\"EXAMPLE\" ><a href=\"sound://p008__000358450.spx\" ><img src=\"snd_sfx.png\" border=\"0\" ></img></a><span class=\"BASE\" >She was sitting at the kitchen table picking over a pile of mushrooms.</span><span class=\"INFLX\" >be</span><span class=\"INFLX\" >sit</span><span class=\"INFLX\" >pick</span><span class=\"INFLX\" >mushroom</span></span></span></span><a name=\"u2fc098491a42200a.6e2b450a.11504344e98.-35a5\"></a><span class=\"PhrVbEntry\" ><span class=\"Head\" ><a name=\"u2fc098491a42200a.6e2b450a.11504344e98.-35a3\"></a><span class=\"PHRVBHWD\" >pick through<span class=\"OBJECT\" ><span > </span>something</span></span><span class=\"POS\" ><span > </span>phrasal verb</span></span><a name=\"u2fc098491a42200a.6e2b450a.11504344e98.-35a0\"></a><span class=\"Sense\" ><span > </span><span class=\"ACTIV\" >LOOK FOR</span><span class=\"DEF\" >to search through a pile of things to find things that you want</span><span >: </span><a name=\"u2fc098491a42200a.6e2b450a.11504344e98.-359d\"></a><span class=\"EXAMPLE\" ><a href=\"sound://p008__001566397.spx\" ><img src=\"snd_sfx.png\" border=\"0\" ></img></a><span class=\"BASE\" >Police are still picking through the rubble looking for clues to the cause of the explosion.</span><span class=\"INFLX\" >be</span><span class=\"INFLX\" >pick</span><span class=\"INFLX\" >look</span><span class=\"INFLX\" >clue</span></span></span></span><a name=\"u2fc098491a42200a.6e2b450a.11504344e98.-359c\"></a><span class=\"PhrVbEntry\" ><span class=\"Head\" ><a name=\"u2fc098491a42200a.6e2b450a.11504344e98.-359a\"></a><span class=\"PHRVBHWD\" >pick up</span><span class=\"POS\" ><span > </span>phrasal verb</span></span><a name=\"u2fc098491a42200a.6e2b450a.11504344e98.-3598\"></a><span class=\"Sense\"><span class=\"Sense_newline\" ><span class=\"sensenum\" >1</span><span class=\"SIGNPOST\" >lift something/somebody up</span><span class=\"ACTIV\" >LIFT</span><a name=\"u2fc098491a42200a.6e2b450a.11504344e98.-3595\"></a><span class=\"LEXUNIT\" >pick something/somebody ↔ up</span><span class=\"DEF\" ><span > </span>to lift something or someone up</span><span >: </span><a name=\"u2fc098491a42200a.6e2b450a.11504344e98.-3593\"></a><span class=\"EXAMPLE\" ><a href=\"sound://p008__000358470.spx\" ><img src=\"snd_sfx.png\" border=\"0\" ></img></a><span class=\"BASE\" >He picked up the letter and read it.</span><span class=\"INFLX\" >pick</span></span><a name=\"u2fc098491a42200a.6e2b450a.11504344e98.-3592\"></a><span class=\"EXAMPLE\" ><a href=\"sound://p008__000358472.spx\" ><img src=\"snd_sfx.png\" border=\"0\" ></img></a><span class=\"BASE\" >The phone rang and I picked it up.</span><span class=\"INFLX\" >ring</span><span class=\"INFLX\" >pick</span></span><a name=\"u2fc098491a42200a.6e2b450a.11504344e98.-3591\"></a><span class=\"EXAMPLE\" ><a href=\"sound://p008__001566398.spx\" ><img src=\"snd_sfx.png\" border=\"0\" ></img></a><span class=\"BASE\" >Mummy, can you pick me up?</span></span></span></span><a name=\"u2fc098491a42200a.6e2b450a.11504344e98.-3590\"></a><span class=\"Sense\"><span class=\"Sense_newline\" ><span class=\"sensenum\" >2</span><a name=\"u2fc098491a42200a.6e2b450a.11504344e98.-358f\"></a><span class=\"LEXUNIT\" >pick yourself up</span><span class=\"ACTIV\" >LIFT</span><span class=\"DEF\" ><span > </span>to get up from the ground after you have fallen</span><span >: </span><a name=\"u2fc098491a42200a.6e2b450a.11504344e98.-358c\"></a><span class=\"EXAMPLE\" ><a href=\"sound://p008__000358487.spx\" ><img src=\"snd_sfx.png\" border=\"0\" ></img></a><span class=\"BASE\" >Carol picked herself up and brushed the dirt off her coat.</span><span class=\"INFLX\" >pick</span><span class=\"INFLX\" >brush</span></span></span></span><a name=\"u2fc098491a42200a.6e2b450a.11504344e98.-358b\"></a><span class=\"Sense\"><span class=\"Sense_newline\" ><span class=\"sensenum\" >3</span><span class=\"SIGNPOST\" >tidy something</span><a name=\"u2fc098491a42200a.6e2b450a.11504344e98.-3589\"></a><span class=\"LEXUNIT\" ><span > </span>pick something ↔ up</span><span class=\"GEO\" ><span > </span>American English</span><span class=\"ACTIV\" >TIDY</span><span class=\"DEF\" ><span > </span>to make a room or building tidy</span><span >: </span><a name=\"u2fc098491a42200a.6e2b450a.11504344e98.-3585\"></a><span class=\"EXAMPLE\" ><a href=\"sound://p008__000358499.spx\" ><img src=\"snd_sfx.png\" border=\"0\" ></img></a><span class=\"BASE\" >Pick up your room before you go to bed.</span></span></span></span><a name=\"u2fc098491a42200a.6e2b450a.11504344e98.-3584\"></a><span class=\"Sense\"><span class=\"Sense_newline\" ><span class=\"sensenum\" >4</span><span class=\"SIGNPOST\" >get something</span><a name=\"u2fc098491a42200a.6e2b450a.11504344e98.-3582\"></a><span class=\"LEXUNIT\" ><span > </span>pick something ↔ up</span><span class=\"REGISTERLAB\" ><span > </span>informal</span><span class=\"Subsense\" ><span > </span><span class=\"sensenum\" >a)</span><span class=\"ACTIV\" >GET</span><span class=\"DEF\" >to get or win something</span><span >: </span><a name=\"u2fc098491a42200a.6e2b450a.11504344e98.-357d\"></a><span class=\"EXAMPLE\" ><a href=\"sound://p008__001566399.spx\" ><img src=\"snd_sfx.png\" border=\"0\" ></img></a><span class=\"BASE\" >He’s already picked up three major prizes this year.</span><span class=\"INFLX\" >pick</span><span class=\"INFLX\" >prize</span></span></span><span class=\"Subsense\" ><span > </span><span class=\"sensenum\" >b)</span><span class=\"ACTIV\" >BUY</span><span class=\"DEF\" >to buy something or get it from a shop etc</span><span >: </span><a name=\"u2fc098491a42200a.6e2b450a.11504344e98.-3579\"></a><span class=\"EXAMPLE\" ><a href=\"sound://p008__000358523.spx\" ><img src=\"snd_sfx.png\" border=\"0\" ></img></a><span class=\"BASE\" >I picked up an evening paper on the way home.</span><span class=\"INFLX\" >pick</span><span class=\"INFLX\" >even</span></span><a name=\"u2fc098491a42200a.6e2b450a.11504344e98.-3578\"></a><span class=\"EXAMPLE\" ><a href=\"sound://p008__000358524.spx\" ><img src=\"snd_sfx.png\" border=\"0\" ></img></a><span class=\"BASE\" >For more details, pick up a leaflet in your local post office.</span><span class=\"INFLX\" >detail</span></span></span><span class=\"Subsense\" ><span > </span><span class=\"sensenum\" >c)</span><span class=\"DEF\" >to get an illness</span><span >: </span><a name=\"u2fc098491a42200a.6e2b450a.11504344e98.-3575\"></a><span class=\"EXAMPLE\" ><a href=\"sound://p008__001566403.spx\" ><img src=\"snd_sfx.png\" border=\"0\" ></img></a><span class=\"BASE\" >I picked up a virus while I was in America.</span><span class=\"INFLX\" >pick</span><span class=\"INFLX\" >be</span></span></span></span></span><a name=\"u2fc098491a42200a.6e2b450a.11504344e98.-3574\"></a><span class=\"Sense\"><span class=\"Sense_newline\" ><span class=\"sensenum\" >5</span><span class=\"SIGNPOST\" >collect</span><a name=\"u2fc098491a42200a.6e2b450a.11504344e98.-3572\"></a><span class=\"LEXUNIT\" ><span > </span>pick something ↔ up</span><span class=\"ACTIV\" >GET</span><span class=\"DEF\" ><span > </span>to collect something from a place</span><span >: </span><a name=\"u2fc098491a42200a.6e2b450a.11504344e98.-356f\"></a><span class=\"EXAMPLE\" ><a href=\"sound://p008__000358530.spx\" ><img src=\"snd_sfx.png\" border=\"0\" ></img></a><span class=\"BASE\" >I’ll pick my things up later.</span><span class=\"INFLX\" >thing</span><span class=\"INFLX\" >late</span></span><a name=\"u2fc098491a42200a.6e2b450a.11504344e98.-356e\"></a><span class=\"EXAMPLE\" ><a href=\"sound://p008__000358531.spx\" ><img src=\"snd_sfx.png\" border=\"0\" ></img></a><span class=\"BASE\" >She just dropped by to pick up her mail.</span><span class=\"INFLX\" >drop</span></span></span></span><a name=\"u2fc098491a42200a.6e2b450a.11504344e98.-356d\"></a><span class=\"Sense\"><span class=\"Sense_newline\" ><span class=\"sensenum\" >6</span><span class=\"SIGNPOST\" >let somebody into a vehicle</span><a name=\"u2fc098491a42200a.6e2b450a.11504344e98.-356b\"></a><span class=\"LEXUNIT\" ><span > </span>pick somebody ↔ up</span><span class=\"ACTIV\" >GET</span><span class=\"DEF\" ><span > </span>to let someone get into your car, boat etc and take them somewhere</span><span >: </span><a name=\"u2fc098491a42200a.6e2b450a.11504344e98.-3568\"></a><span class=\"EXAMPLE\" ><a href=\"sound://p008__000358559.spx\" ><img src=\"snd_sfx.png\" border=\"0\" ></img></a><span class=\"BASE\" >I’ll pick you up at the station.</span></span><a name=\"u2fc098491a42200a.6e2b450a.11504344e98.-3567\"></a><span class=\"EXAMPLE\" ><a href=\"sound://p008__001566405.spx\" ><img src=\"snd_sfx.png\" border=\"0\" ></img></a><span class=\"BASE\" >The survivors were picked up by fishing boats from nearby villages.</span><span class=\"INFLX\" >survivor</span><span class=\"INFLX\" >be</span><span class=\"INFLX\" >pick</span><span class=\"INFLX\" >fish</span><span class=\"INFLX\" >boat</span><span class=\"INFLX\" >village</span></span></span></span><a name=\"u2fc098491a42200a.6e2b450a.11504344e98.-3566\"></a><span class=\"Sense\"><span class=\"Sense_newline\" ><span class=\"sensenum\" >7</span><span class=\"SIGNPOST\" >learn</span><a name=\"u2fc098491a42200a.6e2b450a.11504344e98.-3564\"></a><span class=\"LEXUNIT\" ><span > </span>pick something ↔ up</span><span class=\"ACTIV\" >LEARN</span><span class=\"DEF\" ><span > </span>to learn something by watching or listening to other people</span><span >: </span><a name=\"u2fc098491a42200a.6e2b450a.11504344e98.-3561\"></a><span class=\"EXAMPLE\" ><a href=\"sound://p008__000358539.spx\" ><img src=\"snd_sfx.png\" border=\"0\" ></img></a><span class=\"BASE\" >I picked up a few words of Greek when I was there last year.</span><span class=\"INFLX\" >pick</span><span class=\"INFLX\" >word</span><span class=\"INFLX\" >be</span></span><a name=\"u2fc098491a42200a.6e2b450a.11504344e98.-3560\"></a><span class=\"EXAMPLE\" ><a href=\"sound://p008__000358541.spx\" ><img src=\"snd_sfx.png\" border=\"0\" ></img></a><span class=\"BASE\" >Mary watched the other dancers to see if she could pick up any tips.</span><span class=\"INFLX\" >watch</span><span class=\"INFLX\" >dancer</span><span class=\"INFLX\" >can</span><span class=\"INFLX\" >tip</span></span></span></span><a name=\"u2fc098491a42200a.6e2b450a.11504344e98.-355f\"></a><span class=\"Sense\"><span class=\"Sense_newline\" ><span class=\"sensenum\" >8</span><span class=\"SIGNPOST\" >notice</span><a name=\"u2fc098491a42200a.6e2b450a.11504344e98.-355d\"></a><span class=\"LEXUNIT\" ><span > </span>pick something ↔ up</span><span class=\"ACTIV\" >SMELL</span><span class=\"ACTIV\" >HEAR</span><span class=\"DEF\" ><span > </span>to notice something that is not easy to notice, such as a slight smell or a sign of something</span><span >: </span><a name=\"u2fc098491a42200a.6e2b450a.11504344e98.-3559\"></a><span class=\"EXAMPLE\" ><a href=\"sound://p008__000358574.spx\" ><img src=\"snd_sfx.png\" border=\"0\" ></img></a><span class=\"BASE\" >I picked up a faint smell of coffee.</span><span class=\"INFLX\" >pick</span></span><a name=\"u2fc098491a42200a.6e2b450a.11504344e98.-3558\"></a><span class=\"EXAMPLE\" ><a href=\"sound://p008__000358575.spx\" ><img src=\"snd_sfx.png\" border=\"0\" ></img></a><span class=\"BASE\" >The dogs picked up the scent and raced off.</span><span class=\"INFLX\" >dog</span><span class=\"INFLX\" >pick</span><span class=\"INFLX\" >race</span></span><a name=\"u2fc098491a42200a.6e2b450a.11504344e98.-3557\"></a><span class=\"EXAMPLE\" ><a href=\"sound://p008__001566406.spx\" ><img src=\"snd_sfx.png\" border=\"0\" ></img></a><span class=\"BASE\" >We <span class=\"COLLOINEXA\" >picked up</span> their <span class=\"COLLOINEXA\" >tracks</span> again on the other side of the river.</span><span class=\"INFLX\" >pick</span><span class=\"INFLX\" >track</span></span></span></span><a name=\"u2fc098491a42200a.6e2b450a.11504344e98.-3554\"></a><span class=\"Sense\"><span class=\"Sense_newline\" ><span class=\"sensenum\" >9</span><span class=\"SIGNPOST\" >radio/signals</span><span class=\"ACTIV\" >HEAR</span><a name=\"u2fc098491a42200a.6e2b450a.11504344e98.-3551\"></a><span class=\"LEXUNIT\" >pick something ↔ up</span><span class=\"DEF\" ><span > </span>if a machine picks up a sound, movement, or signal, it is able to notice it or receive it</span><span >: </span><a name=\"u2fc098491a42200a.6e2b450a.11504344e98.-354f\"></a><span class=\"EXAMPLE\" ><a href=\"sound://p008__000358551.spx\" ><img src=\"snd_sfx.png\" border=\"0\" ></img></a><span class=\"BASE\" >The sensors pick up faint vibrations in the Earth.</span><span class=\"INFLX\" >sensor</span><span class=\"INFLX\" >vibration</span></span><a name=\"u2fc098491a42200a.6e2b450a.11504344e98.-354e\"></a><span class=\"EXAMPLE\" ><a href=\"sound://p008__000358552.spx\" ><img src=\"snd_sfx.png\" border=\"0\" ></img></a><span class=\"BASE\" >I managed to pick up an American news broadcast.</span><span class=\"INFLX\" >manage</span></span></span></span><a name=\"u2fc098491a42200a.6e2b450a.11504344e98.-354d\"></a><span class=\"Sense\"><span class=\"Sense_newline\" ><span class=\"sensenum\" >10</span><span class=\"SIGNPOST\" >sex</span><a name=\"u2fc098491a42200a.6e2b450a.11504344e98.-354b\"></a><span class=\"LEXUNIT\" ><span > </span>pick somebody ↔ up</span><span class=\"ACTIV\" >MEET</span><span class=\"DEF\" ><span > </span>to become friendly with someone you have just met because you want to have sex with them</span><span >: </span><a name=\"u2fc098491a42200a.6e2b450a.11504344e98.-3548\"></a><span class=\"EXAMPLE\" ><a href=\"sound://p008__000358565.spx\" ><img src=\"snd_sfx.png\" border=\"0\" ></img></a><span class=\"BASE\" >young women sitting around in bars waiting to be picked up</span><span class=\"INFLX\" >woman</span><span class=\"INFLX\" >sit</span><span class=\"INFLX\" >bar</span><span class=\"INFLX\" >wait</span><span class=\"INFLX\" >pick</span></span></span></span><a name=\"u2fc098491a42200a.6e2b450a.11504344e98.-3547\"></a><span class=\"Sense\"><span class=\"Sense_newline\" ><span class=\"sensenum\" >11</span><span class=\"SIGNPOST\" >start again</span><span class=\"Subsense\" ><span > </span><span class=\"sensenum\" >a)</span><span class=\"ACTIV\" >CONTINUE/START AGAIN</span><span class=\"DEF\" >if you pick up where you stopped or were interrupted, you start again from that point</span><span >: </span><a name=\"u2fc098491a42200a.6e2b450a.11504344e98.-3542\"></a><span class=\"EXAMPLE\" ><a href=\"sound://p008__001566413.spx\" ><img src=\"snd_sfx.png\" border=\"0\" ></img></a><span class=\"BASE\" >We’ll meet again in the morning and we can <span class=\"COLLOINEXA\" >pick up where</span> we <span class=\"COLLOINEXA\" >left off</span>.</span><span class=\"INFLX\" >leave</span></span></span><span class=\"Subsense\" ><span > </span><span class=\"sensenum\" >b)</span><span class=\"ACTIV\" >IDEA</span><a name=\"u2fc098491a42200a.6e2b450a.11504344e98.-353d\"></a><span class=\"LEXUNIT\" >pick something ↔ up</span><span class=\"DEF\" ><span > </span>if you pick up an idea that has been mentioned, you return to it and develop it further</span><span >: </span><a name=\"u2fc098491a42200a.6e2b450a.11504344e98.-353b\"></a><span class=\"EXAMPLE\" ><a href=\"sound://p008__001566417.spx\" ><img src=\"snd_sfx.png\" border=\"0\" ></img></a><span class=\"BASE\" >I’d like to pick up what you said earlier.</span><span class=\"INFLX\" >say</span><span class=\"INFLX\" >early</span></span><a name=\"u2fc098491a42200a.6e2b450a.11504344e98.-353a\"></a><span class=\"EXAMPLE\" ><a href=\"sound://p008__000358596.spx\" ><img src=\"snd_sfx.png\" border=\"0\" ></img></a><span class=\"BASE\" >This same theme is picked up in his later works.</span><span class=\"INFLX\" >be</span><span class=\"INFLX\" >pick</span><span class=\"INFLX\" >late</span><span class=\"INFLX\" >work</span></span></span></span></span><a name=\"u2fc098491a42200a.6e2b450a.11504344e98.-3539\"></a><span class=\"Sense\"><span class=\"Sense_newline\" ><span class=\"sensenum\" >12</span><span class=\"SIGNPOST\" >improve</span><span class=\"Subsense\" ><span > </span><span class=\"sensenum\" >a)</span><span class=\"ACTIV\" >IMPROVE</span><span class=\"DEF\" >if a situation picks up, it improves</span><span >: </span><a name=\"u2fc098491a42200a.6e2b450a.11504344e98.-3534\"></a><span class=\"EXAMPLE\" ><a href=\"sound://p008__000358603.spx\" ><img src=\"snd_sfx.png\" border=\"0\" ></img></a><span class=\"BASE\" >Her social life was picking up at last.</span><span class=\"INFLX\" >be</span><span class=\"INFLX\" >pick</span></span><a name=\"u2fc098491a42200a.6e2b450a.11504344e98.-3533\"></a><span class=\"EXAMPLE\" ><a href=\"sound://p008__000358604.spx\" ><img src=\"snd_sfx.png\" border=\"0\" ></img></a><span class=\"BASE\" >The economy is finally beginning to pick up again.</span><span class=\"INFLX\" >be</span><span class=\"INFLX\" >begin</span></span><a name=\"u2fc098491a42200a.6e2b450a.11504344e98.-3532\"></a><span class=\"EXAMPLE\" ><a href=\"sound://p008__001566418.spx\" ><img src=\"snd_sfx.png\" border=\"0\" ></img></a><span class=\"BASE\" >We’ve been through a bit of a bad patch, but <span class=\"COLLOINEXA\" >things are picking up</span> again now.</span><span class=\"INFLX\" >be</span><span class=\"INFLX\" >bite</span><span class=\"INFLX\" >thing</span><span class=\"INFLX\" >be</span><span class=\"INFLX\" >pick</span></span></span><span class=\"Subsense\" ><span > </span><span class=\"sensenum\" >b)</span><a name=\"u2fc098491a42200a.6e2b450a.11504344e98.-352f\"></a><span class=\"LEXUNIT\" >pick somebody up</span><span class=\"ACTIV\" >HEALTHY</span><span class=\"DEF\" ><span > </span>if a medicine or drink picks you up, it makes you feel better</span><span class=\"RELATEDWD\" ><span > → </span>pick-me-up</span></span></span></span><a name=\"u2fc098491a42200a.6e2b450a.11504344e98.-352b\"></a><span class=\"Sense\"><span class=\"Sense_newline\" ><span class=\"sensenum\" >13</span><span class=\"SIGNPOST\" >road</span><a name=\"u2fc098491a42200a.6e2b450a.11504344e98.-3529\"></a><span class=\"LEXUNIT\" ><span > </span>pick something ↔ up</span><span class=\"DEF\" ><span > </span>if you pick up a road, you go onto it and start driving along it</span><span >: </span><a name=\"u2fc098491a42200a.6e2b450a.11504344e98.-3527\"></a><span class=\"EXAMPLE\" ><a href=\"sound://p008__001566427.spx\" ><img src=\"snd_sfx.png\" border=\"0\" ></img></a><span class=\"BASE\" >We take the A14 to Birmingham and then pick up the M5.</span></span></span></span><a name=\"u2fc098491a42200a.6e2b450a.11504344e98.-3526\"></a><span class=\"Sense\"><span class=\"Sense_newline\" ><span class=\"sensenum\" >14</span><span class=\"SIGNPOST\" >train/bus</span><a name=\"u2fc098491a42200a.6e2b450a.11504344e98.-3524\"></a><span class=\"LEXUNIT\" ><span > </span>pick something ↔ up</span><span class=\"DEF\" ><span > </span>if you pick up a train, bus etc, you get onto it and travel on it</span></span></span><a name=\"u2fc098491a42200a.6e2b450a.11504344e98.-3522\"></a><span class=\"Sense\"><span class=\"Sense_newline\" ><span class=\"sensenum\" >15</span><a name=\"u2fc098491a42200a.6e2b450a.11504344e98.-3521\"></a><span class=\"LEXUNIT\" >pick up speed/steam</span><span class=\"ACTIV\" >FAST/QUICK</span><span class=\"DEF\" ><span > </span>to go faster</span><span >: </span><a name=\"u2fc098491a42200a.6e2b450a.11504344e98.-351e\"></a><span class=\"EXAMPLE\" ><a href=\"sound://p008__000358622.spx\" ><img src=\"snd_sfx.png\" border=\"0\" ></img></a><span class=\"BASE\" >The train was gradually picking up speed.</span><span class=\"INFLX\" >be</span><span class=\"INFLX\" >pick</span></span></span></span><a name=\"u2fc098491a42200a.6e2b450a.11504344e98.-351d\"></a><span class=\"Sense\"><span class=\"Sense_newline\" ><span class=\"sensenum\" >16</span><a name=\"u2fc098491a42200a.6e2b450a.11504344e98.-351c\"></a><span class=\"LEXUNIT\" >pick up the bill/tab (for something)</span><span class=\"REGISTERLAB\" ><span > </span>informal</span><span class=\"ACTIV\" >PAY FOR</span><span class=\"DEF\" ><span > </span>to pay for something</span><span >: </span><a name=\"u2fc098491a42200a.6e2b450a.11504344e98.-3518\"></a><span class=\"EXAMPLE\" ><a href=\"sound://p008__000358628.spx\" ><img src=\"snd_sfx.png\" border=\"0\" ></img></a><span class=\"BASE\" >Why should the taxpayer pick up the tab for mistakes made by a private company?</span><span class=\"INFLX\" >shall</span><span class=\"INFLX\" >mistake</span><span class=\"INFLX\" >make</span></span></span></span><a name=\"u2fc098491a42200a.6e2b450a.11504344e98.-3517\"></a><span class=\"Sense\"><span class=\"Sense_newline\" ><span class=\"sensenum\" >17</span><span class=\"SIGNPOST\" >wind</span><span class=\"ACTIV\" >FAST/QUICK</span><span class=\"DEF\" ><span > </span>if the wind picks up, it increases or grows stronger</span></span></span><a name=\"u2fc098491a42200a.6e2b450a.11504344e98.-3513\"></a><span class=\"Sense\"><span class=\"Sense_newline\" ><span class=\"sensenum\" >18</span><span class=\"SIGNPOST\" >colour</span><a name=\"u2fc098491a42200a.6e2b450a.11504344e98.-3511\"></a><span class=\"LEXUNIT\" ><span > </span>pick something ↔ up</span><span class=\"ACTIV\" >SUIT/LOOK GOOD TOGETHER</span><span class=\"DEF\" ><span > </span>if one thing picks up a colour in something else, it has an amount of the same colour in it so that the two things look nice together</span><span >: </span><a name=\"u2fc098491a42200a.6e2b450a.11504344e98.-350e\"></a><span class=\"EXAMPLE\" ><a href=\"sound://p008__000358634.spx\" ><img src=\"snd_sfx.png\" border=\"0\" ></img></a><span class=\"BASE\" >I like the way the curtains pick up the red in the rug.</span><span class=\"INFLX\" >curtain</span></span></span></span><a name=\"u2fc098491a42200a.6e2b450a.11504344e98.-350d\"></a><span class=\"Sense\"><span class=\"Sense_newline\" ><span class=\"sensenum\" >19</span><span class=\"SIGNPOST\" >criminal</span><a name=\"u2fc098491a42200a.6e2b450a.11504344e98.-350b\"></a><span class=\"LEXUNIT\" ><span > </span>pick somebody ↔ up</span><span class=\"ACTIV\" >CATCH</span><span class=\"DEF\" ><span > </span>if the police pick someone up, they take them somewhere to answer questions or to be locked up</span><span >: </span><a name=\"u2fc098491a42200a.6e2b450a.11504344e98.-3508\"></a><span class=\"EXAMPLE\" ><a href=\"sound://p008__000358640.spx\" ><img src=\"snd_sfx.png\" border=\"0\" ></img></a><span class=\"BASE\" >He was picked up by police as he was trying to leave the country.</span><span class=\"INFLX\" >be</span><span class=\"INFLX\" >pick</span><span class=\"INFLX\" >be</span><span class=\"INFLX\" >try</span></span></span></span><a name=\"u2fc098491a42200a.6e2b450a.11504344e98.-3507\"></a><span class=\"Sense\"><span class=\"Sense_newline\" ><span class=\"sensenum\" >20</span><a name=\"u2fc098491a42200a.6e2b450a.11504344e98.-3506\"></a><span class=\"LEXUNIT\" >pick up the pieces (of something)</span><span class=\"ACTIV\" >RECOVER/GET BETTER</span><span class=\"DEF\" ><span > </span>to try to make your life normal again after something very bad has happened to you</span><span >: </span><a name=\"u2fc098491a42200a.6e2b450a.11504344e98.-3503\"></a><span class=\"EXAMPLE\" ><a href=\"sound://p008__001566433.spx\" ><img src=\"snd_sfx.png\" border=\"0\" ></img></a><span class=\"BASE\" >Thousands of victims of the earthquake are now faced with the task of picking up the pieces of their lives.</span><span class=\"INFLX\" >victim</span><span class=\"INFLX\" >be</span><span class=\"INFLX\" >face</span><span class=\"INFLX\" >pick</span><span class=\"INFLX\" >piece</span><span class=\"INFLX\" >live</span></span></span></span><a name=\"u2fc098491a42200a.6e2b450a.11504344e98.-3502\"></a><span class=\"Sense\"><span class=\"Sense_newline\" ><span class=\"sensenum\" >21</span><a name=\"u2fc098491a42200a.6e2b450a.11504344e98.-3501\"></a><span class=\"LEXUNIT\" >pick up the threads (of something)</span><span class=\"ACTIV\" >CONTINUE/START AGAIN</span><span class=\"DEF\" ><span > </span>if you pick up the threads of something that you were doing, you try to return to it and start doing it again after it stopped or was changed</span><span >: </span><a name=\"u2fc098491a42200a.6e2b450a.11504344e98.-34fe\"></a><span class=\"EXAMPLE\" ><a href=\"sound://p008__000358651.spx\" ><img src=\"snd_sfx.png\" border=\"0\" ></img></a><span class=\"BASE\" >Now that the war was over they could pick up the threads of their lives again.</span><span class=\"INFLX\" >be</span><span class=\"INFLX\" >can</span><span class=\"INFLX\" >thread</span><span class=\"INFLX\" >live</span></span></span></span><a name=\"u2fc098491a42200a.6e2b450a.11504344e98.-34fd\"></a><span class=\"Sense\"><span class=\"Sense_newline\" ><span class=\"sensenum\" >22</span><a name=\"u2fc098491a42200a.6e2b450a.11504344e98.-34fc\"></a><span class=\"LEXUNIT\" >pick your feet up</span><span class=\"REGISTERLAB\" ><span > </span>spoken</span><span class=\"DEF\" ><span > </span>used to tell someone to walk properly or more quickly</span></span></span></span><a name=\"u2fc098491a42200a.6e2b450a.11504344e98.-34f9\"></a><span class=\"PhrVbEntry\" ><span class=\"Head\" ><a name=\"u2fc098491a42200a.6e2b450a.11504344e98.-34f7\"></a><span class=\"PHRVBHWD\" >pick up after<span class=\"OBJECT\" ><span > </span>somebody</span></span><span class=\"POS\" ><span > </span>phrasal verb</span><span class=\"REGISTERLAB\" ><span > </span>informal</span></span><a name=\"u2fc098491a42200a.6e2b450a.11504344e98.-34f3\"></a><span class=\"Sense\" ><span > </span><span class=\"DEF\" >to tidy things that someone else has left untidy</span><span >: </span><a name=\"u2fc098491a42200a.6e2b450a.11504344e98.-34f1\"></a><span class=\"EXAMPLE\" ><a href=\"sound://p008__001566450.spx\" ><img src=\"snd_sfx.png\" border=\"0\" ></img></a><span class=\"BASE\" >I’m tired of picking up after you!</span><span class=\"INFLX\" >tire</span><span class=\"INFLX\" >pick</span></span></span></span><a name=\"u2fc098491a42200a.6e2b450a.11504344e98.-34f0\"></a><span class=\"PhrVbEntry\" ><span class=\"Head\" ><a name=\"u2fc098491a42200a.6e2b450a.11504344e98.-34ee\"></a><span class=\"PHRVBHWD\" >pick up on<span class=\"OBJECT\" ><span > </span>something</span></span><span class=\"POS\" ><span > </span>phrasal verb</span></span><a name=\"u2fc098491a42200a.6e2b450a.11504344e98.-34eb\"></a><span class=\"Sense\"><span class=\"Sense_newline\" ><span class=\"sensenum\" >1</span><span class=\"ACTIV\" >NOTICE</span><span class=\"DEF\" >to notice something about the way someone is behaving or feeling, even though they are trying not to show it</span><span >: </span><a name=\"u2fc098491a42200a.6e2b450a.11504344e98.-34e8\"></a><span class=\"EXAMPLE\" ><a href=\"sound://p008__001566451.spx\" ><img src=\"snd_sfx.png\" border=\"0\" ></img></a><span class=\"BASE\" >Children pick up on our worries and anxieties.</span><span class=\"INFLX\" >child</span><span class=\"INFLX\" >worry</span><span class=\"INFLX\" >anxiety</span></span></span></span><a name=\"u2fc098491a42200a.6e2b450a.11504344e98.-34e7\"></a><span class=\"Sense\"><span class=\"Sense_newline\" ><span class=\"sensenum\" >2</span><span class=\"ACTIV\" >DISCUSS</span><span class=\"DEF\" >to return to a point or an idea that has been mentioned and discuss it more</span><span >: </span><a name=\"u2fc098491a42200a.6e2b450a.11504344e98.-34e4\"></a><span class=\"EXAMPLE\" ><a href=\"sound://p008__000358670.spx\" ><img src=\"snd_sfx.png\" border=\"0\" ></img></a><span class=\"BASE\" >I’d like to pick up on a point that Steven made earlier.</span><span class=\"INFLX\" >make</span><span class=\"INFLX\" >early</span></span></span></span><a name=\"u2fc098491a42200a.6e2b450a.11504344e98.-34e3\"></a><span class=\"Sense\"><span class=\"Sense_newline\" ><span class=\"sensenum\" >3</span><a name=\"u2fc098491a42200a.6e2b450a.11504344e98.-34e2\"></a><span class=\"LEXUNIT\" >pick somebody up on something</span><span class=\"ACTIV\" >CRITICIZE</span><span class=\"DEF\" ><span > </span>to criticize someone slightly for something they have said</span><span >: </span><a name=\"u2fc098491a42200a.6e2b450a.11504344e98.-34df\"></a><span class=\"EXAMPLE\" ><a href=\"sound://p008__000358675.spx\" ><img src=\"snd_sfx.png\" border=\"0\" ></img></a><span class=\"BASE\" >I knew he was lying and I should have picked him up on it.</span><span class=\"INFLX\" >know</span><span class=\"INFLX\" >be</span><span class=\"INFLX\" >lie</span><span class=\"INFLX\" >shall</span><span class=\"INFLX\" >pick</span></span></span></span></span></a>\\\\n'"
      ]
     },
     "execution_count": 185,
     "metadata": {},
     "output_type": "execute_result"
    }
   ],
   "source": [
    "string"
   ]
  },
  {
   "cell_type": "code",
   "execution_count": 94,
   "metadata": {
    "collapsed": false
   },
   "outputs": [],
   "source": [
    "def get_All(string, css_class):\n",
    "    get = []\n",
    "    bsObj = BeautifulSoup(string, 'html.parser')\n",
    "    namelist = bsObj.findAll('span', {'class': css_class})\n",
    "    for name in namelist:\n",
    "        get.append(name.get_text())\n",
    "        \n",
    "    if len(get) == 1:\n",
    "        return get[0]\n",
    "    else:\n",
    "        return '->\\n<-'.join(get)"
   ]
  },
  {
   "cell_type": "code",
   "execution_count": 100,
   "metadata": {
    "collapsed": true
   },
   "outputs": [],
   "source": [
    "from bs4 import BeautifulSoup\n",
    "import pandas as pd\n",
    "\n",
    "class Dictionary:\n",
    "    '''Get values from LDOCE Dictionary'''\n",
    "\n",
    "    def __init__(self, string, css_class):\n",
    "        super(Dictionary, self).__init__()\n",
    "        self.string = string\n",
    "        self.bsObj = BeautifulSoup(self.string, 'html.parser')\n",
    "        self.css_class = css_class\n",
    "\n",
    "    def get_one(self):\n",
    "        try:\n",
    "            namelist = self.bsObj.find('span', {'class': self.css_class}).get_text()\n",
    "        except AttributeError:\n",
    "            namelist = None\n",
    "        return namelist\n",
    "        \n",
    "    def get_all(self):\n",
    "        try:\n",
    "            get = []\n",
    "            bsObj = BeautifulSoup(string, 'html.parser')\n",
    "            namelist = self.bsObj.findAll('span', {'class': self.css_class})\n",
    "            for name in namelist:\n",
    "                get.append(name.get_text())\n",
    "                \n",
    "            if len(get) == 1:\n",
    "                return get[0]\n",
    "            else:\n",
    "                return '->\\n<-'.join(get)\n",
    "        except AttributeError:\n",
    "            return None\n"
   ]
  },
  {
   "cell_type": "code",
   "execution_count": 193,
   "metadata": {
    "collapsed": false
   },
   "outputs": [],
   "source": [
    "css_class = ['POS', 'Inflections', 'lead', 'CENTURY', 'Z','VF', 'sensenum', 'Gram', 'DEF','EXAMPLE', 'EXAMP', 'SIGNPOST']"
   ]
  },
  {
   "cell_type": "code",
   "execution_count": 194,
   "metadata": {
    "collapsed": false
   },
   "outputs": [],
   "source": [
    "get_list = []\n",
    "for i in css_class:\n",
    "    a = Dictionary(string, i)\n",
    "    get_list.append(a.get_all())"
   ]
  },
  {
   "cell_type": "code",
   "execution_count": 195,
   "metadata": {
    "collapsed": false
   },
   "outputs": [],
   "source": [
    "a = zip(css_class, get_list)\n",
    "a = list(a)"
   ]
  },
  {
   "cell_type": "code",
   "execution_count": 196,
   "metadata": {
    "collapsed": false,
    "scrolled": false
   },
   "outputs": [
    {
     "data": {
      "text/html": [
       "<div>\n",
       "<table border=\"1\" class=\"dataframe\">\n",
       "  <thead>\n",
       "    <tr style=\"text-align: right;\">\n",
       "      <th></th>\n",
       "      <th>CENTURY</th>\n",
       "      <th>DEF</th>\n",
       "      <th>EXAMP</th>\n",
       "      <th>EXAMPLE</th>\n",
       "      <th>Gram</th>\n",
       "      <th>Inflections</th>\n",
       "      <th>POS</th>\n",
       "      <th>SIGNPOST</th>\n",
       "      <th>VF</th>\n",
       "      <th>Z</th>\n",
       "      <th>lead</th>\n",
       "      <th>sensenum</th>\n",
       "    </tr>\n",
       "  </thead>\n",
       "  <tbody>\n",
       "    <tr>\n",
       "      <th>0</th>\n",
       "      <td>1200-1300</td>\n",
       "      <td>to choose a person or thing, for example beca...</td>\n",
       "      <td>Other dictionary examples-&gt;\\n&lt;-Corpus examples</td>\n",
       "      <td>Students have to pick three courses from a lis...</td>\n",
       "      <td></td>\n",
       "      <td></td>\n",
       "      <td>verb-&gt;\\n&lt;- phrasal verb-&gt;\\n&lt;- phrasal verb-&gt;\\...</td>\n",
       "      <td>choose sth-&gt;\\n&lt;-flowers/fruit etc-&gt;\\n&lt;-remove ...</td>\n",
       "      <td>Verb form</td>\n",
       "      <td>Partly from unrecorded -&gt;\\n&lt;- -&gt;\\n&lt;-; partly f...</td>\n",
       "      <td>Date: -&gt;\\n&lt;-Origin:</td>\n",
       "      <td>1. -&gt;\\n&lt;-2. -&gt;\\n&lt;-3. -&gt;\\n&lt;-4. -&gt;\\n&lt;-5. -&gt;\\n&lt;-6...</td>\n",
       "    </tr>\n",
       "  </tbody>\n",
       "</table>\n",
       "</div>"
      ],
      "text/plain": [
       "     CENTURY                                                DEF  \\\n",
       "0  1200-1300   to choose a person or thing, for example beca...   \n",
       "\n",
       "                                            EXAMP  \\\n",
       "0  Other dictionary examples->\\n<-Corpus examples   \n",
       "\n",
       "                                             EXAMPLE Gram Inflections  \\\n",
       "0  Students have to pick three courses from a lis...                    \n",
       "\n",
       "                                                 POS  \\\n",
       "0   verb->\\n<- phrasal verb->\\n<- phrasal verb->\\...   \n",
       "\n",
       "                                            SIGNPOST         VF  \\\n",
       "0  choose sth->\\n<-flowers/fruit etc->\\n<-remove ...  Verb form   \n",
       "\n",
       "                                                   Z                  lead  \\\n",
       "0  Partly from unrecorded ->\\n<- ->\\n<-; partly f...  Date: ->\\n<-Origin:    \n",
       "\n",
       "                                            sensenum  \n",
       "0  1. ->\\n<-2. ->\\n<-3. ->\\n<-4. ->\\n<-5. ->\\n<-6...  "
      ]
     },
     "execution_count": 196,
     "metadata": {},
     "output_type": "execute_result"
    }
   ],
   "source": [
    "df_tst = pd.DataFrame(dict(a), index=[0])\n",
    "df_tst"
   ]
  },
  {
   "cell_type": "code",
   "execution_count": 198,
   "metadata": {
    "collapsed": false
   },
   "outputs": [
    {
     "name": "stdout",
     "output_type": "stream",
     "text": [
      "choose sth->\n",
      "<-flowers/fruit etc->\n",
      "<-remove sth->\n",
      "<-musical instrument->\n",
      "<-choose something->\n",
      "<-flowers/fruit etc->\n",
      "<-remove something->\n",
      "<-musical instrument->\n",
      "<-choose->\n",
      "<-recognize->\n",
      "<-see->\n",
      "<-shown clearly->\n",
      "<-play a tune->\n",
      "<-lift something/somebody up->\n",
      "<-tidy something->\n",
      "<-get something->\n",
      "<-collect->\n",
      "<-let somebody into a vehicle->\n",
      "<-learn->\n",
      "<-notice->\n",
      "<-radio/signals->\n",
      "<-sex->\n",
      "<-start again->\n",
      "<-improve->\n",
      "<-road->\n",
      "<-train/bus->\n",
      "<-wind->\n",
      "<-colour->\n",
      "<-criminal\n"
     ]
    }
   ],
   "source": [
    "print(df_tst['SIGNPOST'][0])"
   ]
  },
  {
   "cell_type": "code",
   "execution_count": 192,
   "metadata": {
    "collapsed": false
   },
   "outputs": [
    {
     "data": {
      "text/plain": [
       "'Other dictionary examples->\\n<-Corpus examples'"
      ]
     },
     "execution_count": 192,
     "metadata": {},
     "output_type": "execute_result"
    }
   ],
   "source": [
    "df_tst['EXAMP'][0]"
   ]
  },
  {
   "cell_type": "code",
   "execution_count": 187,
   "metadata": {
    "collapsed": true
   },
   "outputs": [
    {
     "name": "stdout",
     "output_type": "stream",
     "text": [
      "Students have to pick three courses from a list of 15.studentcourse->\n",
      "<-I don’t know which colour to pick.->\n",
      "<-Who’s going to pick the team for the match on Saturday?go->\n",
      "<-I wasn’t picked for the hockey team.pick->\n",
      "<-The hotel was picked as the best small hotel in the area.bepickwell->\n",
      "<-He was picked to run in the 100 metres.bepickmetre->\n",
      "<-Russell spoke slowly, picking his words (=choosing what to say) very carefully.speakpickword->\n",
      "<-We picked some blackberries to eat on the way.pickblackberry->\n",
      "<-Amy picked a small bunch of wild flowers.pickflower->\n",
      "<-a dish of freshly picked peaspickpea->\n",
      "<-Ahmed picked the melon pips from his teeth.pickpiptooth->\n",
      "<-She was nervously picking bits of fluff off her sweater.bepickbit->\n",
      "<-The goalkeeper spent a lot of his time picking the ball out of the back of the net.spendpick->\n",
      "<-She picked her way between the puddles.pickpuddle->\n",
      "<-He picked his way down the narrow staircase.pick->\n",
      "<-Don’t pick your nose!->\n",
      "<-Have you got a minute? I need to pick your brains.getbrain->\n",
      "<-I could see he was trying to pick a fight with me.canbetry->\n",
      "<-Come on, you haven’t got time to pick and choose.get->\n",
      "<-It’s quite easy to pick the lock on a car door.->\n",
      "<-He had picked a hole in his jumper.havepick->\n",
      "<-It’s easy to pick holes in her argument.hole->\n",
      "<-I’m fed up with having my work picked to pieces.feedhavepickpiece->\n",
      "<-Paige could only pick at her meal, forcing down a mouthful or two.canforce->\n",
      "<-She was picking at her skirt.bepick->\n",
      "<-There were gunmen in some of the buildings who picked off our men as they went past.begunmanbuildingpickmango->\n",
      "<-Why don’t you pick on someone else for a change?->\n",
      "<-Just pick on one job and try to get that finished.finish->\n",
      "<-She picked out a navy blue dress.pick->\n",
      "<-His story was picked out as the best by the judges.bepickwelljudge->\n",
      "<-She was able to pick out her father at the other side of the room.be->\n",
      "<-I picked out Valerie’s voice from among the general conversation.pick->\n",
      "<-I could just pick out some letters carved into the stone.canlettercarve->\n",
      "<-His name was picked out in gold lettering.bepickletter->\n",
      "<-He sat at the piano and picked out a simple tune.sitpick->\n",
      "<-She was sitting at the kitchen table picking over a pile of mushrooms.besitpickmushroom->\n",
      "<-Police are still picking through the rubble looking for clues to the cause of the explosion.bepicklookclue->\n",
      "<-He picked up the letter and read it.pick->\n",
      "<-The phone rang and I picked it up.ringpick->\n",
      "<-Mummy, can you pick me up?->\n",
      "<-Carol picked herself up and brushed the dirt off her coat.pickbrush->\n",
      "<-Pick up your room before you go to bed.->\n",
      "<-He’s already picked up three major prizes this year.pickprize->\n",
      "<-I picked up an evening paper on the way home.pickeven->\n",
      "<-For more details, pick up a leaflet in your local post office.detail->\n",
      "<-I picked up a virus while I was in America.pickbe->\n",
      "<-I’ll pick my things up later.thinglate->\n",
      "<-She just dropped by to pick up her mail.drop->\n",
      "<-I’ll pick you up at the station.->\n",
      "<-The survivors were picked up by fishing boats from nearby villages.survivorbepickfishboatvillage->\n",
      "<-I picked up a few words of Greek when I was there last year.pickwordbe->\n",
      "<-Mary watched the other dancers to see if she could pick up any tips.watchdancercantip->\n",
      "<-I picked up a faint smell of coffee.pick->\n",
      "<-The dogs picked up the scent and raced off.dogpickrace->\n",
      "<-We picked up their tracks again on the other side of the river.picktrack->\n",
      "<-The sensors pick up faint vibrations in the Earth.sensorvibration->\n",
      "<-I managed to pick up an American news broadcast.manage->\n",
      "<-young women sitting around in bars waiting to be picked upwomansitbarwaitpick->\n",
      "<-We’ll meet again in the morning and we can pick up where we left off.leave->\n",
      "<-I’d like to pick up what you said earlier.sayearly->\n",
      "<-This same theme is picked up in his later works.bepicklatework->\n",
      "<-Her social life was picking up at last.bepick->\n",
      "<-The economy is finally beginning to pick up again.bebegin->\n",
      "<-We’ve been through a bit of a bad patch, but things are picking up again now.bebitethingbepick->\n",
      "<-We take the A14 to Birmingham and then pick up the M5.->\n",
      "<-The train was gradually picking up speed.bepick->\n",
      "<-Why should the taxpayer pick up the tab for mistakes made by a private company?shallmistakemake->\n",
      "<-I like the way the curtains pick up the red in the rug.curtain->\n",
      "<-He was picked up by police as he was trying to leave the country.bepickbetry->\n",
      "<-Thousands of victims of the earthquake are now faced with the task of picking up the pieces of their lives.victimbefacepickpiecelive->\n",
      "<-Now that the war was over they could pick up the threads of their lives again.becanthreadlive->\n",
      "<-I’m tired of picking up after you!tirepick->\n",
      "<-Children pick up on our worries and anxieties.childworryanxiety->\n",
      "<-I’d like to pick up on a point that Steven made earlier.makeearly->\n",
      "<-I knew he was lying and I should have picked him up on it.knowbelieshallpick\n"
     ]
    }
   ],
   "source": [
    "\n",
    "print(df_tst['EXAMPLE'][0])"
   ]
  },
  {
   "cell_type": "code",
   "execution_count": 26,
   "metadata": {
    "collapsed": false
   },
   "outputs": [
    {
     "name": "stdout",
     "output_type": "stream",
     "text": [
      "<span class=\"POS\"><span> </span>verb</span>\n"
     ]
    },
    {
     "data": {
      "text/plain": [
       "' verb'"
      ]
     },
     "execution_count": 26,
     "metadata": {},
     "output_type": "execute_result"
    }
   ],
   "source": [
    "a.get_all()"
   ]
  },
  {
   "cell_type": "code",
   "execution_count": 10,
   "metadata": {
    "collapsed": false
   },
   "outputs": [
    {
     "data": {
      "text/plain": [
       "'verb'"
      ]
     },
     "execution_count": 10,
     "metadata": {},
     "output_type": "execute_result"
    }
   ],
   "source": [
    "a.get_pos()"
   ]
  },
  {
   "cell_type": "code",
   "execution_count": null,
   "metadata": {
    "collapsed": true
   },
   "outputs": [],
   "source": []
  }
 ],
 "metadata": {
  "kernelspec": {
   "display_name": "Python 3",
   "language": "python",
   "name": "python3"
  },
  "language_info": {
   "codemirror_mode": {
    "name": "ipython",
    "version": 3
   },
   "file_extension": ".py",
   "mimetype": "text/x-python",
   "name": "python",
   "nbconvert_exporter": "python",
   "pygments_lexer": "ipython3",
   "version": "3.5.2"
  }
 },
 "nbformat": 4,
 "nbformat_minor": 1
}
