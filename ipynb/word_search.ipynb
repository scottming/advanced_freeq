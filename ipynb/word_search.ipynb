{
 "cells": [
  {
   "cell_type": "code",
   "execution_count": 1,
   "metadata": {
    "collapsed": true
   },
   "outputs": [],
   "source": [
    "import pandas as pd\n",
    "import re"
   ]
  },
  {
   "cell_type": "code",
   "execution_count": 2,
   "metadata": {
    "collapsed": false
   },
   "outputs": [],
   "source": [
    "with open('En-Ch CollinsCOBUILD.txt') as myfile:\n",
    "    data = myfile.read()"
   ]
  },
  {
   "cell_type": "code",
   "execution_count": 7,
   "metadata": {
    "collapsed": false
   },
   "outputs": [],
   "source": [
    "# p = re.compile(r'==')\n",
    "#p = re.compile(r'\\n')\n",
    "p = re.compile(r'\\n\\xa0\\xa0')\n",
    "data1 = p.sub(r'==', data)\n",
    "p1 = re.compile(r'\\n')\n",
    "d = p1.split(data1)\n",
    "dic = pd.DataFrame(d, columns=['Meaning'])"
   ]
  },
  {
   "cell_type": "code",
   "execution_count": 36,
   "metadata": {
    "collapsed": true
   },
   "outputs": [],
   "source": [
    "pattern = 'walk.*\\soff\\s'"
   ]
  },
  {
   "cell_type": "code",
   "execution_count": 37,
   "metadata": {
    "collapsed": false
   },
   "outputs": [],
   "source": [
    "df_search = dic[dic['Meaning'].str.contains(pattern, na=False)]"
   ]
  },
  {
   "cell_type": "code",
   "execution_count": 43,
   "metadata": {
    "collapsed": false
   },
   "outputs": [],
   "source": [
    "lst = list(df_search['Meaning'].values)\n",
    "searched = '\\n\\n'.join(lst)"
   ]
  },
  {
   "cell_type": "code",
   "execution_count": 42,
   "metadata": {
    "collapsed": false
   },
   "outputs": [
    {
     "name": "stdout",
     "output_type": "stream",
     "text": [
      "The driver told us to mind/watch our step (= walk carefully) as we got off the bus.\n",
      "我们下公车时，司机提醒我们当心脚。\n",
      "\n",
      "■to walk on your toes with the heel of your foot lifted off the ground, especially in order not to make a noise \n",
      "用脚尖走；踮着脚走（脚后跟离开地面，用脚尖行走，尤其是为了避免发出噪音）\n",
      "\n",
      "She walked straight into a well-paid job after leaving university.\n",
      "她一离开大学便轻松获得了一份工资很高的工作。UK verb ==Phrasal Verbs   walk off (somewhere) \n",
      "\n",
      "She threatened to walk off the film set because of the conditions.\n",
      "她曾因工作条件问题而威胁要离开拍摄场地。\n",
      "\n",
      "He refused to discuss it and just walked off in a huff.\n",
      "他拒绝谈论这个问题并气冲冲地离开了。UK verb ==Phrasal Verbs   [M] walk sth off \n",
      "\n",
      "I'm going out to walk off this headache.\n",
      "我要出去散散步，以缓解头痛的症状。\n",
      "\n",
      "Let's go to the park and walk off all that lunch.\n",
      "午饭吃得太多，我们去公园散散步，消化一下肚子吧。UK verb ==Phrasal Verbs   walk off with sth \n",
      "\n",
      "She walked off with the top prize.\n",
      "她轻松地拿到了头奖。\n",
      "\n",
      "Who's walked off with my cup?\n",
      "谁把我的杯子偷走了？UK verb ==Phrasal Verbs   walk out \n",
      "\n",
      "She walked quickly, occasionally breaking into a run (= starting to run).\n",
      "她快步走着，时而跑几步。verb (broke, broken)==Phrasal Verbs   [M] break sth off \n",
      "\n",
      "Some fuckwit walked off with my bag.\n",
      "不知哪个白痴偷走了我的袋子。\n",
      "\n",
      "That's twice now he's just walked in here without so much as a by-your-leave and picked a book off the shelf!\n",
      "他已经两次未经允许就走进来从书架上取书了！\n",
      "\n",
      "We went out for a while to walk off some of our dinner.\n",
      "我们出去走了走，消化一下晚餐吃的东西。\n",
      "\n",
      "He walked off and left us on our own.\n",
      "他拂袖而去，丢下我们不管。\n"
     ]
    }
   ],
   "source": [
    "p2 = re.compile(r'\\xa0\\xa0\\xa0')\n",
    "got = p2.sub(r'\\n', searched)\n",
    "print(got)"
   ]
  }
 ],
 "metadata": {
  "kernelspec": {
   "display_name": "Python 3",
   "language": "python",
   "name": "python3"
  },
  "language_info": {
   "codemirror_mode": {
    "name": "ipython",
    "version": 3
   },
   "file_extension": ".py",
   "mimetype": "text/x-python",
   "name": "python",
   "nbconvert_exporter": "python",
   "pygments_lexer": "ipython3",
   "version": "3.5.2"
  }
 },
 "nbformat": 4,
 "nbformat_minor": 1
}
