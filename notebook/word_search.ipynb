{
 "cells": [
  {
   "cell_type": "code",
   "execution_count": 1,
   "metadata": {
    "collapsed": true
   },
   "outputs": [],
   "source": [
    "import os\n",
    "import re\n",
    "import pandas as pd"
   ]
  },
  {
   "cell_type": "code",
   "execution_count": 2,
   "metadata": {
    "collapsed": true
   },
   "outputs": [],
   "source": [
    "with open('../dictionary/En-Ch_CollinsCOBUILD.txt') as myfile:\n",
    "    col_data = myfile.read()"
   ]
  },
  {
   "cell_type": "code",
   "execution_count": 3,
   "metadata": {
    "collapsed": true
   },
   "outputs": [],
   "source": [
    "freq_data = pd.read_csv('tst.csv')"
   ]
  },
  {
   "cell_type": "code",
   "execution_count": 4,
   "metadata": {
    "collapsed": true
   },
   "outputs": [],
   "source": [
    "def find_col_mean(dic_data, freq_data):\n",
    "\n",
    "    p = re.compile(r'\\n\\n\\n\\n')\n",
    "    d = p.split(dic_data) # apply words\n",
    "    df_dic = pd.DataFrame(d, columns=['Meaning'])\n",
    "    df_dic['Word'] = df_dic.Meaning.str.extract('(★☆☆\\s\\s\\s.*)\\n', expand=False)  # extract the words line\n",
    "\n",
    "    df_dic = df_dic.loc[:, ['Word', 'Meaning']]\n",
    "    f = lambda x: str(x)[6:]\n",
    "    df_dic['Word'] = df_dic.Word.apply(f)  # deep extract\n",
    "\n",
    "    mean_data = pd.merge(df_dic, freq_data, on='Word').sort_values(\n",
    "                        ['Freq', 'Word'], ascending=False)\n",
    "    lst = list(mean_data.Meaning.values)\n",
    "    return lst"
   ]
  },
  {
   "cell_type": "code",
   "execution_count": 5,
   "metadata": {
    "collapsed": false
   },
   "outputs": [],
   "source": [
    "with open('../dictionary/En-Ch_Oxford_Advanced_Leaners_Dictionary.txt') as myfile1:\n",
    "    oxf_data = myfile1.read()"
   ]
  },
  {
   "cell_type": "code",
   "execution_count": 6,
   "metadata": {
    "collapsed": true
   },
   "outputs": [],
   "source": [
    "def find_oxf_mean(dic_data, freq_data):\n",
    "\n",
    "    p = re.compile(r'\\n\\n\\n')\n",
    "    d = p.split(dic_data) # apply words\n",
    "    df_dic = pd.DataFrame(d, columns=['Meaning'])\n",
    "    df_dic['Word'] = df_dic.Meaning.str.extract('(★☆☆\\s\\s\\s.*)\\n', expand=False)  # extract the words line\n",
    "\n",
    "    df_dic = df_dic.loc[:, ['Word', 'Meaning']]\n",
    "    f = lambda x: str(x)[6:] \n",
    "    df_dic['Word'] = df_dic.Word.apply(f) # deep extract\n",
    "\n",
    "    mean_data = pd.merge(df_dic, freq_data, on='Word').sort_values(\n",
    "                        ['Freq', 'Word'], ascending=False)\n",
    "    return mean_data\n",
    "    lst = list(mean_data.Meaning.values)\n",
    "    return lst"
   ]
  },
  {
   "cell_type": "code",
   "execution_count": 7,
   "metadata": {
    "collapsed": false
   },
   "outputs": [
    {
     "data": {
      "text/plain": [
       "1407"
      ]
     },
     "execution_count": 7,
     "metadata": {},
     "output_type": "execute_result"
    }
   ],
   "source": [
    "len(freq_data)"
   ]
  },
  {
   "cell_type": "code",
   "execution_count": 9,
   "metadata": {
    "collapsed": true
   },
   "outputs": [],
   "source": [
    "lst = find_oxf_mean(oxf_data, freq_data)"
   ]
  },
  {
   "cell_type": "code",
   "execution_count": null,
   "metadata": {
    "collapsed": true
   },
   "outputs": [],
   "source": [
    "lst.jo"
   ]
  }
 ],
 "metadata": {
  "kernelspec": {
   "display_name": "Python 3",
   "language": "python",
   "name": "python3"
  },
  "language_info": {
   "codemirror_mode": {
    "name": "ipython",
    "version": 3
   },
   "file_extension": ".py",
   "mimetype": "text/x-python",
   "name": "python",
   "nbconvert_exporter": "python",
   "pygments_lexer": "ipython3",
   "version": "3.5.2"
  }
 },
 "nbformat": 4,
 "nbformat_minor": 1
}
